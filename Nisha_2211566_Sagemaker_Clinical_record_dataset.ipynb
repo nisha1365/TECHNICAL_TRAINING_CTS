{
  "nbformat": 4,
  "nbformat_minor": 0,
  "metadata": {
    "colab": {
      "provenance": [],
      "authorship_tag": "ABX9TyMB4rJbIKjQ+z6E9JX3pF7o",
      "include_colab_link": true
    },
    "kernelspec": {
      "name": "python3",
      "display_name": "Python 3"
    },
    "language_info": {
      "name": "python"
    }
  },
  "cells": [
    {
      "cell_type": "markdown",
      "metadata": {
        "id": "view-in-github",
        "colab_type": "text"
      },
      "source": [
        "<a href=\"https://colab.research.google.com/github/nisha1365/TECHNICAL_TRAINING_CTS/blob/main/Nisha_2211566_Sagemaker_Clinical_record_dataset.ipynb\" target=\"_parent\"><img src=\"https://colab.research.google.com/assets/colab-badge.svg\" alt=\"Open In Colab\"/></a>"
      ]
    },
    {
      "cell_type": "code",
      "execution_count": null,
      "metadata": {
        "id": "fTUV-BLy90Be"
      },
      "outputs": [],
      "source": []
    },
    {
      "cell_type": "markdown",
      "source": [],
      "metadata": {
        "id": "ib3LZFlUASV4"
      }
    },
    {
      "cell_type": "code",
      "source": [
        "!pip install s3fs\n",
        " \n",
        "import boto3\n",
        "import sagemaker\n",
        "from sagemaker.session import Session"
      ],
      "metadata": {
        "id": "acv9M83GAiox"
      },
      "execution_count": null,
      "outputs": []
    },
    {
      "cell_type": "code",
      "source": [
        "region = boto3.Session().region_name\n",
        " \n",
        "boto_session = boto3.Session(region_name=region)\n",
        " \n",
        "sagemaker_client = boto_session.client(service_name='sagemaker', region_name=region)\n",
        "featurestore_runtime = boto_session.client(service_name='sagemaker-featurestore-runtime', region_name=region)\n",
        " \n",
        "feature_store_session = Session(\n",
        "    boto_session=boto_session,\n",
        "    sagemaker_client=sagemaker_client,\n",
        "    sagemaker_featurestore_runtime_client=featurestore_runtime\n",
        ")"
      ],
      "metadata": {
        "id": "2GB_K4aZAjwz"
      },
      "execution_count": null,
      "outputs": []
    },
    {
      "cell_type": "markdown",
      "source": [
        "Set up S3 Bucket for the OfflineStore"
      ],
      "metadata": {
        "id": "hC3PiiyoAwqH"
      }
    },
    {
      "cell_type": "code",
      "source": [
        "# change the bucket name to your desired bucket name \n",
        "default_s3_bucket_name = feature_store_session.default_bucket()\n",
        "prefix = 'feature-store'\n",
        " \n",
        "print(default_s3_bucket_name)"
      ],
      "metadata": {
        "id": "XOAFyDhfAZ8F"
      },
      "execution_count": null,
      "outputs": []
    },
    {
      "cell_type": "markdown",
      "source": [
        "Set up IAM Role"
      ],
      "metadata": {
        "id": "XKQxzpE0Bi4v"
      }
    },
    {
      "cell_type": "code",
      "source": [
        "from sagemaker import get_execution_role\n",
        "\n",
        "role = get_execution_role()\n",
        "print(role)"
      ],
      "metadata": {
        "id": "K41pnE35Bgef"
      },
      "execution_count": null,
      "outputs": []
    },
    {
      "cell_type": "markdown",
      "source": [
        "## Inspect *Dataset*"
      ],
      "metadata": {
        "id": "ck5UYAp5BuEw"
      }
    },
    {
      "cell_type": "code",
      "source": [
        "import pandas as pd\n",
        "from IPython.display import display"
      ],
      "metadata": {
        "id": "eLFMCPYRBwvM"
      },
      "execution_count": null,
      "outputs": []
    },
    {
      "cell_type": "code",
      "source": [
        "!aws s3 cp  ./clinical_records_dataset.csv s3://$default_s3_bucket_name/$prefix/data/"
      ],
      "metadata": {
        "id": "LdvjTjD9CaJ2"
      },
      "execution_count": null,
      "outputs": []
    },
    {
      "cell_type": "code",
      "source": [
        "clinical_data_file_name = 'clinical_records_dataset.csv'\n",
        "clinical_data_path = \"s3://{}/{}/data/{}\".format(default_s3_bucket_name, prefix, clinical_data_file_name)\n",
        "clinical = pd.read_csv(clinical_data_path)\n",
        "pd.set_option('display.max_columns', 500)\n",
        "clinical.head()"
      ],
      "metadata": {
        "id": "Pw2NPY6_BtPr"
      },
      "execution_count": null,
      "outputs": []
    },
    {
      "cell_type": "code",
      "source": [
        "print ('percentage of the value missing in each column is: ')\n",
        "clinical.isnull().sum() / len(clinical)"
      ],
      "metadata": {
        "id": "aq4hAPfODIZR"
      },
      "execution_count": null,
      "outputs": []
    },
    {
      "cell_type": "markdown",
      "source": [
        "## Prepare data for feature store"
      ],
      "metadata": {
        "id": "Xgn2HlDqDy1X"
      }
    },
    {
      "cell_type": "markdown",
      "source": [
        "Create a unique ID for each patient"
      ],
      "metadata": {
        "id": "kYXd31GLEPka"
      }
    },
    {
      "cell_type": "code",
      "source": [
        "#### Add an id for each patient\n",
        "clinical.reset_index(inplace = True)\n",
        "clinical.rename(columns = {'index': 'patient_id'}, inplace = True)"
      ],
      "metadata": {
        "id": "AhFA9oW6ETHu"
      },
      "execution_count": null,
      "outputs": []
    },
    {
      "cell_type": "code",
      "source": [
        "clinical.head()"
      ],
      "metadata": {
        "id": "v3uq4b4YEdgS"
      },
      "execution_count": null,
      "outputs": []
    },
    {
      "cell_type": "code",
      "source": [
        "clinical.tail()"
      ],
      "metadata": {
        "id": "QKafil8fElUb"
      },
      "execution_count": null,
      "outputs": []
    },
    {
      "cell_type": "code",
      "source": [
        "clinical.dtypes"
      ],
      "metadata": {
        "id": "FL4Ej2YsEoHx"
      },
      "execution_count": null,
      "outputs": []
    },
    {
      "cell_type": "code",
      "source": [
        "clinical['patient_id'] = clinical['patient_id'].astype(object)"
      ],
      "metadata": {
        "id": "AOY5HkuvEqey"
      },
      "execution_count": null,
      "outputs": []
    },
    {
      "cell_type": "code",
      "source": [
        "clinical.info()"
      ],
      "metadata": {
        "id": "eB7Undi_FFgO"
      },
      "execution_count": null,
      "outputs": []
    },
    {
      "cell_type": "markdown",
      "source": [
        "Create a TimeStamp for each record"
      ],
      "metadata": {
        "id": "6hdm8o_xE4tn"
      }
    },
    {
      "cell_type": "code",
      "source": [
        "import time\n",
        " \n",
        "current_time_sec = int(round(time.time()))\n",
        "# append EventTime feature\n",
        "clinical['EventTime'] = pd.Series([current_time_sec]*len(clinical), dtype=\"float64\")\n"
      ],
      "metadata": {
        "id": "NmEoVSgIE7yl"
      },
      "execution_count": null,
      "outputs": []
    },
    {
      "cell_type": "markdown",
      "source": [
        "Check data types for each column"
      ],
      "metadata": {
        "id": "tRuMPZHGFdvJ"
      }
    },
    {
      "cell_type": "code",
      "source": [
        "def cast_object_to_string(data_frame):\n",
        "    for label in data_frame.columns:\n",
        "        if data_frame.dtypes[label] == 'object':\n",
        "            data_frame[label] = data_frame[label].astype(\"str\").astype(\"string\")\n",
        " \n",
        "# cast object dtype to string. The SageMaker Feature Store Python SDK will then map the string dtype to\n",
        "# String feature type.\n",
        "cast_object_to_string(clinical)"
      ],
      "metadata": {
        "id": "h7qsbTbFD2V3"
      },
      "execution_count": null,
      "outputs": []
    },
    {
      "cell_type": "code",
      "source": [
        "clinical.dtypes"
      ],
      "metadata": {
        "id": "rFFO3ldcDgwU"
      },
      "execution_count": null,
      "outputs": []
    },
    {
      "cell_type": "markdown",
      "source": [
        "Create Features"
      ],
      "metadata": {
        "id": "EVAEzJBPF8lZ"
      }
    },
    {
      "cell_type": "markdown",
      "source": [
        "Assign a feature  group name"
      ],
      "metadata": {
        "id": "UkIlwQBHKM-f"
      }
    },
    {
      "cell_type": "code",
      "source": [
        "from time import gmtime, strftime, sleep\n",
        "\n",
        "clinical_feature_group_name = 'clinical-feature-group-' + strftime('%d-%H-%M-%S', gmtime())"
      ],
      "metadata": {
        "id": "pLjC0exRGHmN"
      },
      "execution_count": null,
      "outputs": []
    },
    {
      "cell_type": "markdown",
      "source": [
        "Create a FeatureGroup"
      ],
      "metadata": {
        "id": "B1eaWDQCKX0T"
      }
    },
    {
      "cell_type": "code",
      "source": [
        "from sagemaker.feature_store.feature_group import FeatureGroup\n",
        "\n",
        "clinical_feature_group = FeatureGroup(name=clinical_feature_group_name, sagemaker_session=feature_store_session)"
      ],
      "metadata": {
        "id": "AA3XttDVKWU7"
      },
      "execution_count": null,
      "outputs": []
    },
    {
      "cell_type": "markdown",
      "source": [
        "Define Identifier"
      ],
      "metadata": {
        "id": "F5ygIL__KmDi"
      }
    },
    {
      "cell_type": "code",
      "source": [
        "# record identifier and event time feature names\n",
        "record_identifier_feature_name = \"patient_id\"\n",
        "event_time_feature_name = \"EventTime\""
      ],
      "metadata": {
        "id": "zmjrnSn-Krao"
      },
      "execution_count": null,
      "outputs": []
    },
    {
      "cell_type": "markdown",
      "source": [
        "Load feature definations to the feature group"
      ],
      "metadata": {
        "id": "Z3raIynlLPcb"
      }
    },
    {
      "cell_type": "code",
      "source": [
        "clinical_feature_group.load_feature_definitions(data_frame=clinical); # output is suppressed"
      ],
      "metadata": {
        "id": "TN9dEmveLTFv"
      },
      "execution_count": null,
      "outputs": []
    },
    {
      "cell_type": "markdown",
      "source": [
        "Create Feature Group"
      ],
      "metadata": {
        "id": "XSb4sLj1LnQm"
      }
    },
    {
      "cell_type": "code",
      "source": [
        "def wait_for_feature_group_creation_complete(feature_group):\n",
        "    status = feature_group.describe().get(\"FeatureGroupStatus\")\n",
        "    while status == \"Creating\":\n",
        "        print(\"Waiting for Feature Group Creation\")\n",
        "        time.sleep(5)\n",
        "        status = feature_group.describe().get(\"FeatureGroupStatus\")\n",
        "    if status != \"Created\":\n",
        "        raise RuntimeError(f\"Failed to create feature group {feature_group.name}\")\n",
        "    print(f\"FeatureGroup {feature_group.name} successfully created.\")\n",
        " \n",
        "clinical_feature_group.create(\n",
        "    s3_uri=f\"s3://{default_s3_bucket_name}/{prefix}\", #offline feature store bucket\n",
        "    record_identifier_name=record_identifier_feature_name,\n",
        "    event_time_feature_name=event_time_feature_name,\n",
        "    role_arn=role,\n",
        "    enable_online_store=True\n",
        ")\n",
        "wait_for_feature_group_creation_complete(feature_group=clinical_feature_group)"
      ],
      "metadata": {
        "id": "humvTRpfL72V"
      },
      "execution_count": null,
      "outputs": []
    },
    {
      "cell_type": "markdown",
      "source": [
        "Work with your FeatureGroup"
      ],
      "metadata": {
        "id": "IgOCvQPlMK0y"
      }
    },
    {
      "cell_type": "code",
      "source": [
        "clinical_feature_group.describe()"
      ],
      "metadata": {
        "id": "0q9_6uphMOmP"
      },
      "execution_count": null,
      "outputs": []
    },
    {
      "cell_type": "code",
      "source": [
        "sagemaker_client.list_feature_groups() # use boto client to list FeatureGroups"
      ],
      "metadata": {
        "id": "8Rlupum9MSgk"
      },
      "execution_count": null,
      "outputs": []
    },
    {
      "cell_type": "markdown",
      "source": [
        "Put Records into the Feature Store"
      ],
      "metadata": {
        "id": "KcIdV3IiMuTI"
      }
    },
    {
      "cell_type": "code",
      "source": [
        "clinical_feature_group.ingest(\n",
        "    data_frame=clinical, max_workers=3, wait=True\n",
        ")"
      ],
      "metadata": {
        "id": "BazZ5e75Mxeq"
      },
      "execution_count": null,
      "outputs": []
    },
    {
      "cell_type": "markdown",
      "source": [
        "Get Records from a Feature Group"
      ],
      "metadata": {
        "id": "cCNjIIMaQhCV"
      }
    },
    {
      "cell_type": "code",
      "source": [
        "record_identifier_value = str(200)\n",
        " \n",
        "featurestore_runtime.get_record(FeatureGroupName=clinical_feature_group_name, RecordIdentifierValueAsString=record_identifier_value)"
      ],
      "metadata": {
        "id": "faE2qk4AQlD2"
      },
      "execution_count": null,
      "outputs": []
    },
    {
      "cell_type": "markdown",
      "source": [
        "Generate Hive DDL Commands"
      ],
      "metadata": {
        "id": "Nwcby5ZPQ99o"
      }
    },
    {
      "cell_type": "code",
      "source": [
        "print(clinical_feature_group.as_hive_ddl())"
      ],
      "metadata": {
        "id": "nTxGYIwFRBVD"
      },
      "execution_count": null,
      "outputs": []
    },
    {
      "cell_type": "code",
      "source": [
        "%%time\n",
        "s3_client = boto3.client('s3', region_name=region)\n",
        " \n",
        "account_id = boto3.client('sts').get_caller_identity()[\"Account\"]\n",
        " \n",
        "clinical_feature_group_table_name = clinical_feature_group.describe().get('OfflineStoreConfig').get('DataCatalogConfig').get('TableName')\n",
        " \n",
        "print(account_id)\n",
        "print(clinical_feature_group_table_name)\n",
        " \n",
        "clinical_feature_group_s3_prefix = prefix + '/' + account_id + '/sagemaker/' + region + '/offline-store/' + clinical_feature_group_table_name + '/data'\n",
        " \n",
        "offline_store_contents = None\n",
        "while (offline_store_contents is None):\n",
        "    objects_in_bucket = s3_client.list_objects(Bucket=default_s3_bucket_name, Prefix=clinical_feature_group_s3_prefix)\n",
        "    if ('Contents' in objects_in_bucket and len(objects_in_bucket['Contents']) >= 1):\n",
        "        offline_store_contents = objects_in_bucket['Contents']\n",
        "    else:\n",
        "        print('Waiting for data in offline store...\\n')\n",
        "        sleep(60)\n",
        "\n",
        "print('Data available.')"
      ],
      "metadata": {
        "id": "B8JvoRHBRRaU"
      },
      "execution_count": null,
      "outputs": []
    },
    {
      "cell_type": "markdown",
      "source": [
        "BUILD A TRAINING DATASET"
      ],
      "metadata": {
        "id": "u4-YA1zzSPD-"
      }
    },
    {
      "cell_type": "code",
      "source": [
        "clinical_query = clinical_feature_group.athena_query()\n",
        "clinical_table = clinical_query.table_name"
      ],
      "metadata": {
        "id": "9btfk4-NSSO7"
      },
      "execution_count": null,
      "outputs": []
    },
    {
      "cell_type": "code",
      "source": [
        "# Athena query\n",
        "query_string = 'SELECT * FROM \"'+clinical_table+'\" LIMIT 290'\n",
        " \n",
        "# run Athena query. The output is loaded to a Pandas dataframe.\n",
        "dataset = pd.DataFrame()\n",
        "clinical_query.run(query_string=query_string, output_location='s3://'+default_s3_bucket_name+'/query_results/')\n",
        "clinical_query.wait()\n",
        "dataset = clinical_query.as_dataframe()"
      ],
      "metadata": {
        "id": "OrapIB1lSsYV"
      },
      "execution_count": null,
      "outputs": []
    },
    {
      "cell_type": "code",
      "source": [
        "id_for_test = []\n",
        "for i in range(299):\n",
        "    if i not in dataset['patient_id'].unique():\n",
        "        id_for_test.append(i)"
      ],
      "metadata": {
        "id": "62KkNP6OS7wb"
      },
      "execution_count": null,
      "outputs": []
    },
    {
      "cell_type": "markdown",
      "source": [
        "Preparing dataset for training"
      ],
      "metadata": {
        "id": "OClySdbpS9iB"
      }
    },
    {
      "cell_type": "code",
      "source": [
        "# Prepare query results for training.\n",
        "query_execution = clinical_query.get_query_execution()\n",
        "query_result = 's3://'+default_s3_bucket_name+'/'+prefix+'/query_results/'+query_execution['QueryExecution']['QueryExecutionId']+'.csv'\n",
        "print(query_result)"
      ],
      "metadata": {
        "id": "WvB06VuMTLyv"
      },
      "execution_count": null,
      "outputs": []
    },
    {
      "cell_type": "code",
      "source": [
        "# Select useful columns for training with target column as the first.\n",
        "dataset = dataset[[\"death_event\", \"age\", 'anaemia', 'creatinine_phosphokinase', 'diabetes',\n",
        "       'ejection_fraction', 'high_blood_pressure', 'platelets',\n",
        "       'serum_creatinine', 'serum_sodium', 'sex', 'smoking', 'time']]\n",
        "# Write to csv in S3 without headers and index column.\n",
        "dataset.to_csv('dataset.csv', header=False, index=False)\n",
        "s3_client.upload_file('dataset.csv', default_s3_bucket_name, prefix+'/training_input/dataset.csv')\n",
        "dataset_uri_prefix = 's3://'+default_s3_bucket_name+'/'+prefix+'/training_input/';"
      ],
      "metadata": {
        "id": "_PiIrTKOTMZ3"
      },
      "execution_count": null,
      "outputs": []
    },
    {
      "cell_type": "code",
      "source": [
        "dataset.head(2)"
      ],
      "metadata": {
        "id": "4__fqE5ATafn"
      },
      "execution_count": null,
      "outputs": []
    },
    {
      "cell_type": "markdown",
      "source": [
        "## Train and Deploy the Model"
      ],
      "metadata": {
        "id": "lea5_Ap_TeVG"
      }
    }
  ]
}