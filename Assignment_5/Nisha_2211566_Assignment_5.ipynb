{
  "nbformat": 4,
  "nbformat_minor": 0,
  "metadata": {
    "colab": {
      "provenance": []
    },
    "kernelspec": {
      "name": "python3",
      "display_name": "Python 3"
    },
    "language_info": {
      "name": "python"
    }
  },
  "cells": [
    {
      "cell_type": "markdown",
      "source": [
        "# The Basics : Training Your First Neural Network\n",
        "\n",
        "1. We will use Tensorflow\n",
        "2. Keras is integrated into tf\n",
        "3. Train with the given data \n",
        "4. Improve the model with added data\n",
        "\n"
      ],
      "metadata": {
        "id": "cfcVKahiZ6bR"
      }
    },
    {
      "cell_type": "code",
      "source": [
        "import tensorflow as tf"
      ],
      "metadata": {
        "id": "HrALzlUgapLC"
      },
      "execution_count": null,
      "outputs": []
    },
    {
      "cell_type": "code",
      "source": [
        "tf.__version__"
      ],
      "metadata": {
        "colab": {
          "base_uri": "https://localhost:8080/",
          "height": 35
        },
        "id": "3ZuUo_GBbt0N",
        "outputId": "58f7b0f1-da23-4bdc-ef44-56ad82afbd8e"
      },
      "execution_count": null,
      "outputs": [
        {
          "output_type": "execute_result",
          "data": {
            "text/plain": [
              "'2.9.2'"
            ],
            "application/vnd.google.colaboratory.intrinsic+json": {
              "type": "string"
            }
          },
          "metadata": {},
          "execution_count": 61
        }
      ]
    },
    {
      "cell_type": "markdown",
      "source": [
        "Importing the necessay libraries"
      ],
      "metadata": {
        "id": "hEgHsQf5NQ_k"
      }
    },
    {
      "cell_type": "code",
      "source": [
        "import numpy as np\n",
        "import logging\n",
        "logger = tf.get_logger()\n",
        "logger.setLevel(logging.ERROR)"
      ],
      "metadata": {
        "id": "xnIitSCScfUa"
      },
      "execution_count": null,
      "outputs": []
    },
    {
      "cell_type": "markdown",
      "source": [
        "## Setting up training data"
      ],
      "metadata": {
        "id": "fpzP5znmetZd"
      }
    },
    {
      "cell_type": "markdown",
      "source": [
        "As we saw before, supervised Machine Learning is all about figuring out an algorithm given a set of inputs and outputs.\n",
        "Since the task in this codelab is to create a model that can give the temperature in Fahrenheit."
      ],
      "metadata": {
        "id": "qeO_XhqDe00N"
      }
    },
    {
      "cell_type": "code",
      "source": [
        "celsius_q    = np.array([-40, -10,  0,  8, 15, 22,  38,65,24,77],  dtype=float)\n",
        "fahrenheit_a = np.array([-40,  14, 32, 46, 59, 72, 100,149,75.2,170.6],  dtype=float)\n",
        "for i,c in enumerate(celsius_q):\n",
        "  print(\"{} degrees Celsius = {} degrees Fahrenheit\".format(c, fahrenheit_a[i]))\n",
        "\n"
      ],
      "metadata": {
        "colab": {
          "base_uri": "https://localhost:8080/"
        },
        "id": "WpIGc59vewwl",
        "outputId": "585708b1-e4db-4af7-cacd-9d094d890a5b"
      },
      "execution_count": null,
      "outputs": [
        {
          "output_type": "stream",
          "name": "stdout",
          "text": [
            "-40.0 degrees Celsius = -40.0 degrees Fahrenheit\n",
            "-10.0 degrees Celsius = 14.0 degrees Fahrenheit\n",
            "0.0 degrees Celsius = 32.0 degrees Fahrenheit\n",
            "8.0 degrees Celsius = 46.0 degrees Fahrenheit\n",
            "15.0 degrees Celsius = 59.0 degrees Fahrenheit\n",
            "22.0 degrees Celsius = 72.0 degrees Fahrenheit\n",
            "38.0 degrees Celsius = 100.0 degrees Fahrenheit\n",
            "65.0 degrees Celsius = 149.0 degrees Fahrenheit\n",
            "24.0 degrees Celsius = 75.2 degrees Fahrenheit\n",
            "77.0 degrees Celsius = 170.6 degrees Fahrenheit\n"
          ]
        }
      ]
    },
    {
      "cell_type": "markdown",
      "source": [
        "Machine Learning Terminology Feature - The input(s) to our model. In this case, a single value -- the degrees in celsius.\n",
        "\n",
        "Labels - The Output our model predicts. In this case, a single value --the degrees in Fahrenheit.\n",
        "\n",
        "Example - A pair of input/outputs used during training. In our case a pair of values from celsius_q and farenheit_a at a specific index such as (22.72)"
      ],
      "metadata": {
        "id": "WOYJsBntHe6d"
      }
    },
    {
      "cell_type": "markdown",
      "source": [
        "Machine Learning Terminology Feature - "
      ],
      "metadata": {
        "id": "adx7EuN8f5tG"
      }
    },
    {
      "cell_type": "markdown",
      "source": [
        "## Create the model"
      ],
      "metadata": {
        "id": "R1vKPE_bgJW5"
      }
    },
    {
      "cell_type": "markdown",
      "source": [
        "Next, create the model. We will use the simplest possible model we can ,a Dense network. Since the problem is straightforward, this network will require only a single layer, with a single neuron.\n",
        "\n",
        "### Build a layer\n",
        "\n",
        "We'll call the layer 'l0' and create it by instantiating tf.keras.layers.Dense' with the following configuration.\n",
        "\n",
        "* 'input_shape= = [1]' - This specifies that the input to this layer is a single valye. That is, the shape is a one - dimensional array with one member. Since this is the first layer, that input shape is the input shape of the entire model. The single value is a floating point number, representing degrees celsius.\n",
        "\n",
        "* 'units = 1' - This specifies the number of neurons in the layer. The number of neurons defines how many internal variables the layer has to try to learn how to solve the problem. Since this is the final layer, it is also the size of the model's output - a single float value representing degrees Farenheit.(In a multi layered network, the size and shape of the layer would need to match the input_shape of the next layer)"
      ],
      "metadata": {
        "id": "J-UMyGmbI5U2"
      }
    },
    {
      "cell_type": "code",
      "source": [
        "l0 = tf.keras.layers.Dense(units=1,input_shape=[1])"
      ],
      "metadata": {
        "id": "wluVfkq5cir1"
      },
      "execution_count": null,
      "outputs": []
    },
    {
      "cell_type": "markdown",
      "source": [
        "### Assemble layers into the model\n",
        "\n",
        "Once layers are defined, they need to be assembled into a model.The Sequential model defination takes a list of layers as an argument, specifying the calculation order from the input to the output.\n",
        "\n",
        "This model has just a single layer, l0."
      ],
      "metadata": {
        "id": "QaoUhbqEhjhS"
      }
    },
    {
      "cell_type": "code",
      "source": [
        "model = tf.keras.Sequential([l0])"
      ],
      "metadata": {
        "id": "iuZjNqCChy9g"
      },
      "execution_count": null,
      "outputs": []
    },
    {
      "cell_type": "markdown",
      "source": [
        "## Compile the model, with loss and optimizer functions\n",
        "\n",
        "Before training, the model has to be compiled. When compiled for training, the model is given:\n",
        "\n",
        "* **Loss Function **- A way of measuringhow far off predictions are from the desired outcome is called the \"loss\".\n",
        "\n",
        "* Optimizer function - A way of adjusting internal values in order to reduce the loss."
      ],
      "metadata": {
        "id": "fU_1XVMYiOAq"
      }
    },
    {
      "cell_type": "code",
      "source": [
        "model.compile(loss='mean_squared_error',\n",
        "              optimizer=tf.keras.optimizers.Adam(0.1))"
      ],
      "metadata": {
        "id": "neFCuw3Ui5IG"
      },
      "execution_count": null,
      "outputs": []
    },
    {
      "cell_type": "markdown",
      "source": [
        "These are used during training (model.fit(), below) to first caluculate the loss at each point, and then improve it.In fact,the act of calculating the current loss of a model and then improving it is precisely what training is.\n",
        "\n",
        "During training, the optimizer function is used to calcualte adjustments to the model's internal variables.The goal is to adjust the internal vairables until the model mirrors the actual equation for converting celsius to Farenheit."
      ],
      "metadata": {
        "id": "BPJ8dtDEkAQx"
      }
    },
    {
      "cell_type": "code",
      "source": [
        "history = model.fit(celsius_q,fahrenheit_a,epochs=1000,verbose=False)\n",
        "print(\"Finished training the model\")"
      ],
      "metadata": {
        "colab": {
          "base_uri": "https://localhost:8080/"
        },
        "id": "TK9KhzEUkAnw",
        "outputId": "dd3c1514-5e2e-48d8-a271-4709a5dda2f8"
      },
      "execution_count": null,
      "outputs": [
        {
          "output_type": "stream",
          "name": "stdout",
          "text": [
            "Finished training the model\n"
          ]
        }
      ]
    },
    {
      "cell_type": "markdown",
      "source": [
        "## Display training Statistics"
      ],
      "metadata": {
        "id": "vliKeXpUlmAK"
      }
    },
    {
      "cell_type": "markdown",
      "source": [
        "The fit method returns a history object. We can use this object to plot how the loss of our model goes down after each epoch. A high loss means that the Farenheit degrees the model predicts is far from the corresponding value in farenheit_a.\n",
        "\n",
        "We'll use MAtplotlib to visualise this, as you can see, our model improves very quickly at first, and then has a steady, slow improvement until it is very near \"perfect\" towards the end."
      ],
      "metadata": {
        "id": "XvwD0BjZMd6J"
      }
    },
    {
      "cell_type": "code",
      "source": [
        "import matplotlib.pyplot as plt\n",
        "plt.xlabel('Epoch Number')\n",
        "plt.ylabel('Loass Magnitude')\n",
        "plt.plot(history.history['loss']);"
      ],
      "metadata": {
        "colab": {
          "base_uri": "https://localhost:8080/",
          "height": 281
        },
        "id": "_SavoEhDiUHT",
        "outputId": "eb0a8eeb-ec9e-4310-b925-ab6cfce3396a"
      },
      "execution_count": null,
      "outputs": [
        {
          "output_type": "display_data",
          "data": {
            "text/plain": [
              "<Figure size 432x288 with 1 Axes>"
            ],
            "image/png": "[encoded data removed]"
          },
          "metadata": {
            "needs_background": "light"
          }
        }
      ]
    },
    {
      "cell_type": "code",
      "source": [
        "print(model.predict([100.0]))"
      ],
      "metadata": {
        "colab": {
          "base_uri": "https://localhost:8080/"
        },
        "id": "FnuIdTk0hnaa",
        "outputId": "8acd5210-5257-44f0-ce02-2d7d1e978318"
      },
      "execution_count": null,
      "outputs": [
        {
          "output_type": "stream",
          "name": "stdout",
          "text": [
            "1/1 [==============================] - 0s 56ms/step\n",
            "[[212.08795]]\n"
          ]
        }
      ]
    },
    {
      "cell_type": "markdown",
      "source": [
        "## `Value i got is 212.087 which is highly close to 212`"
      ],
      "metadata": {
        "id": "fREb7B15Nl-s"
      }
    },
    {
      "cell_type": "markdown",
      "source": [
        "## Looking at the layer weights\n",
        "\n"
      ],
      "metadata": {
        "id": "moIFet19oL1e"
      }
    },
    {
      "cell_type": "markdown",
      "source": [
        "Finally,let's print the internal variables of the Dense Layer"
      ],
      "metadata": {
        "id": "2BPTspy9HTMd"
      }
    },
    {
      "cell_type": "code",
      "source": [
        "print(\"These are the layer variables: {}\".format(l0.get_weights()))"
      ],
      "metadata": {
        "colab": {
          "base_uri": "https://localhost:8080/"
        },
        "id": "QhDcY3h2ofaW",
        "outputId": "7445152d-528c-4b95-c71e-617b412c6c61"
      },
      "execution_count": null,
      "outputs": [
        {
          "output_type": "stream",
          "name": "stdout",
          "text": [
            "These are the layer variables: [array([[1.8049333]], dtype=float32), array([31.594624], dtype=float32)]\n"
          ]
        }
      ]
    },
    {
      "cell_type": "markdown",
      "source": [
        "The first variable is close to 1.8 and the second to 32. These values(1.8 and 32) are the actual variables in the real conversion formula.\n",
        "\n",
        "This is really close to the values in the conversion formula.\n",
        "\n",
        "Dense layer works, but for a single neuron with a single input and a single output, the internal math looks the same as the equation for a line, y = mx +b, which has the same form as a conversion equation, f = 1.8c+32.\n",
        "\n",
        "Since the form is the same, the variables should converge on the standard values of 1.8 and 32, which is exactly what happened.\n",
        "\n",
        "With additional neurons, additional inputs, and outputs, the formula becomes much more complex, but the idea is the same.\n",
        "\n",
        "A little experiment just for fun, what if we created more Dense layers with different units, which therefore also has more variables."
      ],
      "metadata": {
        "id": "e3Bc415qD_cS"
      }
    },
    {
      "cell_type": "code",
      "source": [
        "l0 = tf.keras.layers.Dense(units=4, input_shape=[1])\n",
        "l1 = tf.keras.layers.Dense(units=4)\n",
        "l2 = tf.keras.layers.Dense(units=1)\n",
        "model = tf.keras.Sequential([l0, l1, l2])\n",
        "model.compile(loss='mean_squared_error', optimizer=tf.keras.optimizers.Adam(0.1))\n",
        "model.fit(celsius_q, fahrenheit_a, epochs=500, verbose=False)\n",
        "print(\"Finished training the model\")\n",
        "print(model.predict([100.0]))\n",
        "print(\"Model predicts that 100 degrees Celsius is: {} degrees Fahrenheit\".format(model.predict([100.0])))\n",
        "print(\"These are the l0 variables: {}\".format(l0.get_weights()))\n",
        "print(\"These are the l1 variables: {}\".format(l1.get_weights()))\n",
        "print(\"These are the l2 variables: {}\".format(l2.get_weights()))"
      ],
      "metadata": {
        "colab": {
          "base_uri": "https://localhost:8080/"
        },
        "id": "bE8rbshwqLc3",
        "outputId": "e4b3e48e-7863-45b2-aad1-18173e3d4932"
      },
      "execution_count": null,
      "outputs": [
        {
          "output_type": "stream",
          "name": "stdout",
          "text": [
            "Finished training the model\n",
            "1/1 [==============================] - 0s 62ms/step\n",
            "[[211.94772]]\n",
            "1/1 [==============================] - 0s 32ms/step\n",
            "Model predicts that 100 degrees Celsius is: [[211.94772]] degrees Fahrenheit\n",
            "These are the l0 variables: [array([[ 0.14770794,  0.37810543, -0.00752315,  0.58689326]],\n",
            "      dtype=float32), array([3.563459 , 3.6307032, 3.5255346, 3.737646 ], dtype=float32)]\n",
            "These are the l1 variables: [array([[ 1.1242515 ,  0.50850654, -0.5775379 ,  0.42675146],\n",
            "       [ 0.79204535, -0.60266006,  0.25583062,  0.9564841 ],\n",
            "       [ 0.6896102 ,  0.1864966 , -0.15182005, -0.2768271 ],\n",
            "       [ 0.7240186 ,  0.12765138,  0.5596688 ,  0.5444887 ]],\n",
            "      dtype=float32), array([ 3.5206232, -2.2063239,  3.4783168,  3.0498443], dtype=float32)]\n",
            "These are the l2 variables: [array([[ 1.4017637 ],\n",
            "       [-0.11175976],\n",
            "       [ 0.3035033 ],\n",
            "       [ 0.598325  ]], dtype=float32), array([3.3863897], dtype=float32)]\n"
          ]
        }
      ]
    },
    {
      "cell_type": "markdown",
      "source": [
        "As you can see, this model is also able to predict the corresponding Farenheit value really well. But when you look at the variables(weights) in the l0 and l1 layers, they are nothing even close to  1.8 and 32. The added complexity hides the \"simple\" form of the conversion equation."
      ],
      "metadata": {
        "id": "Dz5PVkF_DOti"
      }
    }
  ]
}