{
  "nbformat": 4,
  "nbformat_minor": 0,
  "metadata": {
    "colab": {
      "provenance": []
    },
    "kernelspec": {
      "name": "python3",
      "display_name": "Python 3"
    },
    "language_info": {
      "name": "python"
    }
  },
  "cells": [
    {
      "cell_type": "code",
      "execution_count": null,
      "metadata": {
        "colab": {
          "base_uri": "https://localhost:8080/"
        },
        "id": "zxqwDAjuzfTc",
        "outputId": "e120649a-b2f4-49c6-8aa9-25559484b5b0"
      },
      "outputs": [
        {
          "output_type": "stream",
          "name": "stdout",
          "text": [
            "Looking in indexes: https://pypi.org/simple, https://us-python.pkg.dev/colab-wheels/public/simple/\n",
            "Requirement already satisfied: pyspark in /usr/local/lib/python3.7/dist-packages (3.3.0)\n",
            "Requirement already satisfied: py4j==0.10.9.5 in /usr/local/lib/python3.7/dist-packages (from pyspark) (0.10.9.5)\n",
            "The following package was automatically installed and is no longer required:\n",
            "  libnvidia-common-460\n",
            "Use 'apt autoremove' to remove it.\n",
            "The following additional packages will be installed:\n",
            "  openjdk-8-jre-headless\n",
            "Suggested packages:\n",
            "  openjdk-8-demo openjdk-8-source libnss-mdns fonts-dejavu-extra\n",
            "  fonts-ipafont-gothic fonts-ipafont-mincho fonts-wqy-microhei\n",
            "  fonts-wqy-zenhei fonts-indic\n",
            "The following NEW packages will be installed:\n",
            "  openjdk-8-jdk-headless openjdk-8-jre-headless\n",
            "0 upgraded, 2 newly installed, 0 to remove and 27 not upgraded.\n",
            "Need to get 36.6 MB of archives.\n",
            "After this operation, 143 MB of additional disk space will be used.\n",
            "Selecting previously unselected package openjdk-8-jre-headless:amd64.\n",
            "(Reading database ... 123942 files and directories currently installed.)\n",
            "Preparing to unpack .../openjdk-8-jre-headless_8u342-b07-0ubuntu1~18.04_amd64.deb ...\n",
            "Unpacking openjdk-8-jre-headless:amd64 (8u342-b07-0ubuntu1~18.04) ...\n",
            "Selecting previously unselected package openjdk-8-jdk-headless:amd64.\n",
            "Preparing to unpack .../openjdk-8-jdk-headless_8u342-b07-0ubuntu1~18.04_amd64.deb ...\n",
            "Unpacking openjdk-8-jdk-headless:amd64 (8u342-b07-0ubuntu1~18.04) ...\n",
            "Setting up openjdk-8-jre-headless:amd64 (8u342-b07-0ubuntu1~18.04) ...\n",
            "update-alternatives: using /usr/lib/jvm/java-8-openjdk-amd64/jre/bin/orbd to provide /usr/bin/orbd (orbd) in auto mode\n",
            "update-alternatives: using /usr/lib/jvm/java-8-openjdk-amd64/jre/bin/servertool to provide /usr/bin/servertool (servertool) in auto mode\n",
            "update-alternatives: using /usr/lib/jvm/java-8-openjdk-amd64/jre/bin/tnameserv to provide /usr/bin/tnameserv (tnameserv) in auto mode\n",
            "Setting up openjdk-8-jdk-headless:amd64 (8u342-b07-0ubuntu1~18.04) ...\n",
            "update-alternatives: using /usr/lib/jvm/java-8-openjdk-amd64/bin/idlj to provide /usr/bin/idlj (idlj) in auto mode\n",
            "update-alternatives: using /usr/lib/jvm/java-8-openjdk-amd64/bin/wsimport to provide /usr/bin/wsimport (wsimport) in auto mode\n",
            "update-alternatives: using /usr/lib/jvm/java-8-openjdk-amd64/bin/jsadebugd to provide /usr/bin/jsadebugd (jsadebugd) in auto mode\n",
            "update-alternatives: using /usr/lib/jvm/java-8-openjdk-amd64/bin/native2ascii to provide /usr/bin/native2ascii (native2ascii) in auto mode\n",
            "update-alternatives: using /usr/lib/jvm/java-8-openjdk-amd64/bin/javah to provide /usr/bin/javah (javah) in auto mode\n",
            "update-alternatives: using /usr/lib/jvm/java-8-openjdk-amd64/bin/clhsdb to provide /usr/bin/clhsdb (clhsdb) in auto mode\n",
            "update-alternatives: using /usr/lib/jvm/java-8-openjdk-amd64/bin/xjc to provide /usr/bin/xjc (xjc) in auto mode\n",
            "update-alternatives: using /usr/lib/jvm/java-8-openjdk-amd64/bin/hsdb to provide /usr/bin/hsdb (hsdb) in auto mode\n",
            "update-alternatives: using /usr/lib/jvm/java-8-openjdk-amd64/bin/schemagen to provide /usr/bin/schemagen (schemagen) in auto mode\n",
            "update-alternatives: using /usr/lib/jvm/java-8-openjdk-amd64/bin/extcheck to provide /usr/bin/extcheck (extcheck) in auto mode\n",
            "update-alternatives: using /usr/lib/jvm/java-8-openjdk-amd64/bin/jhat to provide /usr/bin/jhat (jhat) in auto mode\n",
            "update-alternatives: using /usr/lib/jvm/java-8-openjdk-amd64/bin/wsgen to provide /usr/bin/wsgen (wsgen) in auto mode\n"
          ]
        }
      ],
      "source": [
        "# This is usually for local usage or as a client to connect to a cluster instead of setting up a cluster itself.\n",
        "\n",
        "!pip install pyspark \n",
        "\n",
        "# software capable of working on a device without a graphical user interface. \n",
        "# nothing will appear on the screen. Everything is done on the backend side invisible to the user.\n",
        "!apt install openjdk-8-jdk-headless -qq\n"
      ]
    },
    {
      "cell_type": "code",
      "source": [
        "#allows us to run a command in the Python script\n",
        "import os\n",
        "os.environ[\"JAVA_HOME\"] = \"/usr/lib/jvm/java-8-openjdk-amd64\" #Setting up the Enviroment"
      ],
      "metadata": {
        "id": "rQTsVIVfzrKx"
      },
      "execution_count": null,
      "outputs": []
    },
    {
      "cell_type": "markdown",
      "source": [
        "PyDrive is a wrapper library of google-api-python-client that simplifies many common Google Drive API tasks."
      ],
      "metadata": {
        "id": "UeK6Ruzq6VR0"
      }
    },
    {
      "cell_type": "code",
      "source": [
        "!pip install -U -q PyDrive"
      ],
      "metadata": {
        "id": "U8hcjeYm0DfT"
      },
      "execution_count": null,
      "outputs": []
    },
    {
      "cell_type": "markdown",
      "source": [
        "Getting the Authentication from my google account to get connnected with it by allowing the options after running that code.\n",
        "\n",
        "Getting access to my google drive also"
      ],
      "metadata": {
        "id": "wnBSMB8Y-Xbw"
      }
    },
    {
      "cell_type": "code",
      "source": [
        "\n",
        "from pydrive.auth import GoogleAuth\n",
        "from pydrive.drive import GoogleDrive\n",
        "from google.colab import auth\n",
        "from oauth2client.client import GoogleCredentials\n",
        "auth.authenticate_user()\n",
        "gauth = GoogleAuth()\n",
        "gauth.credentials = GoogleCredentials.get_application_default()\n",
        "drive = GoogleDrive(gauth)"
      ],
      "metadata": {
        "id": "yxTB8pTj0BuK"
      },
      "execution_count": null,
      "outputs": []
    },
    {
      "cell_type": "markdown",
      "source": [
        "Getting the Link of data of json file which is uploaded by me in the GoogleDrive name \"mini_spark_event.json.\n",
        "\n",
        "Downloading/Importing the data here from the drive."
      ],
      "metadata": {
        "id": "qy_yefTj6zXP"
      }
    },
    {
      "cell_type": "code",
      "source": [
        "fileDownloaded = drive.CreateFile({'id':'19gOPIU4v5SjvgFaeHc8UC7b-Stg7Ancs'})\n",
        "fileDownloaded.GetContentFile('mini_spark_event_data.json')"
      ],
      "metadata": {
        "id": "dJxqQoHJ0TZJ"
      },
      "execution_count": null,
      "outputs": []
    },
    {
      "cell_type": "code",
      "source": [
        "import numpy as np #To work with arrays\n",
        "import pandas as pd # Working with dataframes and data\n",
        "from pyspark.sql import SparkSession # Importing the SparkSession which is the entry point to Spark SQL.\n",
        "from pyspark.sql.functions import udf #PySpark UDF is a User Defined Function that is used to create a reusable function in Spark\n",
        "from pyspark.sql import Window #PySpark Window functions operate on a group of rows (like frame, partition) and return a single value for every input row.\n",
        "from pyspark.sql import functions as F #The PySpark SQL functions lit() are used to add a new column to the DataFrame by assigning a literal or constant value\n",
        "from pyspark.sql.functions import sum as Fsum #In order to calculate cumulative sum of column in pyspark we will be using sum function and partitionBy.\n",
        "from pyspark.sql.types import ArrayType, BooleanType, LongType, FloatType, IntegerType #Importing data types for pyspark\n",
        "from pyspark.sql.functions import lit, udf, struct, countDistinct, collect_list, avg, count, col #importing the neccesary functions from pyspark\n",
        "#VectorAssembler is a transformer that combines a given list of columns into a single vector column.\n",
        "#Normalizer is a Transformer which transforms a dataset of Vector rows, normalizing each Vector to have unit norm.\n",
        "#Standardizes features by removing the mean and scaling to unit variance using column summary statistics on the samples in the training set. \n",
        "from pyspark.ml.feature import VectorAssembler, Normalizer, StandardScaler \n",
        "#Importing the LogisticRegression,RandomForest and GBD from pyspark\n",
        "from pyspark.ml.classification import LogisticRegression, RandomForestClassifier, GBTClassifier\n",
        "from pyspark.ml.evaluation import MulticlassClassificationEvaluator, BinaryClassificationEvaluator #Importing the classification Evaluator\n",
        "from pyspark.ml import Pipeline #A Pipeline consists of a sequence of stages, each of which is either an Estimator or a Transformer .\n",
        "import matplotlib.pyplot as plt #For data Vizualization\n",
        "from sklearn.metrics import roc_curve # For best Classification\n",
        "from sklearn.metrics import precision_recall_curve\n",
        "#CrossValidator begins by splitting the dataset into a set of folds which are used as separate training and test datasets.\n",
        "#Builds and returns all combinations of parameters specified by the param grid.\n",
        "from pyspark.ml.tuning import CrossValidator, ParamGridBuilder"
      ],
      "metadata": {
        "id": "qGJv9txC2Zd2"
      },
      "execution_count": null,
      "outputs": []
    },
    {
      "cell_type": "markdown",
      "source": [
        "Creating a spark session - \n",
        "\n",
        "Spark session is a unified entry point of a spark application from Spark 2.0. It provides a way to interact with various spark's functionality with a lesser number of constructs. Instead of having a spark context, hive context, SQL context, now all of it is encapsulated in a Spark session."
      ],
      "metadata": {
        "id": "lAD1Hpwh-pdH"
      }
    },
    {
      "cell_type": "code",
      "source": [
        "#create a spark session\n",
        "spark = SparkSession \\\n",
        "         .builder \\\n",
        "         .appName(\"Nisha_2211566_Assignment_4\") \\\n",
        "         .getOrCreate()"
      ],
      "metadata": {
        "id": "YI15zQNs2cI9"
      },
      "execution_count": null,
      "outputs": []
    },
    {
      "cell_type": "markdown",
      "source": [
        "Loading the JSON file name df"
      ],
      "metadata": {
        "id": "XmBpnDHm_BL5"
      }
    },
    {
      "cell_type": "code",
      "source": [
        "#loading the dataset\n",
        "\n",
        "df = \"mini_spark_event_data.json\"\n",
        "df = spark.read.json(df)"
      ],
      "metadata": {
        "id": "TIGRclWm3NkL"
      },
      "execution_count": null,
      "outputs": []
    },
    {
      "cell_type": "markdown",
      "source": [
        "Cleaning the json file by using some functions and transformations"
      ],
      "metadata": {
        "id": "V70sisJE_GsG"
      }
    },
    {
      "cell_type": "code",
      "source": [
        "# Cleaning the Dataset\n",
        "df = df.drop(*['artist','song','firstName', 'lastName', 'id_copy'])             # dropping some irrelevant columns\n",
        "df = df.dropna(how = 'any', subset = ['userId', 'sessionId'])                   # droppping some potential NA values\n",
        "df = df.filter(df.userId!='').orderBy([\"userId\", \"ts\"], ascending=[True, True]) # filtering out the invalid Ids\n",
        "df = df.withColumn(\"userId\", df[\"userId\"].cast(IntegerType()))"
      ],
      "metadata": {
        "id": "Mplf5Dga4JeW"
      },
      "execution_count": null,
      "outputs": []
    },
    {
      "cell_type": "markdown",
      "source": [
        "The customers landing on the cancellation confirmation page and summing the churn of all the customers."
      ],
      "metadata": {
        "id": "mz0pOIar_ah3"
      }
    },
    {
      "cell_type": "code",
      "source": [
        "#Defining the churn\n",
        "#These are the customers landing on the cancellation confirmation page\n",
        "\n",
        "cancelation = udf(lambda x: 1 if x == \"Cancellation Confirmation\" else 0,\n",
        "                   IntegerType())\n",
        "df = df.withColumn(\"churn\", cancelation(\"page\"))\n",
        "window = Window.partitionBy(\"userId\").rangeBetween(Window.unboundedPreceding,\n",
        "                                                   Window.unboundedFollowing)\n",
        "df = df.withColumn(\"churn\", Fsum(\"churn\").over(window))"
      ],
      "metadata": {
        "id": "ELdB4LVQ4UkT"
      },
      "execution_count": null,
      "outputs": []
    },
    {
      "cell_type": "markdown",
      "source": [
        "Some new columns were made in this step to make the data exploration easier,\n",
        "\n",
        " the Feature engineering step comes later\n",
        "\n",
        " Making the level_shift Column\n",
        "\n",
        "This column tells us how many times did the customer switched\n",
        "\n",
        "from paid to free service"
      ],
      "metadata": {
        "id": "cyB7cpXY_r69"
      }
    },
    {
      "cell_type": "code",
      "source": [
        "##Some new columns were made in this step to make the data exploration easier,\n",
        "# the Feature engineering step comes later\n",
        "# Making the level_shift Column\n",
        "# This column tells us how many times did the customer switched\n",
        "# from paid to free service\n",
        "window1 = Window.partitionBy().orderBy([\"userId\", \"ts\"])\n",
        "df = df.withColumn(\"level_shift\", (df.level!=F.lag(df.level).over(window1)) | \n",
        "                   (df.userId!=F.lag(df.userId).over(window1)))\n",
        "df=df.fillna({'level_shift':0})\n",
        "df= df.withColumn(\"level_shift\", F.when(df[\"level_shift\"]==False, 0).otherwise(1))"
      ],
      "metadata": {
        "id": "D06sbq2g4fUz"
      },
      "execution_count": null,
      "outputs": []
    },
    {
      "cell_type": "code",
      "source": [
        "# Making the last_ts column\n",
        "# This column will help us to select only records that happened in the\n",
        "# last 2 weeks of customer activity\n",
        "# The idea is that customer behavior should be different shortly before\n",
        "# the churn happened\n",
        "df= df.withColumn(\"ts\", df.ts/1000)                        # trimming the last three zeros from the UNIX time (miliseconds)\n",
        "df= df.withColumn(\"registration\", df.registration/1000)"
      ],
      "metadata": {
        "id": "DIg_edHg4qwM"
      },
      "execution_count": null,
      "outputs": []
    },
    {
      "cell_type": "code",
      "source": [
        "window2 = Window.partitionBy(\"userId\")\n",
        "df= df.withColumn(\"last_ts\", F.max('ts').over(window2))\n",
        "df=df.filter(df.last_ts - df.ts < 1300000) # approx no of sec in a 2 weeks"
      ],
      "metadata": {
        "id": "8x5TlYJB4rxb"
      },
      "execution_count": null,
      "outputs": []
    },
    {
      "cell_type": "code",
      "source": [
        "# Making the Columns: pages_per_session, diff_time\n",
        "# pages_per_session is number of pages per session\n",
        "# diff_time is a number of days since a specific page was visited\n",
        "window3 = Window.partitionBy([\"userId\", \"sessionId\"])\n",
        "df= df.withColumn(\"pages_per_session\", F.max('ItemInSession').over(window3))\n",
        "df = df.withColumn(\"ts_time\",F.to_timestamp(df.ts))                    #  unix to datetime\n",
        "df = df.withColumn(\"last_ts_time\",F.to_timestamp(df.last_ts))          # unix to datetime"
      ],
      "metadata": {
        "id": "NohBJtIq40T_"
      },
      "execution_count": null,
      "outputs": []
    },
    {
      "cell_type": "code",
      "source": [
        "df = df.withColumn(\"diff_time\",F.datediff(df.last_ts_time, df.ts_time))\n",
        "  # how many days ago was the page visited\n",
        "df=df.orderBy([\"userId\", \"ts\"], ascending=[True, True])\n",
        "\n",
        "df.createOrReplaceTempView('data'); "
      ],
      "metadata": {
        "id": "3XigaK0d4-Vb"
      },
      "execution_count": null,
      "outputs": []
    },
    {
      "cell_type": "markdown",
      "source": [
        "Previewing the data head"
      ],
      "metadata": {
        "id": "B-pQY5OZ__Bu"
      }
    },
    {
      "cell_type": "code",
      "source": [
        "#Data Preview\n",
        "df.limit(2).toPandas()"
      ],
      "metadata": {
        "colab": {
          "base_uri": "https://localhost:8080/",
          "height": 310
        },
        "id": "4rpzALF-5CNy",
        "outputId": "702707d3-2d7f-45bf-b1e3-7a928cfb6628"
      },
      "execution_count": null,
      "outputs": [
        {
          "output_type": "execute_result",
          "data": {
            "text/plain": [
              "        auth gender  itemInSession     length level     location method  \\\n",
              "0  Logged In      F              0  250.82730  paid  Raleigh, NC    PUT   \n",
              "1  Logged In      F              1  148.55791  paid  Raleigh, NC    PUT   \n",
              "\n",
              "       page  registration  sessionId  ...            ts  \\\n",
              "0  NextSong  1.536800e+09       1639  ...  1.542150e+09   \n",
              "1  NextSong  1.536800e+09       1639  ...  1.542150e+09   \n",
              "\n",
              "                                           userAgent userId  churn  \\\n",
              "0  \"Mozilla/5.0 (Windows NT 6.1; WOW64) AppleWebK...      2      0   \n",
              "1  \"Mozilla/5.0 (Windows NT 6.1; WOW64) AppleWebK...      2      0   \n",
              "\n",
              "   level_shift       last_ts  pages_per_session             ts_time  \\\n",
              "0            0  1.542839e+09                192 2018-11-13 22:51:43   \n",
              "1            0  1.542839e+09                192 2018-11-13 22:55:53   \n",
              "\n",
              "         last_ts_time diff_time  \n",
              "0 2018-11-21 22:30:04         8  \n",
              "1 2018-11-21 22:30:04         8  \n",
              "\n",
              "[2 rows x 21 columns]"
            ],
            "text/html": [
              "\n",
              "  <div id=\"df-36f1db19-783f-4f56-b76f-c9f039a108f9\">\n",
              "    <div class=\"colab-df-container\">\n",
              "      <div>\n",
              "<style scoped>\n",
              "    .dataframe tbody tr th:only-of-type {\n",
              "        vertical-align: middle;\n",
              "    }\n",
              "\n",
              "    .dataframe tbody tr th {\n",
              "        vertical-align: top;\n",
              "    }\n",
              "\n",
              "    .dataframe thead th {\n",
              "        text-align: right;\n",
              "    }\n",
              "</style>\n",
              "<table border=\"1\" class=\"dataframe\">\n",
              "  <thead>\n",
              "    <tr style=\"text-align: right;\">\n",
              "      <th></th>\n",
              "      <th>auth</th>\n",
              "      <th>gender</th>\n",
              "      <th>itemInSession</th>\n",
              "      <th>length</th>\n",
              "      <th>level</th>\n",
              "      <th>location</th>\n",
              "      <th>method</th>\n",
              "      <th>page</th>\n",
              "      <th>registration</th>\n",
              "      <th>sessionId</th>\n",
              "      <th>...</th>\n",
              "      <th>ts</th>\n",
              "      <th>userAgent</th>\n",
              "      <th>userId</th>\n",
              "      <th>churn</th>\n",
              "      <th>level_shift</th>\n",
              "      <th>last_ts</th>\n",
              "      <th>pages_per_session</th>\n",
              "      <th>ts_time</th>\n",
              "      <th>last_ts_time</th>\n",
              "      <th>diff_time</th>\n",
              "    </tr>\n",
              "  </thead>\n",
              "  <tbody>\n",
              "    <tr>\n",
              "      <th>0</th>\n",
              "      <td>Logged In</td>\n",
              "      <td>F</td>\n",
              "      <td>0</td>\n",
              "      <td>250.82730</td>\n",
              "      <td>paid</td>\n",
              "      <td>Raleigh, NC</td>\n",
              "      <td>PUT</td>\n",
              "      <td>NextSong</td>\n",
              "      <td>1.536800e+09</td>\n",
              "      <td>1639</td>\n",
              "      <td>...</td>\n",
              "      <td>1.542150e+09</td>\n",
              "      <td>\"Mozilla/5.0 (Windows NT 6.1; WOW64) AppleWebK...</td>\n",
              "      <td>2</td>\n",
              "      <td>0</td>\n",
              "      <td>0</td>\n",
              "      <td>1.542839e+09</td>\n",
              "      <td>192</td>\n",
              "      <td>2018-11-13 22:51:43</td>\n",
              "      <td>2018-11-21 22:30:04</td>\n",
              "      <td>8</td>\n",
              "    </tr>\n",
              "    <tr>\n",
              "      <th>1</th>\n",
              "      <td>Logged In</td>\n",
              "      <td>F</td>\n",
              "      <td>1</td>\n",
              "      <td>148.55791</td>\n",
              "      <td>paid</td>\n",
              "      <td>Raleigh, NC</td>\n",
              "      <td>PUT</td>\n",
              "      <td>NextSong</td>\n",
              "      <td>1.536800e+09</td>\n",
              "      <td>1639</td>\n",
              "      <td>...</td>\n",
              "      <td>1.542150e+09</td>\n",
              "      <td>\"Mozilla/5.0 (Windows NT 6.1; WOW64) AppleWebK...</td>\n",
              "      <td>2</td>\n",
              "      <td>0</td>\n",
              "      <td>0</td>\n",
              "      <td>1.542839e+09</td>\n",
              "      <td>192</td>\n",
              "      <td>2018-11-13 22:55:53</td>\n",
              "      <td>2018-11-21 22:30:04</td>\n",
              "      <td>8</td>\n",
              "    </tr>\n",
              "  </tbody>\n",
              "</table>\n",
              "<p>2 rows × 21 columns</p>\n",
              "</div>\n",
              "      <button class=\"colab-df-convert\" onclick=\"convertToInteractive('df-36f1db19-783f-4f56-b76f-c9f039a108f9')\"\n",
              "              title=\"Convert this dataframe to an interactive table.\"\n",
              "              style=\"display:none;\">\n",
              "        \n",
              "  <svg xmlns=\"http://www.w3.org/2000/svg\" height=\"24px\"viewBox=\"0 0 24 24\"\n",
              "       width=\"24px\">\n",
              "    <path d=\"M0 0h24v24H0V0z\" fill=\"none\"/>\n",
              "    <path d=\"M18.56 5.44l.94 2.06.94-2.06 2.06-.94-2.06-.94-.94-2.06-.94 2.06-2.06.94zm-11 1L8.5 8.5l.94-2.06 2.06-.94-2.06-.94L8.5 2.5l-.94 2.06-2.06.94zm10 10l.94 2.06.94-2.06 2.06-.94-2.06-.94-.94-2.06-.94 2.06-2.06.94z\"/><path d=\"M17.41 7.96l-1.37-1.37c-.4-.4-.92-.59-1.43-.59-.52 0-1.04.2-1.43.59L10.3 9.45l-7.72 7.72c-.78.78-.78 2.05 0 2.83L4 21.41c.39.39.9.59 1.41.59.51 0 1.02-.2 1.41-.59l7.78-7.78 2.81-2.81c.8-.78.8-2.07 0-2.86zM5.41 20L4 18.59l7.72-7.72 1.47 1.35L5.41 20z\"/>\n",
              "  </svg>\n",
              "      </button>\n",
              "      \n",
              "  <style>\n",
              "    .colab-df-container {\n",
              "      display:flex;\n",
              "      flex-wrap:wrap;\n",
              "      gap: 12px;\n",
              "    }\n",
              "\n",
              "    .colab-df-convert {\n",
              "      background-color: #E8F0FE;\n",
              "      border: none;\n",
              "      border-radius: 50%;\n",
              "      cursor: pointer;\n",
              "      display: none;\n",
              "      fill: #1967D2;\n",
              "      height: 32px;\n",
              "      padding: 0 0 0 0;\n",
              "      width: 32px;\n",
              "    }\n",
              "\n",
              "    .colab-df-convert:hover {\n",
              "      background-color: #E2EBFA;\n",
              "      box-shadow: 0px 1px 2px rgba(60, 64, 67, 0.3), 0px 1px 3px 1px rgba(60, 64, 67, 0.15);\n",
              "      fill: #174EA6;\n",
              "    }\n",
              "\n",
              "    [theme=dark] .colab-df-convert {\n",
              "      background-color: #3B4455;\n",
              "      fill: #D2E3FC;\n",
              "    }\n",
              "\n",
              "    [theme=dark] .colab-df-convert:hover {\n",
              "      background-color: #434B5C;\n",
              "      box-shadow: 0px 1px 3px 1px rgba(0, 0, 0, 0.15);\n",
              "      filter: drop-shadow(0px 1px 2px rgba(0, 0, 0, 0.3));\n",
              "      fill: #FFFFFF;\n",
              "    }\n",
              "  </style>\n",
              "\n",
              "      <script>\n",
              "        const buttonEl =\n",
              "          document.querySelector('#df-36f1db19-783f-4f56-b76f-c9f039a108f9 button.colab-df-convert');\n",
              "        buttonEl.style.display =\n",
              "          google.colab.kernel.accessAllowed ? 'block' : 'none';\n",
              "\n",
              "        async function convertToInteractive(key) {\n",
              "          const element = document.querySelector('#df-36f1db19-783f-4f56-b76f-c9f039a108f9');\n",
              "          const dataTable =\n",
              "            await google.colab.kernel.invokeFunction('convertToInteractive',\n",
              "                                                     [key], {});\n",
              "          if (!dataTable) return;\n",
              "\n",
              "          const docLinkHtml = 'Like what you see? Visit the ' +\n",
              "            '<a target=\"_blank\" href=https://colab.research.google.com/notebooks/data_table.ipynb>data table notebook</a>'\n",
              "            + ' to learn more about interactive tables.';\n",
              "          element.innerHTML = '';\n",
              "          dataTable['output_type'] = 'display_data';\n",
              "          await google.colab.output.renderOutput(dataTable, element);\n",
              "          const docLink = document.createElement('div');\n",
              "          docLink.innerHTML = docLinkHtml;\n",
              "          element.appendChild(docLink);\n",
              "        }\n",
              "      </script>\n",
              "    </div>\n",
              "  </div>\n",
              "  "
            ]
          },
          "metadata": {},
          "execution_count": 33
        }
      ]
    },
    {
      "cell_type": "code",
      "source": [
        "# The column \"page\" seems to be most informative in the whole dataset\n",
        "# It shows which pages of the service were visited by users, timestamp is also provided\n",
        "# This column can be used to engineer useful features\n",
        "df.select('page','UserId').groupby('page').agg({'page':'count'}).select('page','count(page)').show()"
      ],
      "metadata": {
        "colab": {
          "base_uri": "https://localhost:8080/"
        },
        "id": "8knrmuUA5Gms",
        "outputId": "8a29a197-1506-4e08-c074-8c32a61f4828"
      },
      "execution_count": null,
      "outputs": [
        {
          "output_type": "stream",
          "name": "stdout",
          "text": [
            "+--------------------+-----------+\n",
            "|                page|count(page)|\n",
            "+--------------------+-----------+\n",
            "|              Cancel|         52|\n",
            "|    Submit Downgrade|         16|\n",
            "|         Thumbs Down|        917|\n",
            "|                Home|       3701|\n",
            "|           Downgrade|        821|\n",
            "|         Roll Advert|       1308|\n",
            "|              Logout|       1201|\n",
            "|       Save Settings|        126|\n",
            "|Cancellation Conf...|         52|\n",
            "|               About|        183|\n",
            "|            Settings|        607|\n",
            "|     Add to Playlist|       2380|\n",
            "|          Add Friend|       1613|\n",
            "|            NextSong|      85017|\n",
            "|           Thumbs Up|       4479|\n",
            "|                Help|        537|\n",
            "|             Upgrade|        154|\n",
            "|               Error|         80|\n",
            "|      Submit Upgrade|         37|\n",
            "+--------------------+-----------+\n",
            "\n"
          ]
        }
      ]
    },
    {
      "cell_type": "markdown",
      "source": [
        "Printing the Schema"
      ],
      "metadata": {
        "id": "ay8Y3aZ5AFSq"
      }
    },
    {
      "cell_type": "code",
      "source": [
        "df.printSchema();"
      ],
      "metadata": {
        "colab": {
          "base_uri": "https://localhost:8080/"
        },
        "id": "BR4zXxn65PUK",
        "outputId": "48a28af0-50de-41a8-a074-ebd7ee54678a"
      },
      "execution_count": null,
      "outputs": [
        {
          "output_type": "stream",
          "name": "stdout",
          "text": [
            "root\n",
            " |-- auth: string (nullable = true)\n",
            " |-- gender: string (nullable = true)\n",
            " |-- itemInSession: long (nullable = true)\n",
            " |-- length: double (nullable = true)\n",
            " |-- level: string (nullable = true)\n",
            " |-- location: string (nullable = true)\n",
            " |-- method: string (nullable = true)\n",
            " |-- page: string (nullable = true)\n",
            " |-- registration: double (nullable = true)\n",
            " |-- sessionId: long (nullable = true)\n",
            " |-- status: long (nullable = true)\n",
            " |-- ts: double (nullable = true)\n",
            " |-- userAgent: string (nullable = true)\n",
            " |-- userId: integer (nullable = true)\n",
            " |-- churn: long (nullable = true)\n",
            " |-- level_shift: integer (nullable = false)\n",
            " |-- last_ts: double (nullable = true)\n",
            " |-- pages_per_session: long (nullable = true)\n",
            " |-- ts_time: timestamp (nullable = true)\n",
            " |-- last_ts_time: timestamp (nullable = true)\n",
            " |-- diff_time: integer (nullable = true)\n",
            "\n"
          ]
        }
      ]
    },
    {
      "cell_type": "code",
      "source": [
        "# Investigation if there are differences between churned and non-churned users\n",
        "# label             - 0 if non_churned, 1 if churned\n",
        "# song_count        - avg number of songs played by churned/non_churned users\n",
        "# error             - avg number of errors occuring \n",
        "# friends           - avg number of \"friends\" on thhe application\n",
        "# playlist_count    - avg number of visits to the Playlist page\n",
        "# thumbs_up         - avg number of clicking the 'thumbs up'\n",
        "# thumbs_down       - avg number of clicking the 'thumbs down'\n",
        "# downgrade         - avg number of visits to the downgrade page\n",
        "# count_session_dist- avg number of sessions made\n",
        "# count_diff_time   - avg number of days (in the last two weeks) in which the user used the app\n",
        "# pages per session - avg numbers of pages (or any activity or changes) per session\n",
        "# duration          - avg number of days since the user joined (division with 86400 as a proxy of seconds within a day)\n",
        "# level_shift       - avg number of level changes (free, paid) per customer\n",
        "# usage_time        - avg total time spent using the app\n",
        "stats = spark.sql(\" WITH prep as( \\\n",
        "SELECT userId, \\\n",
        "max(churn)                                                          as label, \\\n",
        "count(case when page = 'NextSong' then userId else null end)        as song_count, \\\n",
        "count(case when page = 'Error' then userId else null end)           as error, \\\n",
        "count(case when page = 'Add Friend' then userId else null end)      as friends, \\\n",
        "count(case when page = 'Add to Playlist' then userId else null end) as playlist_count, \\\n",
        "count(case when page = 'Thumbs Up' then userId else null end)       as thumbs_up, \\\n",
        "count(case when page = 'Thumbs Down' then userId else null end)     as thumbs_down, \\\n",
        "count(case when page = 'Downgrade' then userId else null end)       as downgrade, \\\n",
        "count(distinct sessionId)                                           as count_session_dist, \\\n",
        "count(distinct diff_time)                                           as count_diff_time, \\\n",
        "avg(distinct pages_per_session)                                     as pages_per_session, \\\n",
        "(max(ts) - min(registration))/86400                                 as duration, \\\n",
        "sum(level_shift)                                                    as level_shift, \\\n",
        "sum(length)                                                         as usage_time \\\n",
        "FROM data \\\n",
        "GROUP BY userId) \\\n",
        "SELECT label, \\\n",
        "count(label)             as cnt, \\\n",
        "avg(song_count)          as song_count, \\\n",
        "avg(error)               as error, \\\n",
        "avg(friends)             as friends, \\\n",
        "avg(playlist_count)      as playlist_count, \\\n",
        "avg(thumbs_up)           as thumbs_up, \\\n",
        "avg(thumbs_down)         as thumbs_down, \\\n",
        "avg(downgrade)           as downgrade, \\\n",
        "avg(count_session_dist)  as count_session_dist, \\\n",
        "avg(count_diff_time)     as count_diff_time, \\\n",
        "avg(pages_per_session)   as pages_per_session, \\\n",
        "avg(duration)            as duration, \\\n",
        "avg (level_shift)        as level_shift, \\\n",
        "avg(usage_time)          as usage_time \\\n",
        "FROM prep \\\n",
        "GROUP BY label\")\n",
        "# We can see that for most dimensions/features there are differences between\n",
        "# churned and non-churned users\n",
        "stats.toPandas()"
      ],
      "metadata": {
        "colab": {
          "base_uri": "https://localhost:8080/",
          "height": 176
        },
        "id": "0_2I2HQM5Z1F",
        "outputId": "f9ae213b-8d82-4550-e08f-96bd118793b3"
      },
      "execution_count": null,
      "outputs": [
        {
          "output_type": "execute_result",
          "data": {
            "text/plain": [
              "   label  cnt  song_count     error   friends  playlist_count  thumbs_up  \\\n",
              "0      0  173  360.803468  0.335260  7.098266       10.017341  19.132948   \n",
              "1      1   52  434.576923  0.423077  7.403846       12.442308  22.480769   \n",
              "\n",
              "   thumbs_down  downgrade  count_session_dist  count_diff_time  \\\n",
              "0     3.560694   3.358382            4.583815         4.786127   \n",
              "1     5.788462   4.615385            5.596154         5.480769   \n",
              "\n",
              "   pages_per_session   duration  level_shift     usage_time  \n",
              "0         106.386183  86.620619     0.265896   89989.124825  \n",
              "1          92.803856  57.305993     0.730769  108072.679578  "
            ],
            "text/html": [
              "\n",
              "  <div id=\"df-a3bdc64e-df23-4b5d-8a58-13ee4edbd586\">\n",
              "    <div class=\"colab-df-container\">\n",
              "      <div>\n",
              "<style scoped>\n",
              "    .dataframe tbody tr th:only-of-type {\n",
              "        vertical-align: middle;\n",
              "    }\n",
              "\n",
              "    .dataframe tbody tr th {\n",
              "        vertical-align: top;\n",
              "    }\n",
              "\n",
              "    .dataframe thead th {\n",
              "        text-align: right;\n",
              "    }\n",
              "</style>\n",
              "<table border=\"1\" class=\"dataframe\">\n",
              "  <thead>\n",
              "    <tr style=\"text-align: right;\">\n",
              "      <th></th>\n",
              "      <th>label</th>\n",
              "      <th>cnt</th>\n",
              "      <th>song_count</th>\n",
              "      <th>error</th>\n",
              "      <th>friends</th>\n",
              "      <th>playlist_count</th>\n",
              "      <th>thumbs_up</th>\n",
              "      <th>thumbs_down</th>\n",
              "      <th>downgrade</th>\n",
              "      <th>count_session_dist</th>\n",
              "      <th>count_diff_time</th>\n",
              "      <th>pages_per_session</th>\n",
              "      <th>duration</th>\n",
              "      <th>level_shift</th>\n",
              "      <th>usage_time</th>\n",
              "    </tr>\n",
              "  </thead>\n",
              "  <tbody>\n",
              "    <tr>\n",
              "      <th>0</th>\n",
              "      <td>0</td>\n",
              "      <td>173</td>\n",
              "      <td>360.803468</td>\n",
              "      <td>0.335260</td>\n",
              "      <td>7.098266</td>\n",
              "      <td>10.017341</td>\n",
              "      <td>19.132948</td>\n",
              "      <td>3.560694</td>\n",
              "      <td>3.358382</td>\n",
              "      <td>4.583815</td>\n",
              "      <td>4.786127</td>\n",
              "      <td>106.386183</td>\n",
              "      <td>86.620619</td>\n",
              "      <td>0.265896</td>\n",
              "      <td>89989.124825</td>\n",
              "    </tr>\n",
              "    <tr>\n",
              "      <th>1</th>\n",
              "      <td>1</td>\n",
              "      <td>52</td>\n",
              "      <td>434.576923</td>\n",
              "      <td>0.423077</td>\n",
              "      <td>7.403846</td>\n",
              "      <td>12.442308</td>\n",
              "      <td>22.480769</td>\n",
              "      <td>5.788462</td>\n",
              "      <td>4.615385</td>\n",
              "      <td>5.596154</td>\n",
              "      <td>5.480769</td>\n",
              "      <td>92.803856</td>\n",
              "      <td>57.305993</td>\n",
              "      <td>0.730769</td>\n",
              "      <td>108072.679578</td>\n",
              "    </tr>\n",
              "  </tbody>\n",
              "</table>\n",
              "</div>\n",
              "      <button class=\"colab-df-convert\" onclick=\"convertToInteractive('df-a3bdc64e-df23-4b5d-8a58-13ee4edbd586')\"\n",
              "              title=\"Convert this dataframe to an interactive table.\"\n",
              "              style=\"display:none;\">\n",
              "        \n",
              "  <svg xmlns=\"http://www.w3.org/2000/svg\" height=\"24px\"viewBox=\"0 0 24 24\"\n",
              "       width=\"24px\">\n",
              "    <path d=\"M0 0h24v24H0V0z\" fill=\"none\"/>\n",
              "    <path d=\"M18.56 5.44l.94 2.06.94-2.06 2.06-.94-2.06-.94-.94-2.06-.94 2.06-2.06.94zm-11 1L8.5 8.5l.94-2.06 2.06-.94-2.06-.94L8.5 2.5l-.94 2.06-2.06.94zm10 10l.94 2.06.94-2.06 2.06-.94-2.06-.94-.94-2.06-.94 2.06-2.06.94z\"/><path d=\"M17.41 7.96l-1.37-1.37c-.4-.4-.92-.59-1.43-.59-.52 0-1.04.2-1.43.59L10.3 9.45l-7.72 7.72c-.78.78-.78 2.05 0 2.83L4 21.41c.39.39.9.59 1.41.59.51 0 1.02-.2 1.41-.59l7.78-7.78 2.81-2.81c.8-.78.8-2.07 0-2.86zM5.41 20L4 18.59l7.72-7.72 1.47 1.35L5.41 20z\"/>\n",
              "  </svg>\n",
              "      </button>\n",
              "      \n",
              "  <style>\n",
              "    .colab-df-container {\n",
              "      display:flex;\n",
              "      flex-wrap:wrap;\n",
              "      gap: 12px;\n",
              "    }\n",
              "\n",
              "    .colab-df-convert {\n",
              "      background-color: #E8F0FE;\n",
              "      border: none;\n",
              "      border-radius: 50%;\n",
              "      cursor: pointer;\n",
              "      display: none;\n",
              "      fill: #1967D2;\n",
              "      height: 32px;\n",
              "      padding: 0 0 0 0;\n",
              "      width: 32px;\n",
              "    }\n",
              "\n",
              "    .colab-df-convert:hover {\n",
              "      background-color: #E2EBFA;\n",
              "      box-shadow: 0px 1px 2px rgba(60, 64, 67, 0.3), 0px 1px 3px 1px rgba(60, 64, 67, 0.15);\n",
              "      fill: #174EA6;\n",
              "    }\n",
              "\n",
              "    [theme=dark] .colab-df-convert {\n",
              "      background-color: #3B4455;\n",
              "      fill: #D2E3FC;\n",
              "    }\n",
              "\n",
              "    [theme=dark] .colab-df-convert:hover {\n",
              "      background-color: #434B5C;\n",
              "      box-shadow: 0px 1px 3px 1px rgba(0, 0, 0, 0.15);\n",
              "      filter: drop-shadow(0px 1px 2px rgba(0, 0, 0, 0.3));\n",
              "      fill: #FFFFFF;\n",
              "    }\n",
              "  </style>\n",
              "\n",
              "      <script>\n",
              "        const buttonEl =\n",
              "          document.querySelector('#df-a3bdc64e-df23-4b5d-8a58-13ee4edbd586 button.colab-df-convert');\n",
              "        buttonEl.style.display =\n",
              "          google.colab.kernel.accessAllowed ? 'block' : 'none';\n",
              "\n",
              "        async function convertToInteractive(key) {\n",
              "          const element = document.querySelector('#df-a3bdc64e-df23-4b5d-8a58-13ee4edbd586');\n",
              "          const dataTable =\n",
              "            await google.colab.kernel.invokeFunction('convertToInteractive',\n",
              "                                                     [key], {});\n",
              "          if (!dataTable) return;\n",
              "\n",
              "          const docLinkHtml = 'Like what you see? Visit the ' +\n",
              "            '<a target=\"_blank\" href=https://colab.research.google.com/notebooks/data_table.ipynb>data table notebook</a>'\n",
              "            + ' to learn more about interactive tables.';\n",
              "          element.innerHTML = '';\n",
              "          dataTable['output_type'] = 'display_data';\n",
              "          await google.colab.output.renderOutput(dataTable, element);\n",
              "          const docLink = document.createElement('div');\n",
              "          docLink.innerHTML = docLinkHtml;\n",
              "          element.appendChild(docLink);\n",
              "        }\n",
              "      </script>\n",
              "    </div>\n",
              "  </div>\n",
              "  "
            ]
          },
          "metadata": {},
          "execution_count": 36
        }
      ]
    },
    {
      "cell_type": "code",
      "source": [
        "# Feature Enigneering\n",
        "# Based on the previous analysis, all 14 investigated features will be included. \n",
        "# Here I am making a Temp Table which holds all the features.\n",
        "# The temp table will be used as model input\n",
        "# All data is aggregated per userId\n",
        "features = spark.sql(\"SELECT userId, \\\n",
        "max(churn)                                                          as label, \\\n",
        "count(case when page = 'NextSong' then userId else null end)        as song_count, \\\n",
        "count(case when page = 'Error' then userId else null end)           as error, \\\n",
        "count(case when page = 'Add Friend' then userId else null end)      as friends, \\\n",
        "count(case when page = 'Add to Playlist' then userId else null end) as playlist_count, \\\n",
        "count(case when page = 'Thumbs Up' then userId else null end)       as thumbs_up, \\\n",
        "count(case when page = 'Thumbs Down' then userId else null end)     as thumbs_down, \\\n",
        "count(case when page = 'Downgrade' then userId else null end)       as downgrade, \\\n",
        "count(distinct sessionId)                                           as count_session_dist, \\\n",
        "count(distinct diff_time)                                           as count_diff_time, \\\n",
        "round(avg(distinct pages_per_session),0)                            as pages_per_session, \\\n",
        "round((max(ts) - min(registration))/86400,0)                        as duration, \\\n",
        "round(sum(level_shift),0)                                           as level_shift, \\\n",
        "round(sum(length),0)                                                as usage_time \\\n",
        "FROM data \\\n",
        "GROUP BY userId\");\n",
        "features.createOrReplaceTempView('features');\n",
        "features=features.na.drop()"
      ],
      "metadata": {
        "id": "mhk15VE25g7a"
      },
      "execution_count": null,
      "outputs": []
    },
    {
      "cell_type": "code",
      "source": [
        "#Train test split\n",
        "training, test = features.randomSplit([0.8,0.2])"
      ],
      "metadata": {
        "id": "YkOPCvl45j2q"
      },
      "execution_count": null,
      "outputs": []
    },
    {
      "cell_type": "code",
      "source": [
        "# Make VectorAssembler - this is a Pypark specific step\n",
        "# All input features must be in one column before feeding into the model\n",
        "assembler = VectorAssembler(inputCols=[\"userId\",\"song_count\",\"error\",\"friends\",\"playlist_count\", \\\n",
        "                                       \"thumbs_up\",\"thumbs_down\",\"downgrade\", \"count_session_dist\",\\\n",
        "                                       \"count_diff_time\",\"pages_per_session\", \"duration\",\"level_shift\",\\\n",
        "                                       \"usage_time\"], \\\n",
        "                            outputCol=\"inputFeatures\")"
      ],
      "metadata": {
        "id": "xB8agHcS5uqR"
      },
      "execution_count": null,
      "outputs": []
    },
    {
      "cell_type": "code",
      "source": [
        "#Normalize Data\n",
        "scaler = Normalizer(inputCol = \"inputFeatures\",outputCol=\"features\")"
      ],
      "metadata": {
        "id": "mkwMyZ2i5ynx"
      },
      "execution_count": null,
      "outputs": []
    },
    {
      "cell_type": "code",
      "source": [
        "lr = LogisticRegression()\n",
        "gbt = GBTClassifier()\n",
        "rf = RandomForestClassifier()"
      ],
      "metadata": {
        "id": "_1lCFAkV54ei"
      },
      "execution_count": null,
      "outputs": []
    },
    {
      "cell_type": "markdown",
      "source": [
        "# LogisticRegression"
      ],
      "metadata": {
        "id": "A2Rzsn-N_rQf"
      }
    },
    {
      "cell_type": "code",
      "source": [
        "#Building pipelines\n",
        "pipeline1 = Pipeline(stages=[assembler, scaler,lr])\n",
        "pipeline2 = Pipeline(stages=[assembler, scaler,gbt])\n",
        "pipeline3 = Pipeline(stages=[assembler, scaler,rf])"
      ],
      "metadata": {
        "id": "X38F-COD59Dp"
      },
      "execution_count": null,
      "outputs": []
    },
    {
      "cell_type": "code",
      "source": [
        "# metric chosen is f1 (we want to catch true positives (churn customers), but\n",
        "# we do not want to waste money on false positives (investing in retaining \n",
        "# non-churn customers, which are loyal anyway)\n",
        "# Note that Recall might also be justified to use here (if the cost offalse\n",
        "# positives is low)\n",
        "paramgrid =ParamGridBuilder()\\\n",
        ".addGrid(lr.regParam, [0.0, 0,1])\\\n",
        ".addGrid(lr.maxIter, [10])\\\n",
        ".build()"
      ],
      "metadata": {
        "id": "HwRrLF6c6ClJ"
      },
      "execution_count": null,
      "outputs": []
    },
    {
      "cell_type": "code",
      "source": [
        "evaluator = MulticlassClassificationEvaluator(metricName=\"f1\")"
      ],
      "metadata": {
        "id": "Zbp2Ki4D6J75"
      },
      "execution_count": null,
      "outputs": []
    },
    {
      "cell_type": "markdown",
      "source": [
        "Validation happening"
      ],
      "metadata": {
        "id": "oKj1lJ34AQYc"
      }
    },
    {
      "cell_type": "code",
      "source": [
        "crossval= CrossValidator(estimator=pipeline1,  \n",
        "                         estimatorParamMaps=paramgrid,\n",
        "                         evaluator = evaluator , \n",
        "                         numFolds=3\n",
        "                        )"
      ],
      "metadata": {
        "id": "UUxeadcW6M85"
      },
      "execution_count": null,
      "outputs": []
    },
    {
      "cell_type": "markdown",
      "source": [
        "Model Fitting"
      ],
      "metadata": {
        "id": "6fY3LFjEAOb9"
      }
    },
    {
      "cell_type": "code",
      "source": [
        "cvModel1 = crossval.fit(training)"
      ],
      "metadata": {
        "id": "J-cwa8Lx6Uzb"
      },
      "execution_count": null,
      "outputs": []
    },
    {
      "cell_type": "markdown",
      "source": [
        "Evaluation score"
      ],
      "metadata": {
        "id": "k5oBQ3LiAdJP"
      }
    },
    {
      "cell_type": "code",
      "source": [
        "evaluator.evaluate(cvModel1.transform(test))"
      ],
      "metadata": {
        "colab": {
          "base_uri": "https://localhost:8080/"
        },
        "id": "MaK_XQ4e6eRz",
        "outputId": "06890d0c-9b09-439c-88a2-97aef91b3ce4"
      },
      "execution_count": null,
      "outputs": [
        {
          "output_type": "execute_result",
          "data": {
            "text/plain": [
              "0.5432816537467701"
            ]
          },
          "metadata": {},
          "execution_count": 47
        }
      ]
    },
    {
      "cell_type": "markdown",
      "source": [
        "# Gradient Boosted tree Classifier"
      ],
      "metadata": {
        "id": "lrIEkPBD78Lh"
      }
    },
    {
      "cell_type": "code",
      "source": [
        "# Specify multiple parameters in the paramgrid, in case you have\n",
        "# enough processing power \n",
        "paramgrid1 =ParamGridBuilder().build()"
      ],
      "metadata": {
        "id": "tElAKUE_7_Qv"
      },
      "execution_count": null,
      "outputs": []
    },
    {
      "cell_type": "code",
      "source": [
        "evaluator=MulticlassClassificationEvaluator(metricName=\"f1\")"
      ],
      "metadata": {
        "id": "uU6EfVUj8B7x"
      },
      "execution_count": null,
      "outputs": []
    },
    {
      "cell_type": "code",
      "source": [
        "crossval= CrossValidator(estimator=pipeline2,  \n",
        "                         estimatorParamMaps=paramgrid1,\n",
        "                         evaluator=evaluator, \n",
        "                         numFolds=3\n",
        "                        )"
      ],
      "metadata": {
        "id": "3lHnYC1q8GPu"
      },
      "execution_count": null,
      "outputs": []
    },
    {
      "cell_type": "markdown",
      "source": [
        "Model Fitting"
      ],
      "metadata": {
        "id": "JLKbDHzTAW58"
      }
    },
    {
      "cell_type": "code",
      "source": [
        "cvModel2 = crossval.fit(training)"
      ],
      "metadata": {
        "id": "u9vjYyL48KbI"
      },
      "execution_count": null,
      "outputs": []
    },
    {
      "cell_type": "markdown",
      "source": [
        "Evaluation score"
      ],
      "metadata": {
        "id": "eFlzeElhAZfk"
      }
    },
    {
      "cell_type": "code",
      "source": [
        "evaluator.evaluate(cvModel2.transform(test))"
      ],
      "metadata": {
        "colab": {
          "base_uri": "https://localhost:8080/"
        },
        "id": "5twCx-9r8MRP",
        "outputId": "8a7d5380-0f56-4ac2-af0c-45ece377ce83"
      },
      "execution_count": null,
      "outputs": [
        {
          "output_type": "execute_result",
          "data": {
            "text/plain": [
              "0.7066766691672919"
            ]
          },
          "metadata": {},
          "execution_count": 53
        }
      ]
    },
    {
      "cell_type": "markdown",
      "source": [
        "## Random Forest Classifier"
      ],
      "metadata": {
        "id": "HimzAe1x8TQG"
      }
    },
    {
      "cell_type": "code",
      "source": [
        "paramgrid2 = ParamGridBuilder().build()"
      ],
      "metadata": {
        "id": "HAeQ2Z6I8Vc-"
      },
      "execution_count": null,
      "outputs": []
    },
    {
      "cell_type": "code",
      "source": [
        "evaluator=MulticlassClassificationEvaluator(metricName=\"f1\")"
      ],
      "metadata": {
        "id": "zlTLGbmH8x0H"
      },
      "execution_count": null,
      "outputs": []
    },
    {
      "cell_type": "code",
      "source": [
        "crossval= CrossValidator(estimator=pipeline3,  \n",
        "                         estimatorParamMaps=paramgrid2,\n",
        "                         evaluator=evaluator, \n",
        "                         numFolds=3\n",
        "                        )"
      ],
      "metadata": {
        "id": "soe0poe98h_O"
      },
      "execution_count": null,
      "outputs": []
    },
    {
      "cell_type": "markdown",
      "source": [
        "Model Fitting"
      ],
      "metadata": {
        "id": "xTVR1JMBAiAM"
      }
    },
    {
      "cell_type": "code",
      "source": [
        "cvModel3 = crossval.fit(training)"
      ],
      "metadata": {
        "id": "1UUT8ciF88a3"
      },
      "execution_count": null,
      "outputs": []
    },
    {
      "cell_type": "markdown",
      "source": [
        "Evaluation score"
      ],
      "metadata": {
        "id": "oumFJuElAnxD"
      }
    },
    {
      "cell_type": "code",
      "source": [
        "evaluator.evaluate(cvModel3.transform(test))"
      ],
      "metadata": {
        "colab": {
          "base_uri": "https://localhost:8080/"
        },
        "id": "XwSAX0wD9DRG",
        "outputId": "fe6c06e9-ebe2-44a2-da4d-6c291ee80fe8"
      },
      "execution_count": null,
      "outputs": [
        {
          "output_type": "execute_result",
          "data": {
            "text/plain": [
              "0.5802325581395349"
            ]
          },
          "metadata": {},
          "execution_count": 58
        }
      ]
    },
    {
      "cell_type": "code",
      "source": [
        "predictions=cvModel2.transform(test)"
      ],
      "metadata": {
        "id": "4N53DnUw9IDu"
      },
      "execution_count": null,
      "outputs": []
    },
    {
      "cell_type": "markdown",
      "source": [
        "Vizualizing the ROC curve"
      ],
      "metadata": {
        "id": "MYRQE2bFAv-L"
      }
    },
    {
      "cell_type": "code",
      "source": [
        "def roc(ax, predictions, labels, title='ROC curve'):\n",
        "    pp = predictions.toPandas()['probability'].apply(lambda x:x[1]).values\n",
        "    tpr, fpr, _ = roc_curve(labels, pp)\n",
        "    ax.plot(tpr, fpr)\n",
        "    ax.set_facecolor('xkcd:wheat')\n",
        "    ax.set_xlabel('False Positive Rate')\n",
        "    ax.set_ylabel('True Positive Rate')\n",
        "    ax.set_title(title)\n",
        "    \n",
        "#plt.clf() # to be used for AWS EMR\n",
        "labels=predictions.toPandas()['label']\n",
        "fig = plt.figure()\n",
        "ax = fig.add_subplot(111)\n",
        "roc(ax, predictions,labels)"
      ],
      "metadata": {
        "colab": {
          "base_uri": "https://localhost:8080/",
          "height": 295
        },
        "id": "rjj9MEa59a93",
        "outputId": "63dd08a2-859c-447c-db70-4612b9c04754"
      },
      "execution_count": null,
      "outputs": [
        {
          "output_type": "display_data",
          "data": {
            "text/plain": [
              "<Figure size 432x288 with 1 Axes>"
            ],
            "image/png": "[encoded data removed]"
          },
          "metadata": {
            "needs_background": "light"
          }
        }
      ]
    }
  ]
}