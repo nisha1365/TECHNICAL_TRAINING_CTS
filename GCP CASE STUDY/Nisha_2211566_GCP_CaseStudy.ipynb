{
 "cells": [
  {
   "cell_type": "code",
   "execution_count": 1,
   "id": "66f8713a-c461-4d4f-b7f6-e78330f36c70",
   "metadata": {},
   "outputs": [
    {
     "name": "stdout",
     "output_type": "stream",
     "text": [
      "Collecting xgboost\n",
      "  Using cached xgboost-1.6.2-py3-none-manylinux2014_x86_64.whl (255.9 MB)\n",
      "Requirement already satisfied: scipy in /opt/conda/lib/python3.7/site-packages (from xgboost) (1.7.3)\n",
      "Requirement already satisfied: numpy in /opt/conda/lib/python3.7/site-packages (from xgboost) (1.21.6)\n",
      "Installing collected packages: xgboost\n",
      "Successfully installed xgboost-1.6.2\n"
     ]
    }
   ],
   "source": [
    "!pip install xgboost"
   ]
  },
  {
   "cell_type": "code",
   "execution_count": 2,
   "id": "8b6c3699-ced3-4077-98cd-4a80517a9330",
   "metadata": {},
   "outputs": [],
   "source": [
    "import pandas as pd\n",
    "import xgboost as xgb\n",
    "import numpy as np\n",
    "\n",
    "from sklearn.model_selection import train_test_split\n",
    "from sklearn.utils import shuffle\n",
    "from google.cloud import bigquery"
   ]
  },
  {
   "cell_type": "markdown",
   "id": "a7da3735-2372-462a-8a70-c0be64008a23",
   "metadata": {},
   "source": [
    "Data we have used:\n",
    "\n",
    "We use the BigQuery public dataset of natality which describes all United States births registered in the 50 States, the District of Columbia, and New York City from 1969 to 2008.\n",
    "In that, we use the weight (in pounds), sex, mother's age, plurality and gestation period data from the year 2000 onwards for our Case Study. We use the following query to extract the necessary dataset."
   ]
  },
  {
   "cell_type": "code",
   "execution_count": 3,
   "id": "dbfc3a5d-a935-4c4c-bba9-a5c3bc5f02e7",
   "metadata": {},
   "outputs": [],
   "source": [
    "query=\"\"\"\n",
    "SELECT\n",
    "  weight_pounds,\n",
    "  is_male,\n",
    "  mother_age,\n",
    "  plurality,\n",
    "  gestation_weeks\n",
    "FROM\n",
    "  publicdata.samples.natality\n",
    "WHERE year > 2000\n",
    "LIMIT 10000\n",
    "\"\"\""
   ]
  },
  {
   "cell_type": "code",
   "execution_count": 4,
   "id": "63413185-b94f-4715-8928-b63c6ca99bb6",
   "metadata": {},
   "outputs": [],
   "source": [
    "df=bigquery.Client().query(query).to_dataframe()"
   ]
  },
  {
   "cell_type": "code",
   "execution_count": 5,
   "id": "b2846ead-4ebd-4dcd-81c2-a85f501018a9",
   "metadata": {},
   "outputs": [
    {
     "data": {
      "text/html": [
       "<div>\n",
       "<style scoped>\n",
       "    .dataframe tbody tr th:only-of-type {\n",
       "        vertical-align: middle;\n",
       "    }\n",
       "\n",
       "    .dataframe tbody tr th {\n",
       "        vertical-align: top;\n",
       "    }\n",
       "\n",
       "    .dataframe thead th {\n",
       "        text-align: right;\n",
       "    }\n",
       "</style>\n",
       "<table border=\"1\" class=\"dataframe\">\n",
       "  <thead>\n",
       "    <tr style=\"text-align: right;\">\n",
       "      <th></th>\n",
       "      <th>weight_pounds</th>\n",
       "      <th>is_male</th>\n",
       "      <th>mother_age</th>\n",
       "      <th>plurality</th>\n",
       "      <th>gestation_weeks</th>\n",
       "    </tr>\n",
       "  </thead>\n",
       "  <tbody>\n",
       "    <tr>\n",
       "      <th>0</th>\n",
       "      <td>7.561856</td>\n",
       "      <td>False</td>\n",
       "      <td>18</td>\n",
       "      <td>1</td>\n",
       "      <td>39.0</td>\n",
       "    </tr>\n",
       "    <tr>\n",
       "      <th>1</th>\n",
       "      <td>4.750962</td>\n",
       "      <td>True</td>\n",
       "      <td>22</td>\n",
       "      <td>1</td>\n",
       "      <td>40.0</td>\n",
       "    </tr>\n",
       "    <tr>\n",
       "      <th>2</th>\n",
       "      <td>7.374463</td>\n",
       "      <td>False</td>\n",
       "      <td>28</td>\n",
       "      <td>1</td>\n",
       "      <td>37.0</td>\n",
       "    </tr>\n",
       "    <tr>\n",
       "      <th>3</th>\n",
       "      <td>7.813183</td>\n",
       "      <td>False</td>\n",
       "      <td>31</td>\n",
       "      <td>1</td>\n",
       "      <td>41.0</td>\n",
       "    </tr>\n",
       "    <tr>\n",
       "      <th>4</th>\n",
       "      <td>3.688334</td>\n",
       "      <td>False</td>\n",
       "      <td>29</td>\n",
       "      <td>2</td>\n",
       "      <td>35.0</td>\n",
       "    </tr>\n",
       "  </tbody>\n",
       "</table>\n",
       "</div>"
      ],
      "text/plain": [
       "   weight_pounds  is_male  mother_age  plurality  gestation_weeks\n",
       "0       7.561856    False          18          1             39.0\n",
       "1       4.750962     True          22          1             40.0\n",
       "2       7.374463    False          28          1             37.0\n",
       "3       7.813183    False          31          1             41.0\n",
       "4       3.688334    False          29          2             35.0"
      ]
     },
     "execution_count": 5,
     "metadata": {},
     "output_type": "execute_result"
    }
   ],
   "source": [
    "df.head()# showing the head of the dataset"
   ]
  },
  {
   "cell_type": "markdown",
   "id": "1bd6d8b8-20ef-4198-9932-9f3b2c12e281",
   "metadata": {},
   "source": [
    "Now we need to check the number of male babies in the data set through value counts and check whether the data set is balanced or not"
   ]
  },
  {
   "cell_type": "code",
   "execution_count": 6,
   "id": "19a9cff0-90f1-4376-9dc2-c1fe3b3d6666",
   "metadata": {},
   "outputs": [
    {
     "data": {
      "text/plain": [
       "True     5152\n",
       "False    4848\n",
       "Name: is_male, dtype: int64"
      ]
     },
     "execution_count": 6,
     "metadata": {},
     "output_type": "execute_result"
    }
   ],
   "source": [
    "df['is_male'].value_counts()"
   ]
  },
  {
   "cell_type": "code",
   "execution_count": 7,
   "id": "92e89929-88e6-48a0-985f-8d7090781bfe",
   "metadata": {},
   "outputs": [],
   "source": [
    "df=df.dropna()#use dropna to delete the rows which contains the null values"
   ]
  },
  {
   "cell_type": "code",
   "execution_count": 8,
   "id": "8dc2da8f-0447-42c2-b172-43cdb8a89bf7",
   "metadata": {},
   "outputs": [
    {
     "data": {
      "text/html": [
       "<div>\n",
       "<style scoped>\n",
       "    .dataframe tbody tr th:only-of-type {\n",
       "        vertical-align: middle;\n",
       "    }\n",
       "\n",
       "    .dataframe tbody tr th {\n",
       "        vertical-align: top;\n",
       "    }\n",
       "\n",
       "    .dataframe thead th {\n",
       "        text-align: right;\n",
       "    }\n",
       "</style>\n",
       "<table border=\"1\" class=\"dataframe\">\n",
       "  <thead>\n",
       "    <tr style=\"text-align: right;\">\n",
       "      <th></th>\n",
       "      <th>weight_pounds</th>\n",
       "      <th>is_male</th>\n",
       "      <th>mother_age</th>\n",
       "      <th>plurality</th>\n",
       "      <th>gestation_weeks</th>\n",
       "    </tr>\n",
       "  </thead>\n",
       "  <tbody>\n",
       "    <tr>\n",
       "      <th>5309</th>\n",
       "      <td>7.813183</td>\n",
       "      <td>True</td>\n",
       "      <td>34</td>\n",
       "      <td>1</td>\n",
       "      <td>39.0</td>\n",
       "    </tr>\n",
       "    <tr>\n",
       "      <th>514</th>\n",
       "      <td>7.828615</td>\n",
       "      <td>False</td>\n",
       "      <td>35</td>\n",
       "      <td>1</td>\n",
       "      <td>39.0</td>\n",
       "    </tr>\n",
       "    <tr>\n",
       "      <th>4359</th>\n",
       "      <td>7.716179</td>\n",
       "      <td>False</td>\n",
       "      <td>24</td>\n",
       "      <td>1</td>\n",
       "      <td>38.0</td>\n",
       "    </tr>\n",
       "    <tr>\n",
       "      <th>8445</th>\n",
       "      <td>6.311835</td>\n",
       "      <td>True</td>\n",
       "      <td>23</td>\n",
       "      <td>1</td>\n",
       "      <td>39.0</td>\n",
       "    </tr>\n",
       "    <tr>\n",
       "      <th>9104</th>\n",
       "      <td>4.373971</td>\n",
       "      <td>False</td>\n",
       "      <td>37</td>\n",
       "      <td>3</td>\n",
       "      <td>34.0</td>\n",
       "    </tr>\n",
       "  </tbody>\n",
       "</table>\n",
       "</div>"
      ],
      "text/plain": [
       "      weight_pounds  is_male  mother_age  plurality  gestation_weeks\n",
       "5309       7.813183     True          34          1             39.0\n",
       "514        7.828615    False          35          1             39.0\n",
       "4359       7.716179    False          24          1             38.0\n",
       "8445       6.311835     True          23          1             39.0\n",
       "9104       4.373971    False          37          3             34.0"
      ]
     },
     "execution_count": 8,
     "metadata": {},
     "output_type": "execute_result"
    }
   ],
   "source": [
    "#shuffle the data\n",
    "df=shuffle(df, random_state=42)#using shuffle in the piror of the model to create more representative traing and testing set\n",
    "df.head()"
   ]
  },
  {
   "cell_type": "code",
   "execution_count": 9,
   "id": "1eb3b4a6-b04a-462b-a86c-0106b9b2aafe",
   "metadata": {},
   "outputs": [
    {
     "data": {
      "text/html": [
       "<div>\n",
       "<style scoped>\n",
       "    .dataframe tbody tr th:only-of-type {\n",
       "        vertical-align: middle;\n",
       "    }\n",
       "\n",
       "    .dataframe tbody tr th {\n",
       "        vertical-align: top;\n",
       "    }\n",
       "\n",
       "    .dataframe thead th {\n",
       "        text-align: right;\n",
       "    }\n",
       "</style>\n",
       "<table border=\"1\" class=\"dataframe\">\n",
       "  <thead>\n",
       "    <tr style=\"text-align: right;\">\n",
       "      <th></th>\n",
       "      <th>weight_pounds</th>\n",
       "      <th>is_male</th>\n",
       "      <th>mother_age</th>\n",
       "      <th>plurality</th>\n",
       "      <th>gestation_weeks</th>\n",
       "    </tr>\n",
       "  </thead>\n",
       "  <tbody>\n",
       "    <tr>\n",
       "      <th>5309</th>\n",
       "      <td>7.813183</td>\n",
       "      <td>True</td>\n",
       "      <td>34</td>\n",
       "      <td>1</td>\n",
       "      <td>39.0</td>\n",
       "    </tr>\n",
       "    <tr>\n",
       "      <th>514</th>\n",
       "      <td>7.828615</td>\n",
       "      <td>False</td>\n",
       "      <td>35</td>\n",
       "      <td>1</td>\n",
       "      <td>39.0</td>\n",
       "    </tr>\n",
       "    <tr>\n",
       "      <th>4359</th>\n",
       "      <td>7.716179</td>\n",
       "      <td>False</td>\n",
       "      <td>24</td>\n",
       "      <td>1</td>\n",
       "      <td>38.0</td>\n",
       "    </tr>\n",
       "    <tr>\n",
       "      <th>8445</th>\n",
       "      <td>6.311835</td>\n",
       "      <td>True</td>\n",
       "      <td>23</td>\n",
       "      <td>1</td>\n",
       "      <td>39.0</td>\n",
       "    </tr>\n",
       "    <tr>\n",
       "      <th>9104</th>\n",
       "      <td>4.373971</td>\n",
       "      <td>False</td>\n",
       "      <td>37</td>\n",
       "      <td>3</td>\n",
       "      <td>34.0</td>\n",
       "    </tr>\n",
       "    <tr>\n",
       "      <th>8711</th>\n",
       "      <td>7.835229</td>\n",
       "      <td>True</td>\n",
       "      <td>39</td>\n",
       "      <td>1</td>\n",
       "      <td>37.0</td>\n",
       "    </tr>\n",
       "    <tr>\n",
       "      <th>7085</th>\n",
       "      <td>6.503637</td>\n",
       "      <td>False</td>\n",
       "      <td>35</td>\n",
       "      <td>1</td>\n",
       "      <td>37.0</td>\n",
       "    </tr>\n",
       "    <tr>\n",
       "      <th>4000</th>\n",
       "      <td>8.688418</td>\n",
       "      <td>True</td>\n",
       "      <td>33</td>\n",
       "      <td>1</td>\n",
       "      <td>37.0</td>\n",
       "    </tr>\n",
       "    <tr>\n",
       "      <th>9253</th>\n",
       "      <td>3.624400</td>\n",
       "      <td>False</td>\n",
       "      <td>42</td>\n",
       "      <td>2</td>\n",
       "      <td>32.0</td>\n",
       "    </tr>\n",
       "    <tr>\n",
       "      <th>1322</th>\n",
       "      <td>6.311835</td>\n",
       "      <td>True</td>\n",
       "      <td>33</td>\n",
       "      <td>1</td>\n",
       "      <td>39.0</td>\n",
       "    </tr>\n",
       "  </tbody>\n",
       "</table>\n",
       "</div>"
      ],
      "text/plain": [
       "      weight_pounds  is_male  mother_age  plurality  gestation_weeks\n",
       "5309       7.813183     True          34          1             39.0\n",
       "514        7.828615    False          35          1             39.0\n",
       "4359       7.716179    False          24          1             38.0\n",
       "8445       6.311835     True          23          1             39.0\n",
       "9104       4.373971    False          37          3             34.0\n",
       "8711       7.835229     True          39          1             37.0\n",
       "7085       6.503637    False          35          1             37.0\n",
       "4000       8.688418     True          33          1             37.0\n",
       "9253       3.624400    False          42          2             32.0\n",
       "1322       6.311835     True          33          1             39.0"
      ]
     },
     "execution_count": 9,
     "metadata": {},
     "output_type": "execute_result"
    }
   ],
   "source": [
    "df.head(10)"
   ]
  },
  {
   "cell_type": "code",
   "execution_count": 10,
   "id": "e60588e5-ca8a-4d26-88c0-e56fec79997a",
   "metadata": {},
   "outputs": [],
   "source": [
    "labels= df['weight_pounds']\n",
    "data=df.drop(columns=['weight_pounds'])"
   ]
  },
  {
   "cell_type": "code",
   "execution_count": 11,
   "id": "4d10b0a1-9d1f-446c-8085-c21d6aed30aa",
   "metadata": {},
   "outputs": [],
   "source": [
    "data['is_male']=data['is_male'].astype(int)#converting the is_male column from boolean to integer"
   ]
  },
  {
   "cell_type": "code",
   "execution_count": 12,
   "id": "50eda005-729b-4fb0-a911-5b542139ef46",
   "metadata": {},
   "outputs": [
    {
     "data": {
      "text/html": [
       "<div>\n",
       "<style scoped>\n",
       "    .dataframe tbody tr th:only-of-type {\n",
       "        vertical-align: middle;\n",
       "    }\n",
       "\n",
       "    .dataframe tbody tr th {\n",
       "        vertical-align: top;\n",
       "    }\n",
       "\n",
       "    .dataframe thead th {\n",
       "        text-align: right;\n",
       "    }\n",
       "</style>\n",
       "<table border=\"1\" class=\"dataframe\">\n",
       "  <thead>\n",
       "    <tr style=\"text-align: right;\">\n",
       "      <th></th>\n",
       "      <th>is_male</th>\n",
       "      <th>mother_age</th>\n",
       "      <th>plurality</th>\n",
       "      <th>gestation_weeks</th>\n",
       "    </tr>\n",
       "  </thead>\n",
       "  <tbody>\n",
       "    <tr>\n",
       "      <th>5309</th>\n",
       "      <td>1</td>\n",
       "      <td>34</td>\n",
       "      <td>1</td>\n",
       "      <td>39.0</td>\n",
       "    </tr>\n",
       "    <tr>\n",
       "      <th>514</th>\n",
       "      <td>0</td>\n",
       "      <td>35</td>\n",
       "      <td>1</td>\n",
       "      <td>39.0</td>\n",
       "    </tr>\n",
       "    <tr>\n",
       "      <th>4359</th>\n",
       "      <td>0</td>\n",
       "      <td>24</td>\n",
       "      <td>1</td>\n",
       "      <td>38.0</td>\n",
       "    </tr>\n",
       "    <tr>\n",
       "      <th>8445</th>\n",
       "      <td>1</td>\n",
       "      <td>23</td>\n",
       "      <td>1</td>\n",
       "      <td>39.0</td>\n",
       "    </tr>\n",
       "    <tr>\n",
       "      <th>9104</th>\n",
       "      <td>0</td>\n",
       "      <td>37</td>\n",
       "      <td>3</td>\n",
       "      <td>34.0</td>\n",
       "    </tr>\n",
       "  </tbody>\n",
       "</table>\n",
       "</div>"
      ],
      "text/plain": [
       "      is_male  mother_age  plurality  gestation_weeks\n",
       "5309        1          34          1             39.0\n",
       "514         0          35          1             39.0\n",
       "4359        0          24          1             38.0\n",
       "8445        1          23          1             39.0\n",
       "9104        0          37          3             34.0"
      ]
     },
     "execution_count": 12,
     "metadata": {},
     "output_type": "execute_result"
    }
   ],
   "source": [
    "data.head()"
   ]
  },
  {
   "cell_type": "code",
   "execution_count": 13,
   "id": "df84e23c-bcdf-4668-8c1e-942fa13353d9",
   "metadata": {},
   "outputs": [],
   "source": [
    "x,y=data,labels\n",
    "x_train,x_test,y_train,y_test=train_test_split(x,y)"
   ]
  },
  {
   "cell_type": "code",
   "execution_count": 14,
   "id": "d0f9e23f-30f5-458e-9316-7d5a7f79c03e",
   "metadata": {},
   "outputs": [],
   "source": [
    "model= xgb.XGBRegressor(objective='reg:linear')#creating the model through xgboostregressor"
   ]
  },
  {
   "cell_type": "code",
   "execution_count": 15,
   "id": "ec13a1ea-3656-4169-95c7-6214cc345ca6",
   "metadata": {},
   "outputs": [
    {
     "name": "stdout",
     "output_type": "stream",
     "text": [
      "[04:02:11] WARNING: ../src/objective/regression_obj.cu:203: reg:linear is now deprecated in favor of reg:squarederror.\n"
     ]
    },
    {
     "data": {
      "text/plain": [
       "XGBRegressor(base_score=0.5, booster='gbtree', callbacks=None,\n",
       "             colsample_bylevel=1, colsample_bynode=1, colsample_bytree=1,\n",
       "             early_stopping_rounds=None, enable_categorical=False,\n",
       "             eval_metric=None, gamma=0, gpu_id=-1, grow_policy='depthwise',\n",
       "             importance_type=None, interaction_constraints='',\n",
       "             learning_rate=0.300000012, max_bin=256, max_cat_to_onehot=4,\n",
       "             max_delta_step=0, max_depth=6, max_leaves=0, min_child_weight=1,\n",
       "             missing=nan, monotone_constraints='()', n_estimators=100, n_jobs=0,\n",
       "             num_parallel_tree=1, objective='reg:linear', predictor='auto',\n",
       "             random_state=0, reg_alpha=0, ...)"
      ]
     },
     "execution_count": 15,
     "metadata": {},
     "output_type": "execute_result"
    }
   ],
   "source": [
    "model.fit(x_train, y_train)#train the model"
   ]
  },
  {
   "cell_type": "code",
   "execution_count": 16,
   "id": "85cb3909-51bb-4feb-a3eb-4c1762107845",
   "metadata": {},
   "outputs": [],
   "source": [
    "y_pred= model.predict(x_test)#predict the test set model"
   ]
  },
  {
   "cell_type": "code",
   "execution_count": 17,
   "id": "556767cf-4e31-40ed-a5ea-e9e8016fe69a",
   "metadata": {},
   "outputs": [
    {
     "name": "stdout",
     "output_type": "stream",
     "text": [
      "Predicted weight: 7.4805546\n",
      "Actual weight: 6.6910296517\n",
      "\n",
      "Predicted weight: 7.24817\n",
      "Actual weight: 6.5256829552\n",
      "\n",
      "Predicted weight: 6.5114985\n",
      "Actual weight: 5.43659938092\n",
      "\n",
      "Predicted weight: 7.5639505\n",
      "Actual weight: 7.20250209954\n",
      "\n",
      "Predicted weight: 7.641326\n",
      "Actual weight: 8.000575487979999\n",
      "\n",
      "Predicted weight: 7.4151044\n",
      "Actual weight: 6.2501051276999995\n",
      "\n",
      "Predicted weight: 7.1612544\n",
      "Actual weight: 8.62448368944\n",
      "\n",
      "Predicted weight: 4.4595304\n",
      "Actual weight: 3.42157430624\n",
      "\n",
      "Predicted weight: 6.028756\n",
      "Actual weight: 5.401325419\n",
      "\n",
      "Predicted weight: 7.4352884\n",
      "Actual weight: 9.31232594688\n",
      "\n",
      "Predicted weight: 6.9320893\n",
      "Actual weight: 8.298199541679999\n",
      "\n",
      "Predicted weight: 7.4337134\n",
      "Actual weight: 6.6359140862\n",
      "\n",
      "Predicted weight: 7.7485557\n",
      "Actual weight: 8.437090766739999\n",
      "\n",
      "Predicted weight: 7.3122745\n",
      "Actual weight: 8.14828520352\n",
      "\n",
      "Predicted weight: 5.628828\n",
      "Actual weight: 6.503636729\n",
      "\n",
      "Predicted weight: 6.942165\n",
      "Actual weight: 8.18796841068\n",
      "\n",
      "Predicted weight: 7.8251133\n",
      "Actual weight: 7.9608922808199996\n",
      "\n",
      "Predicted weight: 7.5639505\n",
      "Actual weight: 6.2501051276999995\n",
      "\n",
      "Predicted weight: 7.151873\n",
      "Actual weight: 7.87491199864\n",
      "\n",
      "Predicted weight: 8.009365\n",
      "Actual weight: 7.81318256528\n",
      "\n"
     ]
    }
   ],
   "source": [
    "for i in range(20):\n",
    "    print('Predicted weight:', y_pred[i])\n",
    "    print('Actual weight:', y_test.iloc[i])\n",
    "    print()"
   ]
  },
  {
   "cell_type": "code",
   "execution_count": 18,
   "id": "d37ade8e-2517-4092-baf8-55a029de8451",
   "metadata": {},
   "outputs": [],
   "source": [
    "model.save_model('kk=model.bst')"
   ]
  },
  {
   "cell_type": "code",
   "execution_count": 19,
   "id": "692fd4c1-7ee5-45cb-b368-39ac4e2654b9",
   "metadata": {},
   "outputs": [],
   "source": [
    "GCP_PROJECT='1428Kaushik Kar CTS'\n",
    "MODEL_BUCKET='gs://kk-bucket'\n",
    "VERSION_NAME='v1'\n",
    "MODEL_NAME='model.bst'"
   ]
  },
  {
   "cell_type": "code",
   "execution_count": 20,
   "id": "1d2b5d1d-a95a-4398-8296-b7797f2f8a2e",
   "metadata": {},
   "outputs": [
    {
     "name": "stdout",
     "output_type": "stream",
     "text": [
      "Creating gs://kk-bucket/...\n",
      "ServiceException: 409 A Cloud Storage bucket named 'kk-bucket' already exists. Try another name. Bucket names must be globally unique across all Google Cloud projects, including those outside of your organization.\n"
     ]
    }
   ],
   "source": [
    "!gsutil mb $MODEL_BUCKET"
   ]
  },
  {
   "cell_type": "code",
   "execution_count": 21,
   "id": "ec5e022b-ec63-490c-a78e-1e38b8df7e3b",
   "metadata": {},
   "outputs": [
    {
     "name": "stdout",
     "output_type": "stream",
     "text": [
      "Copying file://./kk=model.bst [Content-Type=application/octet-stream]...\n",
      "/ [1 files][293.2 KiB/293.2 KiB]                                                \n",
      "Operation completed over 1 objects/293.2 KiB.                                    \n"
     ]
    }
   ],
   "source": [
    "!gsutil cp ./kk=model.bst $MODEL_BUCKET"
   ]
  },
  {
   "cell_type": "code",
   "execution_count": 59,
   "id": "48a21dd9-19ee-4b88-a107-d898f0c348da",
   "metadata": {},
   "outputs": [],
   "source": [
    "model1= xgb.XGBRegressor(objective='reg:linear',max_depth=7,learning_rate=0.1)"
   ]
  },
  {
   "cell_type": "code",
   "execution_count": 60,
   "id": "e7696f3d-7628-479d-8167-c4d983c554e5",
   "metadata": {},
   "outputs": [
    {
     "name": "stdout",
     "output_type": "stream",
     "text": [
      "[06:11:45] WARNING: ../src/objective/regression_obj.cu:203: reg:linear is now deprecated in favor of reg:squarederror.\n"
     ]
    },
    {
     "data": {
      "text/plain": [
       "XGBRegressor(base_score=0.5, booster='gbtree', callbacks=None,\n",
       "             colsample_bylevel=1, colsample_bynode=1, colsample_bytree=1,\n",
       "             early_stopping_rounds=None, enable_categorical=False,\n",
       "             eval_metric=None, gamma=0, gpu_id=-1, grow_policy='depthwise',\n",
       "             importance_type=None, interaction_constraints='',\n",
       "             learning_rate=0.1, max_bin=256, max_cat_to_onehot=4,\n",
       "             max_delta_step=0, max_depth=7, max_leaves=0, min_child_weight=1,\n",
       "             missing=nan, monotone_constraints='()', n_estimators=100, n_jobs=0,\n",
       "             num_parallel_tree=1, objective='reg:linear', predictor='auto',\n",
       "             random_state=0, reg_alpha=0, ...)"
      ]
     },
     "execution_count": 60,
     "metadata": {},
     "output_type": "execute_result"
    }
   ],
   "source": [
    "model1.fit(x_train, y_train)"
   ]
  },
  {
   "cell_type": "code",
   "execution_count": 61,
   "id": "413b4900-12a1-4bcb-91b7-21f735070079",
   "metadata": {},
   "outputs": [],
   "source": [
    "y_pred1= model1.predict(x_test)"
   ]
  },
  {
   "cell_type": "code",
   "execution_count": 62,
   "id": "1c718612-5cc8-4f41-9536-8e785b9d88ab",
   "metadata": {},
   "outputs": [
    {
     "name": "stdout",
     "output_type": "stream",
     "text": [
      "Predicted weight: 7.5014534\n",
      "Actual weight: 6.6910296517\n",
      "\n",
      "Predicted weight: 7.2278037\n",
      "Actual weight: 6.5256829552\n",
      "\n",
      "Predicted weight: 6.5189414\n",
      "Actual weight: 5.43659938092\n",
      "\n",
      "Predicted weight: 7.5135183\n",
      "Actual weight: 7.20250209954\n",
      "\n",
      "Predicted weight: 7.5784307\n",
      "Actual weight: 8.000575487979999\n",
      "\n",
      "Predicted weight: 7.4096274\n",
      "Actual weight: 6.2501051276999995\n",
      "\n",
      "Predicted weight: 7.1798453\n",
      "Actual weight: 8.62448368944\n",
      "\n",
      "Predicted weight: 4.441638\n",
      "Actual weight: 3.42157430624\n",
      "\n",
      "Predicted weight: 6.0949483\n",
      "Actual weight: 5.401325419\n",
      "\n",
      "Predicted weight: 7.4621286\n",
      "Actual weight: 9.31232594688\n",
      "\n",
      "Predicted weight: 7.0019193\n",
      "Actual weight: 8.298199541679999\n",
      "\n",
      "Predicted weight: 7.3816953\n",
      "Actual weight: 6.6359140862\n",
      "\n",
      "Predicted weight: 7.746577\n",
      "Actual weight: 8.437090766739999\n",
      "\n",
      "Predicted weight: 7.302982\n",
      "Actual weight: 8.14828520352\n",
      "\n",
      "Predicted weight: 5.9219513\n",
      "Actual weight: 6.503636729\n",
      "\n",
      "Predicted weight: 7.0177374\n",
      "Actual weight: 8.18796841068\n",
      "\n",
      "Predicted weight: 7.8975396\n",
      "Actual weight: 7.9608922808199996\n",
      "\n",
      "Predicted weight: 7.5135183\n",
      "Actual weight: 6.2501051276999995\n",
      "\n",
      "Predicted weight: 7.1639347\n",
      "Actual weight: 7.87491199864\n",
      "\n",
      "Predicted weight: 7.993436\n",
      "Actual weight: 7.81318256528\n",
      "\n"
     ]
    }
   ],
   "source": [
    "for i in range(20):\n",
    "    print('Predicted weight:', y_pred1[i])\n",
    "    print('Actual weight:', y_test.iloc[i])\n",
    "    print()"
   ]
  },
  {
   "cell_type": "markdown",
   "id": "6b21b41b-bf59-4224-9f44-da65b753847b",
   "metadata": {},
   "source": [
    "CONCLUSION(Comparing the two above results)\n",
    "\n",
    "In the above model we have seen that by changing the learning rate from 0.1 to 0.3 and having max depth 3 the model will not ne better furhter. So by changing again the learning rate to 0.1 and max_depth 7 we have seen the model predicts slightly better in the above case"
   ]
  },
  {
   "cell_type": "code",
   "execution_count": null,
   "id": "b7d4b331-5ff1-40a6-8547-5427c3464f83",
   "metadata": {},
   "outputs": [],
   "source": [
    "#we can also use a for loop for different learning rate\n",
    "lr = [0.001,0.01,0.05,0.1,0.25]\n",
    "\n",
    "for i in lr:\n",
    "    model_i = Xgb.XGBRegressor(objective='reg:linear',learning_rate=i)\n",
    "    model_i.fit(x_train,y_train)\n",
    "    y_pred_i = model_i.predict(x_test)\n",
    "    print(f\"R-square value when max_depth is {i} is: \",r2_score(y_test,y_pred_i))"
   ]
  },
  {
   "cell_type": "code",
   "execution_count": null,
   "id": "d17fce79-d3be-4556-a6dc-c494a03815f5",
   "metadata": {},
   "outputs": [],
   "source": []
  }
 ],
 "metadata": {
  "kernelspec": {
   "display_name": "Python (Local)",
   "language": "python",
   "name": "local-base"
  },
  "language_info": {
   "codemirror_mode": {
    "name": "ipython",
    "version": 3
   },
   "file_extension": ".py",
   "mimetype": "text/x-python",
   "name": "python",
   "nbconvert_exporter": "python",
   "pygments_lexer": "ipython3",
   "version": "3.7.12"
  }
 },
 "nbformat": 4,
 "nbformat_minor": 5
}
