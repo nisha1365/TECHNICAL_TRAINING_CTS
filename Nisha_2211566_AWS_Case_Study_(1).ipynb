{
  "cells": [
    {
      "cell_type": "markdown",
      "metadata": {
        "id": "view-in-github",
        "colab_type": "text"
      },
      "source": [
        "<a href=\"https://colab.research.google.com/github/nisha1365/TECHNICAL_TRAINING_CTS/blob/main/Nisha_2211566_AWS_Case_Study_(1).ipynb\" target=\"_parent\"><img src=\"https://colab.research.google.com/assets/colab-badge.svg\" alt=\"Open In Colab\"/></a>"
      ]
    },
    {
      "cell_type": "markdown",
      "metadata": {
        "id": "WEBUMN6D66IM"
      },
      "source": [
        "## Detect Heart Failure From Clinical Record With Sagemaker Feature Store\n",
        "\n",
        "\n"
      ],
      "id": "WEBUMN6D66IM"
    },
    {
      "cell_type": "markdown",
      "metadata": {
        "id": "keby58TZ66IP"
      },
      "source": [
        "### Setting up Sagemaker Feature Store\n",
        "\n",
        "Setting up the SageMaker Python SDK and boto client\n",
        "\n",
        "* S3FS is a PyFilesystem interface to Amazon S3 cloud storage.As a PyFilesystem concrete class, S3FS allows you to work with S3 in the same way as any other supported filesystem.\n",
        "\n",
        "* boto3: boto3:Python (Boto3) to create, configure, and manage AWS services, such as Amazon Elastic Compute Cloud (Amazon EC2) and Amazon Simple Storage Service (Amazon S3). The SDK provides an object-oriented API as well as low-level access to AWS services.The main benefit of using the Boto3 client are: It maps 1:1 with the actual AWS service API.\n",
        "\n",
        "* The session object that manages interactions with SageMaker API operations and other AWS service that the training job uses.\n"
      ],
      "id": "keby58TZ66IP"
    },
    {
      "cell_type": "code",
      "execution_count": null,
      "metadata": {
        "tags": [],
        "id": "7b_XNY1_66IP",
        "outputId": "654230f8-eab3-4368-d974-6f539e8549b5"
      },
      "outputs": [
        {
          "name": "stdout",
          "output_type": "stream",
          "text": [
            "Keyring is skipped due to an exception: 'keyring.backends'\n",
            "Requirement already satisfied: s3fs in /opt/conda/lib/python3.7/site-packages (2022.11.0)\n",
            "Requirement already satisfied: fsspec==2022.11.0 in /opt/conda/lib/python3.7/site-packages (from s3fs) (2022.11.0)\n",
            "Requirement already satisfied: aiohttp!=4.0.0a0,!=4.0.0a1 in /opt/conda/lib/python3.7/site-packages (from s3fs) (3.8.3)\n",
            "Requirement already satisfied: aiobotocore~=2.4.0 in /opt/conda/lib/python3.7/site-packages (from s3fs) (2.4.0)\n",
            "Collecting botocore<1.27.60,>=1.27.59\n",
            "  Using cached botocore-1.27.59-py3-none-any.whl (9.1 MB)\n",
            "Requirement already satisfied: wrapt>=1.10.10 in /opt/conda/lib/python3.7/site-packages (from aiobotocore~=2.4.0->s3fs) (1.11.2)\n",
            "Requirement already satisfied: aioitertools>=0.5.1 in /opt/conda/lib/python3.7/site-packages (from aiobotocore~=2.4.0->s3fs) (0.11.0)\n",
            "Requirement already satisfied: multidict<7.0,>=4.5 in /opt/conda/lib/python3.7/site-packages (from aiohttp!=4.0.0a0,!=4.0.0a1->s3fs) (6.0.2)\n",
            "Requirement already satisfied: aiosignal>=1.1.2 in /opt/conda/lib/python3.7/site-packages (from aiohttp!=4.0.0a0,!=4.0.0a1->s3fs) (1.3.1)\n",
            "Requirement already satisfied: async-timeout<5.0,>=4.0.0a3 in /opt/conda/lib/python3.7/site-packages (from aiohttp!=4.0.0a0,!=4.0.0a1->s3fs) (4.0.2)\n",
            "Requirement already satisfied: typing-extensions>=3.7.4 in /opt/conda/lib/python3.7/site-packages (from aiohttp!=4.0.0a0,!=4.0.0a1->s3fs) (4.4.0)\n",
            "Requirement already satisfied: frozenlist>=1.1.1 in /opt/conda/lib/python3.7/site-packages (from aiohttp!=4.0.0a0,!=4.0.0a1->s3fs) (1.3.3)\n",
            "Requirement already satisfied: asynctest==0.13.0 in /opt/conda/lib/python3.7/site-packages (from aiohttp!=4.0.0a0,!=4.0.0a1->s3fs) (0.13.0)\n",
            "Requirement already satisfied: charset-normalizer<3.0,>=2.0 in /opt/conda/lib/python3.7/site-packages (from aiohttp!=4.0.0a0,!=4.0.0a1->s3fs) (2.0.4)\n",
            "Requirement already satisfied: attrs>=17.3.0 in /opt/conda/lib/python3.7/site-packages (from aiohttp!=4.0.0a0,!=4.0.0a1->s3fs) (22.1.0)\n",
            "Requirement already satisfied: yarl<2.0,>=1.0 in /opt/conda/lib/python3.7/site-packages (from aiohttp!=4.0.0a0,!=4.0.0a1->s3fs) (1.8.1)\n",
            "Requirement already satisfied: jmespath<2.0.0,>=0.7.1 in /opt/conda/lib/python3.7/site-packages (from botocore<1.27.60,>=1.27.59->aiobotocore~=2.4.0->s3fs) (1.0.1)\n",
            "Requirement already satisfied: urllib3<1.27,>=1.25.4 in /opt/conda/lib/python3.7/site-packages (from botocore<1.27.60,>=1.27.59->aiobotocore~=2.4.0->s3fs) (1.26.12)\n",
            "Requirement already satisfied: python-dateutil<3.0.0,>=2.1 in /opt/conda/lib/python3.7/site-packages (from botocore<1.27.60,>=1.27.59->aiobotocore~=2.4.0->s3fs) (2.8.2)\n",
            "Requirement already satisfied: idna>=2.0 in /opt/conda/lib/python3.7/site-packages (from yarl<2.0,>=1.0->aiohttp!=4.0.0a0,!=4.0.0a1->s3fs) (2.8)\n",
            "Requirement already satisfied: six>=1.5 in /opt/conda/lib/python3.7/site-packages (from python-dateutil<3.0.0,>=2.1->botocore<1.27.60,>=1.27.59->aiobotocore~=2.4.0->s3fs) (1.14.0)\n",
            "Installing collected packages: botocore\n",
            "  Attempting uninstall: botocore\n",
            "    Found existing installation: botocore 1.29.8\n",
            "    Uninstalling botocore-1.29.8:\n",
            "      Successfully uninstalled botocore-1.29.8\n",
            "\u001b[31mERROR: pip's dependency resolver does not currently take into account all the packages that are installed. This behaviour is the source of the following dependency conflicts.\n",
            "boto3 1.26.8 requires botocore<1.30.0,>=1.29.8, but you have botocore 1.27.59 which is incompatible.\n",
            "awscli 1.27.8 requires botocore==1.29.8, but you have botocore 1.27.59 which is incompatible.\n",
            "awscli 1.27.8 requires PyYAML<5.5,>=3.10, but you have pyyaml 6.0 which is incompatible.\n",
            "awscli 1.27.8 requires rsa<4.8,>=3.1.2, but you have rsa 4.9 which is incompatible.\u001b[0m\u001b[31m\n",
            "\u001b[0mSuccessfully installed botocore-1.27.59\n",
            "\u001b[33mWARNING: Running pip as the 'root' user can result in broken permissions and conflicting behaviour with the system package manager. It is recommended to use a virtual environment instead: https://pip.pypa.io/warnings/venv\u001b[0m\u001b[33m\n",
            "\u001b[0m"
          ]
        }
      ],
      "source": [
        "!pip install s3fs\n",
        " \n",
        "import boto3\n",
        "import sagemaker\n",
        "from sagemaker.session import Session"
      ],
      "id": "7b_XNY1_66IP"
    },
    {
      "cell_type": "markdown",
      "metadata": {
        "id": "-Z1vPGH966IR"
      },
      "source": [
        "### Feature store setup\n",
        "\n",
        "To start using Feature Store, first create a SageMaker session, boto3 session, and a Feature Store session. \n",
        "\n",
        "sagemaker_client (boto3.SageMaker.Client) – Client which makes Amazon SageMaker service calls other than InvokeEndpoint (default: None). Estimators created using this Session use this client. If not provided, one will be created using this instance’s boto_session.\n",
        "\n",
        "sagemaker_runtime_client (boto3.SageMakerRuntime.Client) – Client which makes InvokeEndpoint calls to Amazon SageMaker (default: None). Predictors created using this Session use this client. If not provided, one will be created using this instance’s boto_session.\n",
        "\n",
        "sagemaker_featurestore_runtime_client (boto3.SageMakerFeatureStoreRuntime.Client) – Client which makes SageMaker FeatureStore record related calls to Amazon SageMaker (default: None). If not provided, one will be created using this instance’s boto_session."
      ],
      "id": "-Z1vPGH966IR"
    },
    {
      "cell_type": "code",
      "execution_count": null,
      "metadata": {
        "tags": [],
        "id": "8HRomarY66IR"
      },
      "outputs": [],
      "source": [
        "region = boto3.Session().region_name\n",
        " \n",
        "boto_session = boto3.Session(region_name=region)\n",
        " \n",
        "sagemaker_client = boto_session.client(service_name='sagemaker', region_name=region)\n",
        "featurestore_runtime = boto_session.client(service_name='sagemaker-featurestore-runtime', region_name=region)\n",
        " \n",
        "feature_store_session = Session(\n",
        "    boto_session=boto_session,\n",
        "    sagemaker_client=sagemaker_client,\n",
        "    sagemaker_featurestore_runtime_client=featurestore_runtime\n",
        ")"
      ],
      "id": "8HRomarY66IR"
    },
    {
      "cell_type": "markdown",
      "metadata": {
        "id": "htcCEuJT66IS"
      },
      "source": [
        "### Set up S3 bucket for the offline store\n",
        "\n",
        "Setting up the bucket you will use for your features; this is your Offline Store. The following will use the SageMaker default bucket and add a custom prefix to it.\n",
        "SageMaker feature store assumes an IAM role which has access to it. the role is owned by you.\n",
        "The same bucket can be re used across different feature groups. Data in the bucket is partioned by feature group."
      ],
      "id": "htcCEuJT66IS"
    },
    {
      "cell_type": "code",
      "execution_count": null,
      "metadata": {
        "tags": [],
        "id": "SYAsg0wJ66IS",
        "outputId": "fcd910c1-7794-4956-95aa-6687e165b099"
      },
      "outputs": [
        {
          "name": "stdout",
          "output_type": "stream",
          "text": [
            "sagemaker-ap-northeast-1-555918697305\n"
          ]
        }
      ],
      "source": [
        "\n",
        "# change the bucket name to your desired bucket name \n",
        "default_s3_bucket_name = feature_store_session.default_bucket()\n",
        "prefix = 'feature-store'\n",
        " \n",
        "print(default_s3_bucket_name)\n",
        "\n"
      ],
      "id": "SYAsg0wJ66IS"
    },
    {
      "cell_type": "markdown",
      "metadata": {
        "id": "IcN80uay66IT"
      },
      "source": [
        "### Setting up the IAM role"
      ],
      "id": "IcN80uay66IT"
    },
    {
      "cell_type": "code",
      "execution_count": null,
      "metadata": {
        "tags": [],
        "id": "7mpJJSUO66IT",
        "outputId": "aeb156c2-c983-4944-cd7e-4670650896a4"
      },
      "outputs": [
        {
          "name": "stdout",
          "output_type": "stream",
          "text": [
            "arn:aws:iam::555918697305:role/service-role/AmazonSageMaker-ExecutionRole-20221121T170842\n"
          ]
        }
      ],
      "source": [
        "from sagemaker import get_execution_role\n",
        "\n",
        "role = get_execution_role()\n",
        "print(role)"
      ],
      "id": "7mpJJSUO66IT"
    },
    {
      "cell_type": "markdown",
      "metadata": {
        "id": "X_OQoHuT66IT"
      },
      "source": [
        "### Importing Necessary Libraries"
      ],
      "id": "X_OQoHuT66IT"
    },
    {
      "cell_type": "code",
      "execution_count": null,
      "metadata": {
        "tags": [],
        "id": "BFs1iHim66IU"
      },
      "outputs": [],
      "source": [
        "import pandas as pd\n",
        "from IPython.display import display"
      ],
      "id": "BFs1iHim66IU"
    },
    {
      "cell_type": "markdown",
      "metadata": {
        "id": "G1akLLzk66IU"
      },
      "source": [
        "### Uploading data to the S3 bucket"
      ],
      "id": "G1akLLzk66IU"
    },
    {
      "cell_type": "code",
      "execution_count": null,
      "metadata": {
        "tags": [],
        "id": "PoE3xcUt66IV",
        "outputId": "ef202a5a-64d9-451b-87f0-788c4a6d04df"
      },
      "outputs": [
        {
          "name": "stdout",
          "output_type": "stream",
          "text": [
            "\n",
            "The user-provided path ./clinical_records_dataset.csv does not exist.\n"
          ]
        }
      ],
      "source": [
        "!aws s3 cp  ./clinical_records_dataset.csv s3://$default_s3_bucket_name/$prefix/data/"
      ],
      "id": "PoE3xcUt66IV"
    },
    {
      "cell_type": "markdown",
      "metadata": {
        "id": "XUZQwOan66IV"
      },
      "source": [
        "### Loading the dataset "
      ],
      "id": "XUZQwOan66IV"
    },
    {
      "cell_type": "code",
      "execution_count": null,
      "metadata": {
        "tags": [],
        "id": "vd3AQZBS66IV",
        "outputId": "57d373d1-8a52-4e23-d4b8-7f44042d636d"
      },
      "outputs": [
        {
          "data": {
            "text/html": [
              "<div>\n",
              "<style scoped>\n",
              "    .dataframe tbody tr th:only-of-type {\n",
              "        vertical-align: middle;\n",
              "    }\n",
              "\n",
              "    .dataframe tbody tr th {\n",
              "        vertical-align: top;\n",
              "    }\n",
              "\n",
              "    .dataframe thead th {\n",
              "        text-align: right;\n",
              "    }\n",
              "</style>\n",
              "<table border=\"1\" class=\"dataframe\">\n",
              "  <thead>\n",
              "    <tr style=\"text-align: right;\">\n",
              "      <th></th>\n",
              "      <th>age</th>\n",
              "      <th>anaemia</th>\n",
              "      <th>creatinine_phosphokinase</th>\n",
              "      <th>diabetes</th>\n",
              "      <th>ejection_fraction</th>\n",
              "      <th>high_blood_pressure</th>\n",
              "      <th>platelets</th>\n",
              "      <th>serum_creatinine</th>\n",
              "      <th>serum_sodium</th>\n",
              "      <th>sex</th>\n",
              "      <th>smoking</th>\n",
              "      <th>time</th>\n",
              "      <th>DEATH_EVENT</th>\n",
              "    </tr>\n",
              "  </thead>\n",
              "  <tbody>\n",
              "    <tr>\n",
              "      <th>0</th>\n",
              "      <td>75.0</td>\n",
              "      <td>0</td>\n",
              "      <td>582</td>\n",
              "      <td>0</td>\n",
              "      <td>20</td>\n",
              "      <td>1</td>\n",
              "      <td>265000.00</td>\n",
              "      <td>1.9</td>\n",
              "      <td>130</td>\n",
              "      <td>1</td>\n",
              "      <td>0</td>\n",
              "      <td>4</td>\n",
              "      <td>1</td>\n",
              "    </tr>\n",
              "    <tr>\n",
              "      <th>1</th>\n",
              "      <td>55.0</td>\n",
              "      <td>0</td>\n",
              "      <td>7861</td>\n",
              "      <td>0</td>\n",
              "      <td>38</td>\n",
              "      <td>0</td>\n",
              "      <td>263358.03</td>\n",
              "      <td>1.1</td>\n",
              "      <td>136</td>\n",
              "      <td>1</td>\n",
              "      <td>0</td>\n",
              "      <td>6</td>\n",
              "      <td>1</td>\n",
              "    </tr>\n",
              "    <tr>\n",
              "      <th>2</th>\n",
              "      <td>65.0</td>\n",
              "      <td>0</td>\n",
              "      <td>146</td>\n",
              "      <td>0</td>\n",
              "      <td>20</td>\n",
              "      <td>0</td>\n",
              "      <td>162000.00</td>\n",
              "      <td>1.3</td>\n",
              "      <td>129</td>\n",
              "      <td>1</td>\n",
              "      <td>1</td>\n",
              "      <td>7</td>\n",
              "      <td>1</td>\n",
              "    </tr>\n",
              "    <tr>\n",
              "      <th>3</th>\n",
              "      <td>50.0</td>\n",
              "      <td>1</td>\n",
              "      <td>111</td>\n",
              "      <td>0</td>\n",
              "      <td>20</td>\n",
              "      <td>0</td>\n",
              "      <td>210000.00</td>\n",
              "      <td>1.9</td>\n",
              "      <td>137</td>\n",
              "      <td>1</td>\n",
              "      <td>0</td>\n",
              "      <td>7</td>\n",
              "      <td>1</td>\n",
              "    </tr>\n",
              "    <tr>\n",
              "      <th>4</th>\n",
              "      <td>65.0</td>\n",
              "      <td>1</td>\n",
              "      <td>160</td>\n",
              "      <td>1</td>\n",
              "      <td>20</td>\n",
              "      <td>0</td>\n",
              "      <td>327000.00</td>\n",
              "      <td>2.7</td>\n",
              "      <td>116</td>\n",
              "      <td>0</td>\n",
              "      <td>0</td>\n",
              "      <td>8</td>\n",
              "      <td>1</td>\n",
              "    </tr>\n",
              "  </tbody>\n",
              "</table>\n",
              "</div>"
            ],
            "text/plain": [
              "    age  anaemia  creatinine_phosphokinase  diabetes  ejection_fraction  \\\n",
              "0  75.0        0                       582         0                 20   \n",
              "1  55.0        0                      7861         0                 38   \n",
              "2  65.0        0                       146         0                 20   \n",
              "3  50.0        1                       111         0                 20   \n",
              "4  65.0        1                       160         1                 20   \n",
              "\n",
              "   high_blood_pressure  platelets  serum_creatinine  serum_sodium  sex  \\\n",
              "0                    1  265000.00               1.9           130    1   \n",
              "1                    0  263358.03               1.1           136    1   \n",
              "2                    0  162000.00               1.3           129    1   \n",
              "3                    0  210000.00               1.9           137    1   \n",
              "4                    0  327000.00               2.7           116    0   \n",
              "\n",
              "   smoking  time  DEATH_EVENT  \n",
              "0        0     4            1  \n",
              "1        0     6            1  \n",
              "2        1     7            1  \n",
              "3        0     7            1  \n",
              "4        0     8            1  "
            ]
          },
          "execution_count": 8,
          "metadata": {},
          "output_type": "execute_result"
        }
      ],
      "source": [
        "clinical_data_file_name = 'clinical_records_dataset.csv'\n",
        "clinical_data_path = \"s3://{}/{}/data/{}\".format(default_s3_bucket_name, prefix, clinical_data_file_name)\n",
        "clinical = pd.read_csv(clinical_data_path)\n",
        "pd.set_option('display.max_columns', 500)\n",
        "clinical.head()"
      ],
      "id": "vd3AQZBS66IV"
    },
    {
      "cell_type": "markdown",
      "metadata": {
        "id": "R5DkAG4n66IW"
      },
      "source": [
        "### Checking for null values"
      ],
      "id": "R5DkAG4n66IW"
    },
    {
      "cell_type": "code",
      "execution_count": null,
      "metadata": {
        "tags": [],
        "id": "XJBU5NUZ66IW",
        "outputId": "24f6af1d-37ab-4f08-a542-8e2a12597132"
      },
      "outputs": [
        {
          "name": "stdout",
          "output_type": "stream",
          "text": [
            "percentage of the value missing in each column is: \n"
          ]
        },
        {
          "data": {
            "text/plain": [
              "age                         0.0\n",
              "anaemia                     0.0\n",
              "creatinine_phosphokinase    0.0\n",
              "diabetes                    0.0\n",
              "ejection_fraction           0.0\n",
              "high_blood_pressure         0.0\n",
              "platelets                   0.0\n",
              "serum_creatinine            0.0\n",
              "serum_sodium                0.0\n",
              "sex                         0.0\n",
              "smoking                     0.0\n",
              "time                        0.0\n",
              "DEATH_EVENT                 0.0\n",
              "dtype: float64"
            ]
          },
          "execution_count": 9,
          "metadata": {},
          "output_type": "execute_result"
        }
      ],
      "source": [
        "print ('percentage of the value missing in each column is: ')\n",
        "clinical.isnull().sum() / len(clinical)"
      ],
      "id": "XJBU5NUZ66IW"
    },
    {
      "cell_type": "markdown",
      "metadata": {
        "id": "8xSE2oRx66IW"
      },
      "source": [
        "### There are no missing values"
      ],
      "id": "8xSE2oRx66IW"
    },
    {
      "cell_type": "markdown",
      "metadata": {
        "id": "wcXkVBFY66IW"
      },
      "source": [
        "### Prepare data for Feature Store\n",
        "\n",
        "In the Amazon SageMaker Feature Store API , a feature is an attribute of a record. You can define a name and type for every feature stored in Feature Store. Name uniquely  indentifies a feature within a feature group. type identifies the datatype  for the values of the feature.Supported datatypes  are string, integral and Fractional.\n",
        "\n",
        "### Feature Store Concepts\n",
        "The following list of terms are key to understanding the capabilities of Amazon SageMaker Feature Store: \n",
        "\n",
        "Feature store – Serves as the single source of truth to store, retrieve, remove, track, share, discover, and control access to features.\n",
        "\n",
        "* Feature – A measurable property or characteristic that encapsulates an observed phenomenon. In the Amazon SageMaker Feature Store API, a feature is an attribute of a record. You can define a name and type for every feature stored in Feature Store. Name uniquely identifies a feature within a feature group. Type identifies the datatype for the values of the feature. Supported datatypes are: String, Integral and Fractional. \n",
        "\n",
        "* Feature group – A FeatureGroup is the main Feature Store resource that contains the metadata for all the data stored in Amazon SageMaker Feature Store. A feature group is a logical grouping of features, defined in the feature store, to describe records. A feature group’s definition is composed of a list of feature definitions, a record identifier name, and configurations for its online and offline store. \n",
        "\n",
        "* Feature definition – A FeatureDefinition consists of a name and one of the following data types: an Integral, String or Fractional. A FeatureGroup contains a list of feature definitions. \n",
        "\n",
        "* Record identifier name – Each feature group is defined with a record identifier name. The record identifier name must refer to one of the names of a feature defined in the feature group's feature definitions.\n",
        "\n",
        "* Record – A Record is a collection of values for features for a single record identifier value. A combination of record identifier name and a timestamp uniquely identify a record within a feature group. \n",
        "\n",
        "* Event time – a point in time when a new event occurs that corresponds to the creation or update of a record in a feature group. All records in the feature group must have a corresponding Eventtime. It can be used to track changes to a record over time. The online store contains the record corresponding to the last Eventtime for a record identifier name, whereas the offline store contains all historic records. Event time values can either be of a fractional or string type. Fractional values must be UNIX timestamps. Strings must follow the ISO 8601 standard. The following formats are supported yyyy-MM-dd'T'HH:mm:ssZ and yyyy-MM-dd'T'HH:mm:ss.SSSZ where yyyy, MM, and dd represent the year, month, and day respectively and HH, mm, ss, and if applicable, SSS represent the hour, month, second and milliseconds respsectively. T and Z are constants.\n",
        "\n",
        "* Online Store – the low latency, high availability cache for a feature group that enables real-time lookup of records. The online store allows quick access to the latest value for a Record via the GetRecord API. A feature group contains an OnlineStoreConfig controlling where the data is stored.\n",
        "\n",
        "* Offline store – the OfflineStore, stores historical data in your S3 bucket. It is used when low (sub-second) latency reads are not needed. For example, when you want to store and serve features for exploration, model training, and batch inference. A feature group contains an OfflineStoreConfig controlling where the data is stored.\n",
        "\n",
        "* Ingestion – The act of populating feature groups in the feature store."
      ],
      "id": "wcXkVBFY66IW"
    },
    {
      "cell_type": "markdown",
      "metadata": {
        "id": "WyJwVP4266IX"
      },
      "source": [
        "## Create a unique id for each patient\n",
        "\n",
        "Adding an id for each patient.Here we are renaming the index column as patient id in the clinical dataset"
      ],
      "id": "WyJwVP4266IX"
    },
    {
      "cell_type": "code",
      "execution_count": null,
      "metadata": {
        "tags": [],
        "id": "V6QQjxSL66IX"
      },
      "outputs": [],
      "source": [
        "\n",
        "\n",
        "\n",
        "clinical.reset_index(inplace = True)\n",
        "\n",
        "clinical.rename(columns = {'index': 'patient_id'}, inplace = True)\n",
        "\n"
      ],
      "id": "V6QQjxSL66IX"
    },
    {
      "cell_type": "markdown",
      "metadata": {
        "id": "4c0kMISX66IY"
      },
      "source": [
        "### Checking the first 5 rows"
      ],
      "id": "4c0kMISX66IY"
    },
    {
      "cell_type": "code",
      "execution_count": null,
      "metadata": {
        "tags": [],
        "id": "JknyKoKf66IY",
        "outputId": "cb765603-286e-4076-97cf-594e31c5188b"
      },
      "outputs": [
        {
          "data": {
            "text/html": [
              "<div>\n",
              "<style scoped>\n",
              "    .dataframe tbody tr th:only-of-type {\n",
              "        vertical-align: middle;\n",
              "    }\n",
              "\n",
              "    .dataframe tbody tr th {\n",
              "        vertical-align: top;\n",
              "    }\n",
              "\n",
              "    .dataframe thead th {\n",
              "        text-align: right;\n",
              "    }\n",
              "</style>\n",
              "<table border=\"1\" class=\"dataframe\">\n",
              "  <thead>\n",
              "    <tr style=\"text-align: right;\">\n",
              "      <th></th>\n",
              "      <th>patient_id</th>\n",
              "      <th>age</th>\n",
              "      <th>anaemia</th>\n",
              "      <th>creatinine_phosphokinase</th>\n",
              "      <th>diabetes</th>\n",
              "      <th>ejection_fraction</th>\n",
              "      <th>high_blood_pressure</th>\n",
              "      <th>platelets</th>\n",
              "      <th>serum_creatinine</th>\n",
              "      <th>serum_sodium</th>\n",
              "      <th>sex</th>\n",
              "      <th>smoking</th>\n",
              "      <th>time</th>\n",
              "      <th>DEATH_EVENT</th>\n",
              "    </tr>\n",
              "  </thead>\n",
              "  <tbody>\n",
              "    <tr>\n",
              "      <th>0</th>\n",
              "      <td>0</td>\n",
              "      <td>75.0</td>\n",
              "      <td>0</td>\n",
              "      <td>582</td>\n",
              "      <td>0</td>\n",
              "      <td>20</td>\n",
              "      <td>1</td>\n",
              "      <td>265000.00</td>\n",
              "      <td>1.9</td>\n",
              "      <td>130</td>\n",
              "      <td>1</td>\n",
              "      <td>0</td>\n",
              "      <td>4</td>\n",
              "      <td>1</td>\n",
              "    </tr>\n",
              "    <tr>\n",
              "      <th>1</th>\n",
              "      <td>1</td>\n",
              "      <td>55.0</td>\n",
              "      <td>0</td>\n",
              "      <td>7861</td>\n",
              "      <td>0</td>\n",
              "      <td>38</td>\n",
              "      <td>0</td>\n",
              "      <td>263358.03</td>\n",
              "      <td>1.1</td>\n",
              "      <td>136</td>\n",
              "      <td>1</td>\n",
              "      <td>0</td>\n",
              "      <td>6</td>\n",
              "      <td>1</td>\n",
              "    </tr>\n",
              "    <tr>\n",
              "      <th>2</th>\n",
              "      <td>2</td>\n",
              "      <td>65.0</td>\n",
              "      <td>0</td>\n",
              "      <td>146</td>\n",
              "      <td>0</td>\n",
              "      <td>20</td>\n",
              "      <td>0</td>\n",
              "      <td>162000.00</td>\n",
              "      <td>1.3</td>\n",
              "      <td>129</td>\n",
              "      <td>1</td>\n",
              "      <td>1</td>\n",
              "      <td>7</td>\n",
              "      <td>1</td>\n",
              "    </tr>\n",
              "    <tr>\n",
              "      <th>3</th>\n",
              "      <td>3</td>\n",
              "      <td>50.0</td>\n",
              "      <td>1</td>\n",
              "      <td>111</td>\n",
              "      <td>0</td>\n",
              "      <td>20</td>\n",
              "      <td>0</td>\n",
              "      <td>210000.00</td>\n",
              "      <td>1.9</td>\n",
              "      <td>137</td>\n",
              "      <td>1</td>\n",
              "      <td>0</td>\n",
              "      <td>7</td>\n",
              "      <td>1</td>\n",
              "    </tr>\n",
              "    <tr>\n",
              "      <th>4</th>\n",
              "      <td>4</td>\n",
              "      <td>65.0</td>\n",
              "      <td>1</td>\n",
              "      <td>160</td>\n",
              "      <td>1</td>\n",
              "      <td>20</td>\n",
              "      <td>0</td>\n",
              "      <td>327000.00</td>\n",
              "      <td>2.7</td>\n",
              "      <td>116</td>\n",
              "      <td>0</td>\n",
              "      <td>0</td>\n",
              "      <td>8</td>\n",
              "      <td>1</td>\n",
              "    </tr>\n",
              "  </tbody>\n",
              "</table>\n",
              "</div>"
            ],
            "text/plain": [
              "   patient_id   age  anaemia  creatinine_phosphokinase  diabetes  \\\n",
              "0           0  75.0        0                       582         0   \n",
              "1           1  55.0        0                      7861         0   \n",
              "2           2  65.0        0                       146         0   \n",
              "3           3  50.0        1                       111         0   \n",
              "4           4  65.0        1                       160         1   \n",
              "\n",
              "   ejection_fraction  high_blood_pressure  platelets  serum_creatinine  \\\n",
              "0                 20                    1  265000.00               1.9   \n",
              "1                 38                    0  263358.03               1.1   \n",
              "2                 20                    0  162000.00               1.3   \n",
              "3                 20                    0  210000.00               1.9   \n",
              "4                 20                    0  327000.00               2.7   \n",
              "\n",
              "   serum_sodium  sex  smoking  time  DEATH_EVENT  \n",
              "0           130    1        0     4            1  \n",
              "1           136    1        0     6            1  \n",
              "2           129    1        1     7            1  \n",
              "3           137    1        0     7            1  \n",
              "4           116    0        0     8            1  "
            ]
          },
          "execution_count": 11,
          "metadata": {},
          "output_type": "execute_result"
        }
      ],
      "source": [
        "clinical.head()"
      ],
      "id": "JknyKoKf66IY"
    },
    {
      "cell_type": "markdown",
      "metadata": {
        "id": "G_pifr3E66IZ"
      },
      "source": [
        "### Checking the datatypes of the features"
      ],
      "id": "G_pifr3E66IZ"
    },
    {
      "cell_type": "code",
      "execution_count": null,
      "metadata": {
        "tags": [],
        "id": "JTFtcDvT66IZ",
        "outputId": "e77e0b2f-6208-4678-c508-f32cfae36129"
      },
      "outputs": [
        {
          "data": {
            "text/plain": [
              "patient_id                    int64\n",
              "age                         float64\n",
              "anaemia                       int64\n",
              "creatinine_phosphokinase      int64\n",
              "diabetes                      int64\n",
              "ejection_fraction             int64\n",
              "high_blood_pressure           int64\n",
              "platelets                   float64\n",
              "serum_creatinine            float64\n",
              "serum_sodium                  int64\n",
              "sex                           int64\n",
              "smoking                       int64\n",
              "time                          int64\n",
              "DEATH_EVENT                   int64\n",
              "dtype: object"
            ]
          },
          "execution_count": 12,
          "metadata": {},
          "output_type": "execute_result"
        }
      ],
      "source": [
        "clinical.dtypes"
      ],
      "id": "JTFtcDvT66IZ"
    },
    {
      "cell_type": "markdown",
      "metadata": {
        "id": "MrTJ_nKV66IZ"
      },
      "source": [
        "### Changing the datatype of the patient id column as we want it to be treated as a string id"
      ],
      "id": "MrTJ_nKV66IZ"
    },
    {
      "cell_type": "code",
      "execution_count": null,
      "metadata": {
        "tags": [],
        "id": "QY3r8DIs66IZ"
      },
      "outputs": [],
      "source": [
        "clinical['patient_id']=clinical['patient_id'].astype(object)"
      ],
      "id": "QY3r8DIs66IZ"
    },
    {
      "cell_type": "markdown",
      "metadata": {
        "id": "ketbyGtg66Ia"
      },
      "source": [
        "### importing time and appending the eventtime feature to our current dataset"
      ],
      "id": "ketbyGtg66Ia"
    },
    {
      "cell_type": "code",
      "execution_count": null,
      "metadata": {
        "tags": [],
        "id": "6p70_UwD66Ia"
      },
      "outputs": [],
      "source": [
        "\n",
        "import time\n",
        " \n",
        "current_time_sec = int(round(time.time()))\n",
        "# append EventTime feature\n",
        "clinical['EventTime'] = pd.Series([current_time_sec]*len(clinical), dtype=\"float64\")\n"
      ],
      "id": "6p70_UwD66Ia"
    },
    {
      "cell_type": "code",
      "execution_count": null,
      "metadata": {
        "tags": [],
        "id": "F7mdg9ie66Ia",
        "outputId": "21232d29-780e-4bd9-bdd2-3952e2efb5fe"
      },
      "outputs": [
        {
          "data": {
            "text/html": [
              "<div>\n",
              "<style scoped>\n",
              "    .dataframe tbody tr th:only-of-type {\n",
              "        vertical-align: middle;\n",
              "    }\n",
              "\n",
              "    .dataframe tbody tr th {\n",
              "        vertical-align: top;\n",
              "    }\n",
              "\n",
              "    .dataframe thead th {\n",
              "        text-align: right;\n",
              "    }\n",
              "</style>\n",
              "<table border=\"1\" class=\"dataframe\">\n",
              "  <thead>\n",
              "    <tr style=\"text-align: right;\">\n",
              "      <th></th>\n",
              "      <th>patient_id</th>\n",
              "      <th>age</th>\n",
              "      <th>anaemia</th>\n",
              "      <th>creatinine_phosphokinase</th>\n",
              "      <th>diabetes</th>\n",
              "      <th>ejection_fraction</th>\n",
              "      <th>high_blood_pressure</th>\n",
              "      <th>platelets</th>\n",
              "      <th>serum_creatinine</th>\n",
              "      <th>serum_sodium</th>\n",
              "      <th>sex</th>\n",
              "      <th>smoking</th>\n",
              "      <th>time</th>\n",
              "      <th>DEATH_EVENT</th>\n",
              "      <th>EventTime</th>\n",
              "    </tr>\n",
              "  </thead>\n",
              "  <tbody>\n",
              "    <tr>\n",
              "      <th>0</th>\n",
              "      <td>0</td>\n",
              "      <td>75.0</td>\n",
              "      <td>0</td>\n",
              "      <td>582</td>\n",
              "      <td>0</td>\n",
              "      <td>20</td>\n",
              "      <td>1</td>\n",
              "      <td>265000.00</td>\n",
              "      <td>1.9</td>\n",
              "      <td>130</td>\n",
              "      <td>1</td>\n",
              "      <td>0</td>\n",
              "      <td>4</td>\n",
              "      <td>1</td>\n",
              "      <td>1.669972e+09</td>\n",
              "    </tr>\n",
              "    <tr>\n",
              "      <th>1</th>\n",
              "      <td>1</td>\n",
              "      <td>55.0</td>\n",
              "      <td>0</td>\n",
              "      <td>7861</td>\n",
              "      <td>0</td>\n",
              "      <td>38</td>\n",
              "      <td>0</td>\n",
              "      <td>263358.03</td>\n",
              "      <td>1.1</td>\n",
              "      <td>136</td>\n",
              "      <td>1</td>\n",
              "      <td>0</td>\n",
              "      <td>6</td>\n",
              "      <td>1</td>\n",
              "      <td>1.669972e+09</td>\n",
              "    </tr>\n",
              "    <tr>\n",
              "      <th>2</th>\n",
              "      <td>2</td>\n",
              "      <td>65.0</td>\n",
              "      <td>0</td>\n",
              "      <td>146</td>\n",
              "      <td>0</td>\n",
              "      <td>20</td>\n",
              "      <td>0</td>\n",
              "      <td>162000.00</td>\n",
              "      <td>1.3</td>\n",
              "      <td>129</td>\n",
              "      <td>1</td>\n",
              "      <td>1</td>\n",
              "      <td>7</td>\n",
              "      <td>1</td>\n",
              "      <td>1.669972e+09</td>\n",
              "    </tr>\n",
              "    <tr>\n",
              "      <th>3</th>\n",
              "      <td>3</td>\n",
              "      <td>50.0</td>\n",
              "      <td>1</td>\n",
              "      <td>111</td>\n",
              "      <td>0</td>\n",
              "      <td>20</td>\n",
              "      <td>0</td>\n",
              "      <td>210000.00</td>\n",
              "      <td>1.9</td>\n",
              "      <td>137</td>\n",
              "      <td>1</td>\n",
              "      <td>0</td>\n",
              "      <td>7</td>\n",
              "      <td>1</td>\n",
              "      <td>1.669972e+09</td>\n",
              "    </tr>\n",
              "    <tr>\n",
              "      <th>4</th>\n",
              "      <td>4</td>\n",
              "      <td>65.0</td>\n",
              "      <td>1</td>\n",
              "      <td>160</td>\n",
              "      <td>1</td>\n",
              "      <td>20</td>\n",
              "      <td>0</td>\n",
              "      <td>327000.00</td>\n",
              "      <td>2.7</td>\n",
              "      <td>116</td>\n",
              "      <td>0</td>\n",
              "      <td>0</td>\n",
              "      <td>8</td>\n",
              "      <td>1</td>\n",
              "      <td>1.669972e+09</td>\n",
              "    </tr>\n",
              "  </tbody>\n",
              "</table>\n",
              "</div>"
            ],
            "text/plain": [
              "  patient_id   age  anaemia  creatinine_phosphokinase  diabetes  \\\n",
              "0          0  75.0        0                       582         0   \n",
              "1          1  55.0        0                      7861         0   \n",
              "2          2  65.0        0                       146         0   \n",
              "3          3  50.0        1                       111         0   \n",
              "4          4  65.0        1                       160         1   \n",
              "\n",
              "   ejection_fraction  high_blood_pressure  platelets  serum_creatinine  \\\n",
              "0                 20                    1  265000.00               1.9   \n",
              "1                 38                    0  263358.03               1.1   \n",
              "2                 20                    0  162000.00               1.3   \n",
              "3                 20                    0  210000.00               1.9   \n",
              "4                 20                    0  327000.00               2.7   \n",
              "\n",
              "   serum_sodium  sex  smoking  time  DEATH_EVENT     EventTime  \n",
              "0           130    1        0     4            1  1.669972e+09  \n",
              "1           136    1        0     6            1  1.669972e+09  \n",
              "2           129    1        1     7            1  1.669972e+09  \n",
              "3           137    1        0     7            1  1.669972e+09  \n",
              "4           116    0        0     8            1  1.669972e+09  "
            ]
          },
          "execution_count": 15,
          "metadata": {},
          "output_type": "execute_result"
        }
      ],
      "source": [
        "clinical.head()"
      ],
      "id": "F7mdg9ie66Ia"
    },
    {
      "cell_type": "markdown",
      "metadata": {
        "id": "Is7cnL3O66Ia"
      },
      "source": [
        "### Check data types for each column. Cast object dtype to string. The SageMaker Feature Store Python SDK will then map the string dtype to String feature type."
      ],
      "id": "Is7cnL3O66Ia"
    },
    {
      "cell_type": "code",
      "execution_count": null,
      "metadata": {
        "tags": [],
        "id": "fJvIIIHz66Ib"
      },
      "outputs": [],
      "source": [
        "def cast_object_to_string(data_frame):\n",
        "    for label in data_frame.columns:\n",
        "        if data_frame.dtypes[label] == 'object':\n",
        "            data_frame[label] = data_frame[label].astype(\"str\").astype(\"string\")\n",
        " \n",
        "\n",
        "cast_object_to_string(clinical)"
      ],
      "id": "fJvIIIHz66Ib"
    },
    {
      "cell_type": "markdown",
      "metadata": {
        "id": "W3hMnU_l66Ib"
      },
      "source": [
        "### Checking the datatypes "
      ],
      "id": "W3hMnU_l66Ib"
    },
    {
      "cell_type": "code",
      "execution_count": null,
      "metadata": {
        "tags": [],
        "id": "sXtWwSEo66Ib",
        "outputId": "42ec525b-f527-4677-a0f9-ee03639cae7c"
      },
      "outputs": [
        {
          "data": {
            "text/plain": [
              "patient_id                   string\n",
              "age                         float64\n",
              "anaemia                       int64\n",
              "creatinine_phosphokinase      int64\n",
              "diabetes                      int64\n",
              "ejection_fraction             int64\n",
              "high_blood_pressure           int64\n",
              "platelets                   float64\n",
              "serum_creatinine            float64\n",
              "serum_sodium                  int64\n",
              "sex                           int64\n",
              "smoking                       int64\n",
              "time                          int64\n",
              "DEATH_EVENT                   int64\n",
              "EventTime                   float64\n",
              "dtype: object"
            ]
          },
          "execution_count": 17,
          "metadata": {},
          "output_type": "execute_result"
        }
      ],
      "source": [
        "clinical.dtypes"
      ],
      "id": "sXtWwSEo66Ib"
    },
    {
      "cell_type": "markdown",
      "metadata": {
        "tags": [],
        "id": "pFEZtTwB66Ib"
      },
      "source": [
        "### Assign a feature group name"
      ],
      "id": "pFEZtTwB66Ib"
    },
    {
      "cell_type": "code",
      "execution_count": null,
      "metadata": {
        "tags": [],
        "id": "C9PkpcAb66Ib"
      },
      "outputs": [],
      "source": [
        "from time import gmtime, strftime, sleep\n",
        "\n",
        "clinical_feature_group_name = 'clinical-feature-group-' + strftime('%d-%H-%M-%S', gmtime())"
      ],
      "id": "C9PkpcAb66Ib"
    },
    {
      "cell_type": "markdown",
      "metadata": {
        "tags": [],
        "id": "IkXhszoK66Ib"
      },
      "source": [
        "## Create a feature group"
      ],
      "id": "IkXhszoK66Ib"
    },
    {
      "cell_type": "code",
      "execution_count": null,
      "metadata": {
        "tags": [],
        "id": "LKV0CjtW66Ic"
      },
      "outputs": [],
      "source": [
        "\n",
        "from sagemaker.feature_store.feature_group import FeatureGroup\n",
        "\n",
        "clinical_feature_group = FeatureGroup(name=clinical_feature_group_name, sagemaker_session=feature_store_session)\n",
        "\n"
      ],
      "id": "LKV0CjtW66Ic"
    },
    {
      "cell_type": "markdown",
      "metadata": {
        "tags": [],
        "id": "ZgzsODO466Ic"
      },
      "source": [
        "### Define identifier\n",
        "\n",
        "Assigning record identifier and event time feature names"
      ],
      "id": "ZgzsODO466Ic"
    },
    {
      "cell_type": "code",
      "execution_count": null,
      "metadata": {
        "tags": [],
        "id": "3qBhlxql66Ic"
      },
      "outputs": [],
      "source": [
        "\n",
        "record_identifier_feature_name = \"patient_id\"\n",
        "event_time_feature_name = \"EventTime\""
      ],
      "id": "3qBhlxql66Ic"
    },
    {
      "cell_type": "markdown",
      "metadata": {
        "tags": [],
        "id": "_qFJmkIi66Ic"
      },
      "source": [
        "## Loading feature"
      ],
      "id": "_qFJmkIi66Ic"
    },
    {
      "cell_type": "code",
      "execution_count": null,
      "metadata": {
        "tags": [],
        "id": "gHEsjY2b66Ic"
      },
      "outputs": [],
      "source": [
        "clinical_feature_group.load_feature_definitions(data_frame=clinical); # output is suppressed"
      ],
      "id": "gHEsjY2b66Ic"
    },
    {
      "cell_type": "markdown",
      "metadata": {
        "id": "g1LWScU566Id"
      },
      "source": [
        "### Create feature group\n",
        "\n",
        "In this step, we use the create function to create the feature group. The following code shows all of the available parameters. The online store is not created by default, so we must set this as True if you want to enable it. The s3_uri is the S3 bucket location of your offline store."
      ],
      "id": "g1LWScU566Id"
    },
    {
      "cell_type": "code",
      "execution_count": null,
      "metadata": {
        "tags": [],
        "id": "FqEJoKb866Id",
        "outputId": "6721b074-8308-471e-b94b-eb3dfc4ca924"
      },
      "outputs": [
        {
          "name": "stdout",
          "output_type": "stream",
          "text": [
            "Waiting for Feature Group Creation\n",
            "Waiting for Feature Group Creation\n",
            "Waiting for Feature Group Creation\n",
            "Waiting for Feature Group Creation\n",
            "Waiting for Feature Group Creation\n",
            "FeatureGroup clinical-feature-group-02-08-58-42 successfully created.\n"
          ]
        }
      ],
      "source": [
        "def wait_for_feature_group_creation_complete(feature_group):\n",
        "    status = feature_group.describe().get(\"FeatureGroupStatus\")\n",
        "    while status == \"Creating\":\n",
        "        print(\"Waiting for Feature Group Creation\")\n",
        "        time.sleep(5)\n",
        "        status = feature_group.describe().get(\"FeatureGroupStatus\")\n",
        "    if status != \"Created\":\n",
        "        raise RuntimeError(f\"Failed to create feature group {feature_group.name}\")\n",
        "    print(f\"FeatureGroup {feature_group.name} successfully created.\")\n",
        " \n",
        "clinical_feature_group.create(\n",
        "    s3_uri=f\"s3://{default_s3_bucket_name}/{prefix}\", #offline feature store bucket\n",
        "    record_identifier_name=record_identifier_feature_name,\n",
        "    event_time_feature_name=event_time_feature_name,\n",
        "    role_arn=role,\n",
        "    enable_online_store=True\n",
        ")\n",
        "wait_for_feature_group_creation_complete(feature_group=clinical_feature_group)"
      ],
      "id": "FqEJoKb866Id"
    },
    {
      "cell_type": "markdown",
      "metadata": {
        "id": "iN4afAEv66Id"
      },
      "source": [
        "### Describe a Feature Group\n",
        "You can retrieve information about your feature group with the describe function"
      ],
      "id": "iN4afAEv66Id"
    },
    {
      "cell_type": "code",
      "execution_count": null,
      "metadata": {
        "tags": [],
        "id": "32OCLcT666Id",
        "outputId": "0bc3701d-f171-464a-d0f4-1780e9b6fdb5"
      },
      "outputs": [
        {
          "data": {
            "text/plain": [
              "{'FeatureGroupArn': 'arn:aws:sagemaker:ap-northeast-1:555918697305:feature-group/clinical-feature-group-02-08-58-42',\n",
              " 'FeatureGroupName': 'clinical-feature-group-02-08-58-42',\n",
              " 'RecordIdentifierFeatureName': 'patient_id',\n",
              " 'EventTimeFeatureName': 'EventTime',\n",
              " 'FeatureDefinitions': [{'FeatureName': 'patient_id', 'FeatureType': 'String'},\n",
              "  {'FeatureName': 'age', 'FeatureType': 'Fractional'},\n",
              "  {'FeatureName': 'anaemia', 'FeatureType': 'Integral'},\n",
              "  {'FeatureName': 'creatinine_phosphokinase', 'FeatureType': 'Integral'},\n",
              "  {'FeatureName': 'diabetes', 'FeatureType': 'Integral'},\n",
              "  {'FeatureName': 'ejection_fraction', 'FeatureType': 'Integral'},\n",
              "  {'FeatureName': 'high_blood_pressure', 'FeatureType': 'Integral'},\n",
              "  {'FeatureName': 'platelets', 'FeatureType': 'Fractional'},\n",
              "  {'FeatureName': 'serum_creatinine', 'FeatureType': 'Fractional'},\n",
              "  {'FeatureName': 'serum_sodium', 'FeatureType': 'Integral'},\n",
              "  {'FeatureName': 'sex', 'FeatureType': 'Integral'},\n",
              "  {'FeatureName': 'smoking', 'FeatureType': 'Integral'},\n",
              "  {'FeatureName': 'time', 'FeatureType': 'Integral'},\n",
              "  {'FeatureName': 'DEATH_EVENT', 'FeatureType': 'Integral'},\n",
              "  {'FeatureName': 'EventTime', 'FeatureType': 'Fractional'}],\n",
              " 'CreationTime': datetime.datetime(2022, 12, 2, 8, 58, 47, 929000, tzinfo=tzlocal()),\n",
              " 'OnlineStoreConfig': {'EnableOnlineStore': True},\n",
              " 'OfflineStoreConfig': {'S3StorageConfig': {'S3Uri': 's3://sagemaker-ap-northeast-1-555918697305/feature-store',\n",
              "   'ResolvedOutputS3Uri': 's3://sagemaker-ap-northeast-1-555918697305/feature-store/555918697305/sagemaker/ap-northeast-1/offline-store/clinical-feature-group-02-08-58-42-1669971527/data'},\n",
              "  'DisableGlueTableCreation': False,\n",
              "  'DataCatalogConfig': {'TableName': 'clinical-feature-group-02-08-58-42-1669971527',\n",
              "   'Catalog': 'AwsDataCatalog',\n",
              "   'Database': 'sagemaker_featurestore'}},\n",
              " 'RoleArn': 'arn:aws:iam::555918697305:role/service-role/AmazonSageMaker-ExecutionRole-20221121T170842',\n",
              " 'FeatureGroupStatus': 'Created',\n",
              " 'OnlineStoreTotalSizeBytes': 0,\n",
              " 'ResponseMetadata': {'RequestId': 'ed95c043-affc-4e91-b7f4-b9f519183bcb',\n",
              "  'HTTPStatusCode': 200,\n",
              "  'HTTPHeaders': {'x-amzn-requestid': 'ed95c043-affc-4e91-b7f4-b9f519183bcb',\n",
              "   'content-type': 'application/x-amz-json-1.1',\n",
              "   'content-length': '2309',\n",
              "   'date': 'Fri, 02 Dec 2022 08:59:13 GMT'},\n",
              "  'RetryAttempts': 0}}"
            ]
          },
          "execution_count": 27,
          "metadata": {},
          "output_type": "execute_result"
        }
      ],
      "source": [
        "clinical_feature_group.describe()"
      ],
      "id": "32OCLcT666Id"
    },
    {
      "cell_type": "markdown",
      "metadata": {
        "id": "bogYvptq66Id"
      },
      "source": [
        "### List Feature Groups\n",
        "You can list all of your feature groups with the list_feature_groups function."
      ],
      "id": "bogYvptq66Id"
    },
    {
      "cell_type": "code",
      "execution_count": null,
      "metadata": {
        "tags": [],
        "id": "qjyHJ22F66Id",
        "outputId": "46198fe8-b21d-4fd8-ad17-e839556ed11f"
      },
      "outputs": [
        {
          "data": {
            "text/plain": [
              "{'FeatureGroupSummaries': [{'FeatureGroupName': 'clinical-feature-group-02-08-58-42',\n",
              "   'FeatureGroupArn': 'arn:aws:sagemaker:ap-northeast-1:555918697305:feature-group/clinical-feature-group-02-08-58-42',\n",
              "   'CreationTime': datetime.datetime(2022, 12, 2, 8, 58, 47, 929000, tzinfo=tzlocal()),\n",
              "   'FeatureGroupStatus': 'Created'},\n",
              "  {'FeatureGroupName': 'clinical-feature-group-02-08-49-13',\n",
              "   'FeatureGroupArn': 'arn:aws:sagemaker:ap-northeast-1:555918697305:feature-group/clinical-feature-group-02-08-49-13',\n",
              "   'CreationTime': datetime.datetime(2022, 12, 2, 8, 49, 15, 492000, tzinfo=tzlocal()),\n",
              "   'FeatureGroupStatus': 'Created',\n",
              "   'OfflineStoreStatus': {'Status': 'Active'}},\n",
              "  {'FeatureGroupName': 'clinical-feature-group-02-08-42-02',\n",
              "   'FeatureGroupArn': 'arn:aws:sagemaker:ap-northeast-1:555918697305:feature-group/clinical-feature-group-02-08-42-02',\n",
              "   'CreationTime': datetime.datetime(2022, 12, 2, 8, 42, 2, 772000, tzinfo=tzlocal()),\n",
              "   'FeatureGroupStatus': 'Created',\n",
              "   'OfflineStoreStatus': {'Status': 'Active'}},\n",
              "  {'FeatureGroupName': 'clinical-feature-group-02-08-40-31',\n",
              "   'FeatureGroupArn': 'arn:aws:sagemaker:ap-northeast-1:555918697305:feature-group/clinical-feature-group-02-08-40-31',\n",
              "   'CreationTime': datetime.datetime(2022, 12, 2, 8, 40, 32, 127000, tzinfo=tzlocal()),\n",
              "   'FeatureGroupStatus': 'Created',\n",
              "   'OfflineStoreStatus': {'Status': 'Active'}},\n",
              "  {'FeatureGroupName': 'clinical-feature-group-02-08-39-28',\n",
              "   'FeatureGroupArn': 'arn:aws:sagemaker:ap-northeast-1:555918697305:feature-group/clinical-feature-group-02-08-39-28',\n",
              "   'CreationTime': datetime.datetime(2022, 12, 2, 8, 39, 36, 297000, tzinfo=tzlocal()),\n",
              "   'FeatureGroupStatus': 'Created',\n",
              "   'OfflineStoreStatus': {'Status': 'Active'}},\n",
              "  {'FeatureGroupName': 'clinical-feature-group-02-05-10-49',\n",
              "   'FeatureGroupArn': 'arn:aws:sagemaker:ap-northeast-1:555918697305:feature-group/clinical-feature-group-02-05-10-49',\n",
              "   'CreationTime': datetime.datetime(2022, 12, 2, 5, 10, 49, 773000, tzinfo=tzlocal()),\n",
              "   'FeatureGroupStatus': 'Created',\n",
              "   'OfflineStoreStatus': {'Status': 'Active'}},\n",
              "  {'FeatureGroupName': 'clinical-feature-group-02-05-08-39',\n",
              "   'FeatureGroupArn': 'arn:aws:sagemaker:ap-northeast-1:555918697305:feature-group/clinical-feature-group-02-05-08-39',\n",
              "   'CreationTime': datetime.datetime(2022, 12, 2, 5, 8, 47, 57000, tzinfo=tzlocal()),\n",
              "   'FeatureGroupStatus': 'Created',\n",
              "   'OfflineStoreStatus': {'Status': 'Active'}},\n",
              "  {'FeatureGroupName': 'clinical-feature-group-02-04-50-31',\n",
              "   'FeatureGroupArn': 'arn:aws:sagemaker:ap-northeast-1:555918697305:feature-group/clinical-feature-group-02-04-50-31',\n",
              "   'CreationTime': datetime.datetime(2022, 12, 2, 4, 54, 46, 533000, tzinfo=tzlocal()),\n",
              "   'FeatureGroupStatus': 'Created',\n",
              "   'OfflineStoreStatus': {'Status': 'Active'}},\n",
              "  {'FeatureGroupName': 'clinical-feature-group-02-04-48-16',\n",
              "   'FeatureGroupArn': 'arn:aws:sagemaker:ap-northeast-1:555918697305:feature-group/clinical-feature-group-02-04-48-16',\n",
              "   'CreationTime': datetime.datetime(2022, 12, 2, 4, 54, 49, 515000, tzinfo=tzlocal()),\n",
              "   'FeatureGroupStatus': 'Created',\n",
              "   'OfflineStoreStatus': {'Status': 'Active'}},\n",
              "  {'FeatureGroupName': 'clinical-feature-group-02-04-48-15',\n",
              "   'FeatureGroupArn': 'arn:aws:sagemaker:ap-northeast-1:555918697305:feature-group/clinical-feature-group-02-04-48-15',\n",
              "   'CreationTime': datetime.datetime(2022, 12, 2, 4, 54, 47, 832000, tzinfo=tzlocal()),\n",
              "   'FeatureGroupStatus': 'Created'}],\n",
              " 'NextToken': 'cIws2QhTXUIa8bi8WLHDwIzYoW3ueHs5ISc3bjutZYaAt5zfoCuvCDVh98EW8JhSKaFHLBHWi9ss0GtYRrcgg99Ir9rBnwFJF97jN/Pxc8of8GyDwZ2As2Kg40ClXxStoR43kGJnJPIGBRDslQs8PG58M7G1gNto5PdHKL0XB7tn6pe2XuJ11Hwfs+xfuD22bV07UVRrr8vEEOfcKnnFvDiOxGJdq3tt+YWnBtJpVayZjrTF0F/KHGQRTk3IkmxG9iHaGGAVwT78bJ9BGis3WgChbpOLaQHAxr7he/2vnbM2IedcqWNejAMQbMFut1ySukdJRtaT0LwRbnftwGcBJ6DZT4Sce6YGnmEwJBx2cWzONR9H6CnPjXTrQTChJlOaJrhfnTixPe33H/O/n6arRzPJOPpr2dNlWkXNa/nHdhfgj+KGj8H/BPfsA6kDuGiFLe656J8z8BeyvacRvtKuc5WH4kqMgaRSPesJf14D3ERovvJhG22EX0BEERAifRn3LsiNitPcVrp1VEGwL7d3JDPR66wT6Q0uEm5WhHvRsS9qc2V9dyewMWPcKbabnMpCqLikjpbV3Yry',\n",
              " 'ResponseMetadata': {'RequestId': 'e1f4b6d1-8970-4373-af43-1a67eb02294b',\n",
              "  'HTTPStatusCode': 200,\n",
              "  'HTTPHeaders': {'x-amzn-requestid': 'e1f4b6d1-8970-4373-af43-1a67eb02294b',\n",
              "   'content-type': 'application/x-amz-json-1.1',\n",
              "   'content-length': '3318',\n",
              "   'date': 'Fri, 02 Dec 2022 08:59:14 GMT'},\n",
              "  'RetryAttempts': 0}}"
            ]
          },
          "execution_count": 28,
          "metadata": {},
          "output_type": "execute_result"
        }
      ],
      "source": [
        "sagemaker_client.list_feature_groups() #use boto client to list FeatureGroups"
      ],
      "id": "qjyHJ22F66Id"
    },
    {
      "cell_type": "markdown",
      "metadata": {
        "id": "ppZ93OAD66Ie"
      },
      "source": [
        "### Put Records in a Feature Group\n",
        "We can use the ingest function to load your feature data. We pass in a data frame of feature data, set the number of workers, and choose to wait for it to return or not. The following example demonstrates using the ingest function."
      ],
      "id": "ppZ93OAD66Ie"
    },
    {
      "cell_type": "code",
      "execution_count": null,
      "metadata": {
        "tags": [],
        "id": "SS5vvilj66Ie",
        "outputId": "266dfcd7-cafb-49a1-c679-4d0da5334c87"
      },
      "outputs": [
        {
          "data": {
            "text/plain": [
              "IngestionManagerPandas(feature_group_name='clinical-feature-group-02-08-58-42', sagemaker_fs_runtime_client_config=<botocore.config.Config object at 0x7f57e4a0c0d0>, max_workers=3, max_processes=1, profile_name=None, _async_result=<multiprocess.pool.MapResult object at 0x7f57e2e9cbd0>, _processing_pool=<pool ProcessPool(ncpus=1)>, _failed_indices=[])"
            ]
          },
          "execution_count": 29,
          "metadata": {},
          "output_type": "execute_result"
        }
      ],
      "source": [
        "clinical_feature_group.ingest(\n",
        "    data_frame=clinical, max_workers=3, wait=True\n",
        ")"
      ],
      "id": "SS5vvilj66Ie"
    },
    {
      "cell_type": "markdown",
      "metadata": {
        "tags": [],
        "id": "8C9nxgS166Ie"
      },
      "source": [
        "### Get records from a feature group\n",
        "\n",
        "Get Records from a Feature Group\n",
        "we can use the get_record function to retrieve the data for a specific feature by its record identifier. The following example uses an example identifier to retrieve the record."
      ],
      "id": "8C9nxgS166Ie"
    },
    {
      "cell_type": "code",
      "execution_count": null,
      "metadata": {
        "tags": [],
        "id": "zeme_oM566Ie",
        "outputId": "f40fde45-3367-4e15-ecf7-765367aa7157"
      },
      "outputs": [
        {
          "data": {
            "text/plain": [
              "{'ResponseMetadata': {'RequestId': 'de7e9726-1388-42d7-a31b-24ceaed4145f',\n",
              "  'HTTPStatusCode': 200,\n",
              "  'HTTPHeaders': {'x-amzn-requestid': 'de7e9726-1388-42d7-a31b-24ceaed4145f',\n",
              "   'content-type': 'application/json',\n",
              "   'content-length': '788',\n",
              "   'date': 'Fri, 02 Dec 2022 08:59:16 GMT'},\n",
              "  'RetryAttempts': 0},\n",
              " 'Record': [{'FeatureName': 'patient_id', 'ValueAsString': '200'},\n",
              "  {'FeatureName': 'age', 'ValueAsString': '63.0'},\n",
              "  {'FeatureName': 'anaemia', 'ValueAsString': '1'},\n",
              "  {'FeatureName': 'creatinine_phosphokinase', 'ValueAsString': '1767'},\n",
              "  {'FeatureName': 'diabetes', 'ValueAsString': '0'},\n",
              "  {'FeatureName': 'ejection_fraction', 'ValueAsString': '45'},\n",
              "  {'FeatureName': 'high_blood_pressure', 'ValueAsString': '0'},\n",
              "  {'FeatureName': 'platelets', 'ValueAsString': '73000.0'},\n",
              "  {'FeatureName': 'serum_creatinine', 'ValueAsString': '0.7'},\n",
              "  {'FeatureName': 'serum_sodium', 'ValueAsString': '137'},\n",
              "  {'FeatureName': 'sex', 'ValueAsString': '1'},\n",
              "  {'FeatureName': 'smoking', 'ValueAsString': '0'},\n",
              "  {'FeatureName': 'time', 'ValueAsString': '186'},\n",
              "  {'FeatureName': 'DEATH_EVENT', 'ValueAsString': '0'},\n",
              "  {'FeatureName': 'EventTime', 'ValueAsString': '1669971519.0'}]}"
            ]
          },
          "execution_count": 31,
          "metadata": {},
          "output_type": "execute_result"
        }
      ],
      "source": [
        "record_identifier_value = str(200)\n",
        " \n",
        "featurestore_runtime.get_record(FeatureGroupName=clinical_feature_group_name, RecordIdentifierValueAsString=record_identifier_value)"
      ],
      "id": "zeme_oM566Ie"
    },
    {
      "cell_type": "markdown",
      "metadata": {
        "id": "CLP9nOwg66Ie"
      },
      "source": [
        "### Generate Hive DDL Commands\n",
        "The SageMaker Python SDK’s FeatureStore class also provides the functionality to generate Hive DDL commands. The schema of the table is generated based on the feature definitions. Columns are named after feature name and data-type are inferred based on feature type."
      ],
      "id": "CLP9nOwg66Ie"
    },
    {
      "cell_type": "code",
      "execution_count": null,
      "metadata": {
        "tags": [],
        "id": "Tz17FbLa66If",
        "outputId": "a2e31315-616f-4ff3-a503-4ffc0ce41929"
      },
      "outputs": [
        {
          "name": "stdout",
          "output_type": "stream",
          "text": [
            "CREATE EXTERNAL TABLE IF NOT EXISTS sagemaker_featurestore.clinical-feature-group-02-08-58-42 (\n",
            "  patient_id STRING\n",
            "  age FLOAT\n",
            "  anaemia INT\n",
            "  creatinine_phosphokinase INT\n",
            "  diabetes INT\n",
            "  ejection_fraction INT\n",
            "  high_blood_pressure INT\n",
            "  platelets FLOAT\n",
            "  serum_creatinine FLOAT\n",
            "  serum_sodium INT\n",
            "  sex INT\n",
            "  smoking INT\n",
            "  time INT\n",
            "  DEATH_EVENT INT\n",
            "  EventTime FLOAT\n",
            "  write_time TIMESTAMP\n",
            "  event_time TIMESTAMP\n",
            "  is_deleted BOOLEAN\n",
            ")\n",
            "ROW FORMAT SERDE 'org.apache.hadoop.hive.ql.io.parquet.serde.ParquetHiveSerDe'\n",
            "  STORED AS\n",
            "  INPUTFORMAT 'parquet.hive.DeprecatedParquetInputFormat'\n",
            "  OUTPUTFORMAT 'parquet.hive.DeprecatedParquetOutputFormat'\n",
            "LOCATION 's3://sagemaker-ap-northeast-1-555918697305/feature-store/555918697305/sagemaker/ap-northeast-1/offline-store/clinical-feature-group-02-08-58-42-1669971527/data'\n"
          ]
        }
      ],
      "source": [
        "print(clinical_feature_group.as_hive_ddl())"
      ],
      "id": "Tz17FbLa66If"
    },
    {
      "cell_type": "markdown",
      "metadata": {
        "id": "_bxNpIfZ66If"
      },
      "source": [
        "### Now lets wait for the data to appear in our offline store before moving forward to creating a dataset.This will take approximately 5 minutes. Sagemaker feature store adds metadata for each record that's  ingested into the offline store."
      ],
      "id": "_bxNpIfZ66If"
    },
    {
      "cell_type": "code",
      "execution_count": null,
      "metadata": {
        "tags": [],
        "id": "m77QUuD766If",
        "outputId": "eef61623-d198-4941-f56b-43c2068e0053"
      },
      "outputs": [
        {
          "name": "stdout",
          "output_type": "stream",
          "text": [
            "555918697305\n",
            "clinical-feature-group-02-08-58-42-1669971527\n",
            "Waiting for data in offline store...\n",
            "\n",
            "Waiting for data in offline store...\n",
            "\n",
            "Waiting for data in offline store...\n",
            "\n",
            "Waiting for data in offline store...\n",
            "\n",
            "Waiting for data in offline store...\n",
            "\n",
            "Waiting for data in offline store...\n",
            "\n",
            "Data available.\n",
            "CPU times: user 168 ms, sys: 17.5 ms, total: 186 ms\n",
            "Wall time: 6min 1s\n"
          ]
        }
      ],
      "source": [
        "%%time\n",
        "s3_client = boto3.client('s3', region_name=region)\n",
        " \n",
        "account_id = boto3.client('sts').get_caller_identity()[\"Account\"]\n",
        " \n",
        "clinical_feature_group_table_name = clinical_feature_group.describe().get('OfflineStoreConfig').get('DataCatalogConfig').get('TableName')\n",
        " \n",
        "print(account_id)\n",
        "print(clinical_feature_group_table_name)\n",
        " \n",
        "clinical_feature_group_s3_prefix = prefix + '/' + account_id + '/sagemaker/' + region + '/offline-store/' + clinical_feature_group_table_name + '/data'\n",
        " \n",
        "offline_store_contents = None\n",
        "while (offline_store_contents is None):\n",
        "    objects_in_bucket = s3_client.list_objects(Bucket=default_s3_bucket_name, Prefix=clinical_feature_group_s3_prefix)\n",
        "    if ('Contents' in objects_in_bucket and len(objects_in_bucket['Contents']) >= 1):\n",
        "        offline_store_contents = objects_in_bucket['Contents']\n",
        "    else:\n",
        "        print('Waiting for data in offline store...\\n')\n",
        "        sleep(60)\n",
        "\n",
        "print('Data available.')"
      ],
      "id": "m77QUuD766If"
    },
    {
      "cell_type": "markdown",
      "metadata": {
        "id": "l98KjDrP66If"
      },
      "source": [
        "### Build a Training dataset\n",
        "\n",
        "\n",
        "Feature Store automatically builds an AWS Glue data catalog when you create feature groups and you can turn this off if you want. The following describes how to create a single training dataset with feature values from both identity and transaction feature groups created earlier in this topic. Also, the following describes how to run an Amazon Athena query to join data stored in the offline store from both identity and transaction feature groups. \n",
        "\n",
        "To start, create an Athena query using athena_query() for both identity and transaction feature groups. The `table_name` is the AWS Glue table that is autogenerated by Feature Store. "
      ],
      "id": "l98KjDrP66If"
    },
    {
      "cell_type": "code",
      "execution_count": null,
      "metadata": {
        "tags": [],
        "id": "8iLYdSUw66If"
      },
      "outputs": [],
      "source": [
        "clinical_query = clinical_feature_group.athena_query()\n",
        "clinical_table = clinical_query.table_name"
      ],
      "id": "8iLYdSUw66If"
    },
    {
      "cell_type": "markdown",
      "metadata": {
        "id": "2hZ-yy9N66Ig"
      },
      "source": [
        "### Write and Execute an Athena Query\n",
        "You write your query using SQL on these feature groups, and then execute the query with the .run() command and specify your S3 bucket location for the data set to be saved there."
      ],
      "id": "2hZ-yy9N66Ig"
    },
    {
      "cell_type": "code",
      "execution_count": null,
      "metadata": {
        "tags": [],
        "id": "Ok5diTEf66Ig"
      },
      "outputs": [],
      "source": [
        "# Athena query\n",
        "query_string = 'SELECT * FROM \"'+clinical_table+'\" LIMIT 290'\n",
        " \n",
        "# run Athena query. The output is loaded to a Pandas dataframe.\n",
        "dataset = pd.DataFrame()\n",
        "clinical_query.run(query_string=query_string, output_location='s3://'+default_s3_bucket_name+'/query_results/')\n",
        "clinical_query.wait()\n",
        "dataset = clinical_query.as_dataframe()"
      ],
      "id": "Ok5diTEf66Ig"
    },
    {
      "cell_type": "code",
      "execution_count": null,
      "metadata": {
        "tags": [],
        "id": "Yx6wzksc66Ig"
      },
      "outputs": [],
      "source": [
        "id_for_test = []\n",
        "for i in range(299):\n",
        "    if i not in dataset['patient_id'].unique():\n",
        "        id_for_test.append(i)"
      ],
      "id": "Yx6wzksc66Ig"
    },
    {
      "cell_type": "markdown",
      "metadata": {
        "id": "NhEn--O966Ig"
      },
      "source": [
        "### Prepare dataset for training"
      ],
      "id": "NhEn--O966Ig"
    },
    {
      "cell_type": "code",
      "execution_count": null,
      "metadata": {
        "tags": [],
        "id": "zCki9AkK66Ig",
        "outputId": "c0a58052-bc95-4e06-aab1-fb787bd57ace"
      },
      "outputs": [
        {
          "name": "stdout",
          "output_type": "stream",
          "text": [
            "s3://sagemaker-ap-northeast-1-555918697305/feature-store/query_results/a4c83981-4e07-4abf-9777-57694ff89b81.csv\n"
          ]
        }
      ],
      "source": [
        "# Prepare query results for training.\n",
        "query_execution = clinical_query.get_query_execution()\n",
        "query_result = 's3://'+default_s3_bucket_name+'/'+prefix+'/query_results/'+query_execution['QueryExecution']['QueryExecutionId']+'.csv'\n",
        "print(query_result)"
      ],
      "id": "zCki9AkK66Ig"
    },
    {
      "cell_type": "code",
      "execution_count": null,
      "metadata": {
        "tags": [],
        "id": "hlqkOXV566Ih"
      },
      "outputs": [],
      "source": [
        "# Select useful columns for training with target column as the first.\n",
        "dataset = dataset[[\"death_event\", \"age\", 'anaemia', 'creatinine_phosphokinase', 'diabetes',\n",
        "       'ejection_fraction', 'high_blood_pressure', 'platelets',\n",
        "       'serum_creatinine', 'serum_sodium', 'sex', 'smoking', 'time']]\n",
        "# Write to csv in S3 without headers and index column.\n",
        "dataset.to_csv('dataset.csv', header=False, index=False)\n",
        "s3_client.upload_file('dataset.csv', default_s3_bucket_name, prefix+'/training_input/dataset.csv')\n",
        "dataset_uri_prefix = 's3://'+default_s3_bucket_name+'/'+prefix+'/training_input/';"
      ],
      "id": "hlqkOXV566Ih"
    },
    {
      "cell_type": "code",
      "execution_count": null,
      "metadata": {
        "tags": [],
        "id": "9hNabhPo66Ih",
        "outputId": "e3f117b1-9f70-41a7-b21e-4a355c226a76"
      },
      "outputs": [
        {
          "data": {
            "text/html": [
              "<div>\n",
              "<style scoped>\n",
              "    .dataframe tbody tr th:only-of-type {\n",
              "        vertical-align: middle;\n",
              "    }\n",
              "\n",
              "    .dataframe tbody tr th {\n",
              "        vertical-align: top;\n",
              "    }\n",
              "\n",
              "    .dataframe thead th {\n",
              "        text-align: right;\n",
              "    }\n",
              "</style>\n",
              "<table border=\"1\" class=\"dataframe\">\n",
              "  <thead>\n",
              "    <tr style=\"text-align: right;\">\n",
              "      <th></th>\n",
              "      <th>death_event</th>\n",
              "      <th>age</th>\n",
              "      <th>anaemia</th>\n",
              "      <th>creatinine_phosphokinase</th>\n",
              "      <th>diabetes</th>\n",
              "      <th>ejection_fraction</th>\n",
              "      <th>high_blood_pressure</th>\n",
              "      <th>platelets</th>\n",
              "      <th>serum_creatinine</th>\n",
              "      <th>serum_sodium</th>\n",
              "      <th>sex</th>\n",
              "      <th>smoking</th>\n",
              "      <th>time</th>\n",
              "    </tr>\n",
              "  </thead>\n",
              "  <tbody>\n",
              "    <tr>\n",
              "      <th>0</th>\n",
              "      <td>1</td>\n",
              "      <td>82.0</td>\n",
              "      <td>1</td>\n",
              "      <td>379</td>\n",
              "      <td>0</td>\n",
              "      <td>50</td>\n",
              "      <td>0</td>\n",
              "      <td>47000.0</td>\n",
              "      <td>1.3</td>\n",
              "      <td>136</td>\n",
              "      <td>1</td>\n",
              "      <td>0</td>\n",
              "      <td>13</td>\n",
              "    </tr>\n",
              "    <tr>\n",
              "      <th>1</th>\n",
              "      <td>0</td>\n",
              "      <td>70.0</td>\n",
              "      <td>0</td>\n",
              "      <td>1202</td>\n",
              "      <td>0</td>\n",
              "      <td>50</td>\n",
              "      <td>1</td>\n",
              "      <td>358000.0</td>\n",
              "      <td>0.9</td>\n",
              "      <td>141</td>\n",
              "      <td>0</td>\n",
              "      <td>0</td>\n",
              "      <td>196</td>\n",
              "    </tr>\n",
              "    <tr>\n",
              "      <th>2</th>\n",
              "      <td>1</td>\n",
              "      <td>70.0</td>\n",
              "      <td>0</td>\n",
              "      <td>571</td>\n",
              "      <td>1</td>\n",
              "      <td>45</td>\n",
              "      <td>1</td>\n",
              "      <td>185000.0</td>\n",
              "      <td>1.2</td>\n",
              "      <td>139</td>\n",
              "      <td>1</td>\n",
              "      <td>1</td>\n",
              "      <td>33</td>\n",
              "    </tr>\n",
              "    <tr>\n",
              "      <th>3</th>\n",
              "      <td>0</td>\n",
              "      <td>60.0</td>\n",
              "      <td>0</td>\n",
              "      <td>2261</td>\n",
              "      <td>0</td>\n",
              "      <td>35</td>\n",
              "      <td>1</td>\n",
              "      <td>228000.0</td>\n",
              "      <td>0.9</td>\n",
              "      <td>136</td>\n",
              "      <td>1</td>\n",
              "      <td>0</td>\n",
              "      <td>115</td>\n",
              "    </tr>\n",
              "    <tr>\n",
              "      <th>4</th>\n",
              "      <td>0</td>\n",
              "      <td>72.0</td>\n",
              "      <td>0</td>\n",
              "      <td>127</td>\n",
              "      <td>1</td>\n",
              "      <td>50</td>\n",
              "      <td>1</td>\n",
              "      <td>218000.0</td>\n",
              "      <td>1.0</td>\n",
              "      <td>134</td>\n",
              "      <td>1</td>\n",
              "      <td>0</td>\n",
              "      <td>33</td>\n",
              "    </tr>\n",
              "  </tbody>\n",
              "</table>\n",
              "</div>"
            ],
            "text/plain": [
              "   death_event   age  anaemia  creatinine_phosphokinase  diabetes  \\\n",
              "0            1  82.0        1                       379         0   \n",
              "1            0  70.0        0                      1202         0   \n",
              "2            1  70.0        0                       571         1   \n",
              "3            0  60.0        0                      2261         0   \n",
              "4            0  72.0        0                       127         1   \n",
              "\n",
              "   ejection_fraction  high_blood_pressure  platelets  serum_creatinine  \\\n",
              "0                 50                    0    47000.0               1.3   \n",
              "1                 50                    1   358000.0               0.9   \n",
              "2                 45                    1   185000.0               1.2   \n",
              "3                 35                    1   228000.0               0.9   \n",
              "4                 50                    1   218000.0               1.0   \n",
              "\n",
              "   serum_sodium  sex  smoking  time  \n",
              "0           136    1        0    13  \n",
              "1           141    0        0   196  \n",
              "2           139    1        1    33  \n",
              "3           136    1        0   115  \n",
              "4           134    1        0    33  "
            ]
          },
          "execution_count": 39,
          "metadata": {},
          "output_type": "execute_result"
        }
      ],
      "source": [
        "dataset.head()"
      ],
      "id": "9hNabhPo66Ih"
    },
    {
      "cell_type": "markdown",
      "metadata": {
        "id": "kyWXBEP366Ih"
      },
      "source": [
        "### Train and Deploy the Model\n",
        "For model training, we will use a SageMaker built-in algorithm called XGBoost to predict if a patient is likely to have a heart failutre. Sagemaker built-in algorithms provide highly ooptimized implementation of popular machine learning algorithms, simplifying the machine learning development and accelerating training and deployment. We will call the SageMaker XGBoost container and construct a generic Sagemaker Exstimator."
      ],
      "id": "kyWXBEP366Ih"
    },
    {
      "cell_type": "code",
      "execution_count": null,
      "metadata": {
        "tags": [],
        "id": "Fdcm4HFS66Ih"
      },
      "outputs": [],
      "source": [
        "training_image=sagemaker.image_uris.retrieve(\"xgboost\", region, \"1.0-1\")\n"
      ],
      "id": "Fdcm4HFS66Ih"
    },
    {
      "cell_type": "code",
      "execution_count": null,
      "metadata": {
        "tags": [],
        "id": "nnNtnSeZ66Ih"
      },
      "outputs": [],
      "source": [
        "training_output_path='s3://' + default_s3_bucket_name+'/'+prefix + '/training_output'"
      ],
      "id": "nnNtnSeZ66Ih"
    },
    {
      "cell_type": "markdown",
      "metadata": {
        "id": "rXbuzjfY66Ii"
      },
      "source": [
        "role (str): An AWS IAM role (either name or full ARN). The Amazon SageMaker training jobs and APIs that create Amazon SageMaker endpoints use this role to access training data and model artifacts. After the endpoint is created, the inference code might use the IAM role, if it needs to access an AWS resource.\n",
        "\n",
        "instance_count (int or PipelineVariable): Number of Amazon EC2 instances to use for training. Required if instance_groups is not set.\n",
        "\n",
        "instance_type (str or PipelineVariable): Type of EC2 instance to use for training, for example, 'ml.m5.2xlarge'. Required if instance_groups is not set.\n",
        "\n",
        "volume_size (int or PipelineVariable): Size in GB of the storage volume to use for storing input and output data during training (default: 30). Must be large enough to store training data if File mode is used, which is the default mode.\n",
        "\n",
        "max_run (int or PipelineVariable): Timeout in seconds for training (default: 24 * 60 * 60). After this amount of time Amazon SageMaker terminates the job regardless of its current status.\n",
        "\n",
        "input_mode (str or PipelineVariable): The input mode that the algorithm supports are File, Pipe, FastFile. Default is ‘File’. For File, Amazon SageMaker copies the training dataset from the S3 location to a local directory.\n",
        "\n",
        "output_path (str or PipelineVariable) – S3 location for saving the training result (here we have 'training_output_path'). If not specified, results are stored to a default bucket.\n",
        "\n",
        "sagemaker_session (sagemaker.session.Session) – Session object which manages interactions with Amazon SageMaker APIs and any other AWS services needed(here we have feature_store_session). If not specified, the estimator creates one using the default AWS configuration chain."
      ],
      "id": "rXbuzjfY66Ii"
    },
    {
      "cell_type": "markdown",
      "metadata": {
        "id": "qSKHpi1Y66Ii"
      },
      "source": [
        "* objective: Specifies the learning task and the corresponding learning objective.\n",
        "* num_round : The number of rounds to run the training"
      ],
      "id": "qSKHpi1Y66Ii"
    },
    {
      "cell_type": "code",
      "execution_count": null,
      "metadata": {
        "id": "U4x6D3k066Ii"
      },
      "outputs": [],
      "source": [
        "\n",
        "\n",
        "from sagemaker.estimator import Estimator\n",
        "training_model = Estimator(training_image,\n",
        "                           role,\n",
        "                           instance_count=1,\n",
        "                           instance_type='ml.m5.2xlarge',\n",
        "                           volume_size = 5,\n",
        "                           max_run = 3600,\n",
        "                           input_mode= 'File',\n",
        "                           output_path=training_output_path,\n",
        "                           sagemaker_session=feature_store_session)\n",
        "\n",
        "\n",
        "training_model.set_hyperparameters(objective = \"binary:logistic\",\n",
        "                                   num_round = 50)\n",
        "\n",
        "\n",
        "\n",
        "\n",
        "\n"
      ],
      "id": "U4x6D3k066Ii"
    },
    {
      "cell_type": "markdown",
      "metadata": {
        "id": "6S5hEfd566Ii"
      },
      "source": [
        "Due to cost consideration, the goal of this example is to showcase Feature store capabilities, not necessarily to achieve the best result. In tis example, we will skip hyperparameter tuning and go with the default hyperparameters"
      ],
      "id": "6S5hEfd566Ii"
    },
    {
      "cell_type": "markdown",
      "metadata": {
        "id": "DcJ4YPM166Ij"
      },
      "source": [
        "### specifying training data we just created\n",
        "\n",
        "* distribution (str): Valid values: ‘FullyReplicated’, ‘ShardedByS3Key’ (default: ‘FullyReplicated’).\n",
        "* content_type (str): MIME type of the input data (default: None).\n",
        "* s3_data_type (str): Valid values: ‘S3Prefix’, ‘ManifestFile’, ‘AugmentedManifestFile’. If ‘S3Prefix’, s3_data defines a prefix of s3 objects to train on. All objects with s3 keys beginning with s3_data will be used to train."
      ],
      "id": "DcJ4YPM166Ij"
    },
    {
      "cell_type": "code",
      "execution_count": null,
      "metadata": {
        "tags": [],
        "id": "7QhWrQmC66Ij"
      },
      "outputs": [],
      "source": [
        "train_data = sagemaker.inputs.TrainingInput(dataset_uri_prefix, distribution='FullyReplicated',\n",
        "                                            content_type='text/csv', s3_data_type='S3Prefix')\n",
        "data_channels = {'train': train_data}"
      ],
      "id": "7QhWrQmC66Ij"
    },
    {
      "cell_type": "markdown",
      "metadata": {
        "id": "GaCi2BOO66Ij"
      },
      "source": [
        "### fitting the model"
      ],
      "id": "GaCi2BOO66Ij"
    },
    {
      "cell_type": "code",
      "execution_count": null,
      "metadata": {
        "tags": [],
        "id": "s3ulqluc66Ik",
        "outputId": "9c09060f-cdd2-4f74-96c9-345c13edebea"
      },
      "outputs": [
        {
          "name": "stdout",
          "output_type": "stream",
          "text": [
            "2022-12-02 09:17:39 Starting - Starting the training job...\n",
            "2022-12-02 09:18:03 Starting - Preparing the instances for trainingProfilerReport-1669972658: InProgress\n",
            "............\n",
            "2022-12-02 09:20:04 Downloading - Downloading input data\n",
            "2022-12-02 09:20:04 Training - Training image download completed. Training in progress..\u001b[34mINFO:sagemaker-containers:Imported framework sagemaker_xgboost_container.training\u001b[0m\n",
            "\u001b[34mINFO:sagemaker-containers:Failed to parse hyperparameter objective value binary:logistic to Json.\u001b[0m\n",
            "\u001b[34mReturning the value itself\u001b[0m\n",
            "\u001b[34mINFO:sagemaker-containers:No GPUs detected (normal if no gpus installed)\u001b[0m\n",
            "\u001b[34mINFO:sagemaker_xgboost_container.training:Running XGBoost Sagemaker in algorithm mode\u001b[0m\n",
            "\u001b[34mINFO:root:Determined delimiter of CSV input is ','\u001b[0m\n",
            "\u001b[34mINFO:root:Determined delimiter of CSV input is ','\u001b[0m\n",
            "\u001b[34m[09:20:06] 290x12 matrix with 3480 entries loaded from /opt/ml/input/data/train?format=csv&label_column=0&delimiter=,\u001b[0m\n",
            "\u001b[34mINFO:root:Single node training.\u001b[0m\n",
            "\u001b[34m[2022-12-02 09:20:06.308 ip-10-0-74-138.ap-northeast-1.compute.internal:7 INFO json_config.py:90] Creating hook from json_config at /opt/ml/input/config/debughookconfig.json.\u001b[0m\n",
            "\u001b[34m[2022-12-02 09:20:06.308 ip-10-0-74-138.ap-northeast-1.compute.internal:7 INFO hook.py:151] tensorboard_dir has not been set for the hook. SMDebug will not be exporting tensorboard summaries.\u001b[0m\n",
            "\u001b[34m[2022-12-02 09:20:06.308 ip-10-0-74-138.ap-northeast-1.compute.internal:7 INFO hook.py:196] Saving to /opt/ml/output/tensors\u001b[0m\n",
            "\u001b[34mINFO:root:Debug hook created from config\u001b[0m\n",
            "\u001b[34mINFO:root:Train matrix has 290 rows\u001b[0m\n",
            "\u001b[34m[09:20:06] WARNING: /workspace/src/learner.cc:328: \u001b[0m\n",
            "\u001b[34mParameters: { num_round } might not be used.\n",
            "  This may not be accurate due to some parameters are only used in language bindings but\n",
            "  passed down to XGBoost core.  Or some parameters are not used but slip through this\n",
            "  verification. Please open an issue if you find above cases.\u001b[0m\n",
            "\u001b[34m[0]#011train-error:0.09310\u001b[0m\n",
            "\u001b[34m[2022-12-02 09:20:06.316 ip-10-0-74-138.ap-northeast-1.compute.internal:7 INFO hook.py:325] Monitoring the collections: metrics\u001b[0m\n",
            "\u001b[34m[1]#011train-error:0.07931\u001b[0m\n",
            "\u001b[34m[2]#011train-error:0.06207\u001b[0m\n",
            "\u001b[34m[3]#011train-error:0.05172\u001b[0m\n",
            "\u001b[34m[4]#011train-error:0.03793\u001b[0m\n",
            "\u001b[34m[5]#011train-error:0.03103\u001b[0m\n",
            "\u001b[34m[6]#011train-error:0.02414\u001b[0m\n",
            "\u001b[34m[7]#011train-error:0.02759\u001b[0m\n",
            "\u001b[34m[8]#011train-error:0.01724\u001b[0m\n",
            "\u001b[34m[9]#011train-error:0.01379\u001b[0m\n",
            "\u001b[34m[10]#011train-error:0.01379\u001b[0m\n",
            "\u001b[34m[11]#011train-error:0.01035\u001b[0m\n",
            "\u001b[34m[12]#011train-error:0.01035\u001b[0m\n",
            "\u001b[34m[13]#011train-error:0.01035\u001b[0m\n",
            "\u001b[34m[14]#011train-error:0.01035\u001b[0m\n",
            "\u001b[34m[15]#011train-error:0.01035\u001b[0m\n",
            "\u001b[34m[16]#011train-error:0.00690\u001b[0m\n",
            "\u001b[34m[17]#011train-error:0.00345\u001b[0m\n",
            "\u001b[34m[18]#011train-error:0.00345\u001b[0m\n",
            "\u001b[34m[19]#011train-error:0.00345\u001b[0m\n",
            "\u001b[34m[20]#011train-error:0.00345\u001b[0m\n",
            "\u001b[34m[21]#011train-error:0.00000\u001b[0m\n",
            "\u001b[34m[22]#011train-error:0.00000\u001b[0m\n",
            "\u001b[34m[23]#011train-error:0.00000\u001b[0m\n",
            "\u001b[34m[24]#011train-error:0.00000\u001b[0m\n",
            "\u001b[34m[25]#011train-error:0.00000\u001b[0m\n",
            "\u001b[34m[26]#011train-error:0.00000\u001b[0m\n",
            "\u001b[34m[27]#011train-error:0.00000\u001b[0m\n",
            "\u001b[34m[28]#011train-error:0.00000\u001b[0m\n",
            "\u001b[34m[29]#011train-error:0.00000\u001b[0m\n",
            "\u001b[34m[30]#011train-error:0.00000\u001b[0m\n",
            "\u001b[34m[31]#011train-error:0.00000\u001b[0m\n",
            "\u001b[34m[32]#011train-error:0.00000\u001b[0m\n",
            "\u001b[34m[33]#011train-error:0.00000\u001b[0m\n",
            "\u001b[34m[34]#011train-error:0.00000\u001b[0m\n",
            "\u001b[34m[35]#011train-error:0.00000\u001b[0m\n",
            "\u001b[34m[36]#011train-error:0.00000\u001b[0m\n",
            "\u001b[34m[37]#011train-error:0.00000\u001b[0m\n",
            "\u001b[34m[38]#011train-error:0.00000\u001b[0m\n",
            "\u001b[34m[39]#011train-error:0.00000\u001b[0m\n",
            "\u001b[34m[40]#011train-error:0.00000\u001b[0m\n",
            "\u001b[34m[41]#011train-error:0.00000\u001b[0m\n",
            "\u001b[34m[42]#011train-error:0.00000\u001b[0m\n",
            "\u001b[34m[43]#011train-error:0.00000\u001b[0m\n",
            "\u001b[34m[44]#011train-error:0.00000\u001b[0m\n",
            "\u001b[34m[45]#011train-error:0.00000\u001b[0m\n",
            "\u001b[34m[46]#011train-error:0.00000\u001b[0m\n",
            "\u001b[34m[47]#011train-error:0.00000\u001b[0m\n",
            "\u001b[34m[48]#011train-error:0.00000\u001b[0m\n",
            "\u001b[34m[49]#011train-error:0.00000\u001b[0m\n",
            "\n",
            "2022-12-02 09:20:26 Uploading - Uploading generated training model\n",
            "2022-12-02 09:20:26 Completed - Training job completed\n",
            "Training seconds: 42\n",
            "Billable seconds: 42\n"
          ]
        }
      ],
      "source": [
        "training_model.fit(inputs=data_channels, logs= True)"
      ],
      "id": "s3ulqluc66Ik"
    },
    {
      "cell_type": "markdown",
      "metadata": {
        "id": "J7gBVYT166Ik"
      },
      "source": [
        "### Set up Hosting for the Model\n",
        "\n",
        "Once the training is done, we can deploy the trained model as an amazon SageMaker reat-time hosted endpoint. This will allow us to make predictions (or inference) from the model. The endpoint deployment can bee accomplished as follows."
      ],
      "id": "J7gBVYT166Ik"
    },
    {
      "cell_type": "code",
      "execution_count": null,
      "metadata": {
        "tags": [],
        "id": "3DG9S4el66Il",
        "outputId": "17b1831f-e01a-4bda-961f-ce39b22d2784"
      },
      "outputs": [
        {
          "name": "stdout",
          "output_type": "stream",
          "text": [
            "-----!"
          ]
        }
      ],
      "source": [
        "\n",
        "predictor = training_model.deploy(initial_instance_count = 1, instance_type = 'ml.m5.xlarge')\n",
        "\n"
      ],
      "id": "3DG9S4el66Il"
    },
    {
      "cell_type": "markdown",
      "metadata": {
        "id": "XAgbcIe166Il"
      },
      "source": [
        "### SageMaker Feature Store During Inference¶\n",
        "SageMaker Feature Store can be useful in supplementing data for inference request because of the low-latency GetRecord functionality. For this demo, we will be given a patientID and query our online FeatureGroup to build our inference request.\n",
        "\n",
        "From the patient ID, we left out in training, we can choose one patient ID to test the real-time reference. In this example, we choose patient 194( we can choose either one from the left out ID list for testing)"
      ],
      "id": "XAgbcIe166Il"
    },
    {
      "cell_type": "code",
      "execution_count": null,
      "metadata": {
        "tags": [],
        "id": "3kWmjW3N66Im",
        "outputId": "80d7610b-de02-4375-af7b-bb08a30ea312"
      },
      "outputs": [
        {
          "data": {
            "text/plain": [
              "[{'FeatureName': 'patient_id', 'ValueAsString': '194'},\n",
              " {'FeatureName': 'age', 'ValueAsString': '45.0'},\n",
              " {'FeatureName': 'anaemia', 'ValueAsString': '0'},\n",
              " {'FeatureName': 'creatinine_phosphokinase', 'ValueAsString': '582'},\n",
              " {'FeatureName': 'diabetes', 'ValueAsString': '0'},\n",
              " {'FeatureName': 'ejection_fraction', 'ValueAsString': '20'},\n",
              " {'FeatureName': 'high_blood_pressure', 'ValueAsString': '1'},\n",
              " {'FeatureName': 'platelets', 'ValueAsString': '126000.0'},\n",
              " {'FeatureName': 'serum_creatinine', 'ValueAsString': '1.6'},\n",
              " {'FeatureName': 'serum_sodium', 'ValueAsString': '135'},\n",
              " {'FeatureName': 'sex', 'ValueAsString': '1'},\n",
              " {'FeatureName': 'smoking', 'ValueAsString': '0'},\n",
              " {'FeatureName': 'time', 'ValueAsString': '180'},\n",
              " {'FeatureName': 'DEATH_EVENT', 'ValueAsString': '1'},\n",
              " {'FeatureName': 'EventTime', 'ValueAsString': '1669971519.0'}]"
            ]
          },
          "execution_count": 62,
          "metadata": {},
          "output_type": "execute_result"
        }
      ],
      "source": [
        "patient_id = str(194)\n",
        " \n",
        "# Helper to parse the feature value from the record.\n",
        "def get_feature_value(record, feature_name):\n",
        "    return str(list(filter(lambda r: r['FeatureName'] == feature_name, record))[0]['ValueAsString'])\n",
        " \n",
        "clinical_response = featurestore_runtime.get_record(FeatureGroupName=clinical_feature_group_name, RecordIdentifierValueAsString=patient_id)\n",
        "clinical_record = clinical_response['Record']\n",
        "clinical_record"
      ],
      "id": "3kWmjW3N66Im"
    },
    {
      "cell_type": "markdown",
      "metadata": {
        "id": "Yie3sR7j66Im"
      },
      "source": [
        "GetRecord() used for OnlineStore serving from a FeatureStore. Only the latest records stored in the OnlineStore can be retrieved. If no Record with RecordIdentifierValue is found, then an empty result is returned.\n",
        "* FeatureGroupName: The name of the feature group from which you want to retrieve a record. Length Constraints: Minimum length of 1. Maximum length of 64.\n",
        "* RecordIdentifierValueAsString: The value that corresponds to RecordIdentifier type and uniquely identifies the record in the FeatureGroup. Length Constraints: Maximum length of 358400.\n"
      ],
      "id": "Yie3sR7j66Im"
    },
    {
      "cell_type": "markdown",
      "metadata": {
        "id": "ZPjaJ04G66Im"
      },
      "source": [
        "### Then we choose the feature value from the retrieved feature list, exclude the record identifier ID, the event time, and the target variable, and build a list of values as the input to the predicter."
      ],
      "id": "ZPjaJ04G66Im"
    },
    {
      "cell_type": "code",
      "execution_count": null,
      "metadata": {
        "tags": [],
        "id": "MjYnLYkK66Im"
      },
      "outputs": [],
      "source": [
        "inference_request = [\n",
        "\n",
        "\n",
        "\n",
        "   get_feature_value(clinical_record, 'age'),\n",
        "\n",
        "\n",
        "\n",
        "   get_feature_value(clinical_record, 'anaemia'),\n",
        "\n",
        "\n",
        "\n",
        "   get_feature_value(clinical_record, 'creatinine_phosphokinase'),\n",
        "\n",
        "\n",
        "\n",
        "   get_feature_value(clinical_record, 'diabetes'),\n",
        "\n",
        "\n",
        "\n",
        "   get_feature_value(clinical_record, 'ejection_fraction'),\n",
        "\n",
        "\n",
        "\n",
        "   get_feature_value(clinical_record, 'high_blood_pressure'),\n",
        "\n",
        "\n",
        "\n",
        "   get_feature_value(clinical_record, 'platelets'),\n",
        "\n",
        "\n",
        "\n",
        "   get_feature_value(clinical_record, 'serum_creatinine'),\n",
        "\n",
        "\n",
        "\n",
        "   get_feature_value(clinical_record, 'serum_sodium'),\n",
        "\n",
        "\n",
        "\n",
        "   get_feature_value(clinical_record, 'sex'),\n",
        "\n",
        "\n",
        "\n",
        "   get_feature_value(clinical_record, 'smoking'),\n",
        "\n",
        "\n",
        "\n",
        "   get_feature_value(clinical_record, 'time')\n",
        "\n",
        "\n",
        "\n",
        "]\n",
        "\n",
        "\n"
      ],
      "id": "MjYnLYkK66Im"
    },
    {
      "cell_type": "markdown",
      "metadata": {
        "id": "5qsHKR_b66In"
      },
      "source": [
        "The predictor will call our hosted model and give a prediction result. And The model predicts the probability of a heart failure to the patient"
      ],
      "id": "5qsHKR_b66In"
    },
    {
      "cell_type": "markdown",
      "metadata": {
        "id": "oBzoGs-I66In"
      },
      "source": [
        "### converting to a json file."
      ],
      "id": "oBzoGs-I66In"
    },
    {
      "cell_type": "code",
      "execution_count": null,
      "metadata": {
        "tags": [],
        "id": "6qJie3n166In",
        "outputId": "387afad5-d70a-47f9-c382-498e90cd3e84"
      },
      "outputs": [
        {
          "name": "stdout",
          "output_type": "stream",
          "text": [
            "0.9829193353652954\n"
          ]
        }
      ],
      "source": [
        "import json\n",
        "\n",
        "results = predictor.predict(','.join(inference_request), initial_args = {\"ContentType\": \"text/csv\"})\n",
        "prediction = json.loads(results)\n",
        "print (prediction)"
      ],
      "id": "6qJie3n166In"
    },
    {
      "cell_type": "markdown",
      "metadata": {
        "id": "SBGo_KnZ66Io"
      },
      "source": [
        "##### Deleting the model endpoint and the FeatureGroup after we are done with this demo due to cost consideration"
      ],
      "id": "SBGo_KnZ66Io"
    },
    {
      "cell_type": "code",
      "execution_count": null,
      "metadata": {
        "tags": [],
        "id": "j4SS9ZhA66Io"
      },
      "outputs": [],
      "source": [
        "predictor.delete_endpoint()\n",
        "clinical_feature_group.delete()"
      ],
      "id": "j4SS9ZhA66Io"
    },
    {
      "cell_type": "code",
      "execution_count": null,
      "metadata": {
        "id": "6zs0cOyv66Io"
      },
      "outputs": [],
      "source": [],
      "id": "6zs0cOyv66Io"
    }
  ],
  "metadata": {
    "forced_instance_type": "ml.t3.medium",
    "forced_lcc_arn": "",
    "instance_type": "ml.t3.medium",
    "kernelspec": {
      "display_name": "Python 3",
      "language": "python",
      "name": "python3"
    },
    "language_info": {
      "codemirror_mode": {
        "name": "ipython",
        "version": 3
      },
      "file_extension": ".py",
      "mimetype": "text/x-python",
      "name": "python",
      "nbconvert_exporter": "python",
      "pygments_lexer": "ipython3",
      "version": "3.8.3"
    },
    "colab": {
      "provenance": [],
      "include_colab_link": true
    }
  },
  "nbformat": 4,
  "nbformat_minor": 5
}