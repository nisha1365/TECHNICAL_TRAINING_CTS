{
  "nbformat": 4,
  "nbformat_minor": 0,
  "metadata": {
    "colab": {
      "provenance": []
    },
    "kernelspec": {
      "name": "python3",
      "display_name": "Python 3"
    },
    "language_info": {
      "name": "python"
    }
  },
  "cells": [
    {
      "cell_type": "markdown",
      "source": [
        "## The Task for the AI\n",
        "\n"
      ],
      "metadata": {
        "id": "S3G_CPwpEM68"
      }
    },
    {
      "cell_type": "markdown",
      "source": [
        "## Prerequisite "
      ],
      "metadata": {
        "id": "tbHV0_obE8KR"
      }
    },
    {
      "cell_type": "markdown",
      "source": [
        "## Numpy - \n",
        "NumPy is a Python library used for working with arrays\n",
        "\n",
        "## Matplotlib - \n",
        "Matplotlib is a cross-platform, data visualization and graphical plotting library for Python and its numerical extension NumPy.\n",
        "\n",
        "## Random \n",
        "Generating Random Numbers.\n",
        "\n",
        "## keras \n",
        "Keras is a high-level, deep learning API developed by Google for implementing neural networks. It is written in Python and is used to make the implementation of neural networks easy. It also supports multiple backend neural network computation\n",
        "\n",
        "## Sequential \n",
        "The cognitive and neural processes involved in learning about the proper ordering of events and stimuli are called sequential learning.\n",
        "\n",
        "## Dense\n",
        "Dense Layer is simple layer of neurons in which each neuron receives input from all the neurons of previous layer\n",
        "\n",
        "## Flatten\n",
        "Flattening is used to convert all the resultant 2-Dimensional arrays from pooled feature maps into a single long continuous linear vector.\n",
        "\n",
        "\n",
        "## Dropout \n",
        "Dropout is a technique where randomly selected neurons are ignored during training. They are “dropped out” randomly. This means that their contribution to the activation of downstream neurons is temporally removed on the forward pass, and any weight updates are not applied to the neuron on the backward pass\n",
        "\n",
        "## Activation \n",
        "The activation function compares the input value to a threshold value. If the input value is greater than the threshold value, the neuron is activated. It's disabled if the input value is less than the threshold value, which means its output isn't sent on to the next or hidden layer\n",
        "\n",
        "## MNIST\n",
        "MNIST set is a large collection of handwritten digits. It is a very popular dataset in the field of image processing. It is often used for benchmarking machine learning algorithms. MNIST is short for Modified National Institute of Standards and Technology database.\n",
        "\n",
        "## Utils\n",
        "np_utils. to_categorical is used to convert array of labeled data(from 0 to nb_classes - 1 ) to one-hot vector"
      ],
      "metadata": {
        "id": "0ImfarKWtOle"
      }
    },
    {
      "cell_type": "code",
      "source": [
        "import numpy as np                 # advanced math library\n",
        "import matplotlib.pyplot as plt    # MATLAB like plotting routines\n",
        "import random                      # For generating random number\n",
        "%matplotlib inline\n",
        "\n",
        "\n",
        "from keras.datasets import mnist      # MNIST dataset is included in keras\n",
        "from keras.models import Sequential   # Model type to be used\n",
        "\n",
        "from keras.layers.core import Dense, Dropout, Activation\n",
        "from keras.utils import np_utils"
      ],
      "metadata": {
        "id": "E6QXpDGzD7-a"
      },
      "execution_count": 1,
      "outputs": []
    },
    {
      "cell_type": "markdown",
      "source": [
        "# Loading Training Data"
      ],
      "metadata": {
        "id": "E2_7ZEgLH8rU"
      }
    },
    {
      "cell_type": "markdown",
      "source": [
        "Splitting the MNIST data and checking it's shape for each category"
      ],
      "metadata": {
        "id": "GZp0cM9IveSo"
      }
    },
    {
      "cell_type": "code",
      "source": [
        "(X_train, y_train), (X_test, y_test) = mnist.load_data()\n",
        "\n",
        "print(\"X_train shape\", X_train.shape)\n",
        "print(\"y_train shape\", y_train.shape)\n",
        "print(\"X_test shape\",X_test.shape)\n",
        "print(\"y_test shape\", y_test.shape)"
      ],
      "metadata": {
        "colab": {
          "base_uri": "https://localhost:8080/"
        },
        "id": "2mTRqtT9IC3s",
        "outputId": "fd4465ec-8fbc-4c91-cba2-e1e68823bfb5"
      },
      "execution_count": 2,
      "outputs": [
        {
          "output_type": "stream",
          "name": "stdout",
          "text": [
            "Downloading data from https://storage.googleapis.com/tensorflow/tf-keras-datasets/mnist.npz\n",
            "11490434/11490434 [==============================] - 0s 0us/step\n",
            "X_train shape (60000, 28, 28)\n",
            "y_train shape (60000,)\n",
            "X_test shape (10000, 28, 28)\n",
            "y_test shape (10000,)\n"
          ]
        }
      ]
    },
    {
      "cell_type": "markdown",
      "source": [
        "## Interpolation \n",
        "Interpolation is a technique in Python used to estimate unknown data points between two known data points. Interpolation is mostly used to impute missing values in the dataframe or series while preprocessing data.\n",
        "\n",
        "##tight_layout \n",
        "automatically adjusts subplot params so that the subplot(s) fits in to the figure area. This is an experimental feature and may not work for some cases. It only checks the extents of ticklabels, axis labels, and titles"
      ],
      "metadata": {
        "id": "ABLkg1rDI2dL"
      }
    },
    {
      "cell_type": "code",
      "source": [
        "plt.rcParams['figure.figsize'] = (9,9)\n",
        "\n",
        "for i in range(9):\n",
        "  plt.subplot(3,3,i+1)\n",
        "  num = random.randint(0,len(X_train))\n",
        "  plt.imshow(X_train[num], cmap = 'gray', interpolation = 'none')\n",
        "  plt.title(\"Class {}\".format(y_train[num]))\n",
        "\n",
        "plt.tight_layout()\n",
        "\n",
        "\n"
      ],
      "metadata": {
        "colab": {
          "base_uri": "https://localhost:8080/",
          "height": 657
        },
        "id": "4ZbX0254I3Go",
        "outputId": "a59d7445-7ab0-41a4-be9d-1d3581b88a3e"
      },
      "execution_count": 3,
      "outputs": [
        {
          "output_type": "display_data",
          "data": {
            "text/plain": [
              "<Figure size 648x648 with 9 Axes>"
            ],
            "image/png": "[encoded data removed]"
          },
          "metadata": {
            "needs_background": "light"
          }
        }
      ]
    },
    {
      "cell_type": "markdown",
      "source": [
        "##Python enumerate() Function\n",
        "\n",
        "The enumerate() function takes a collection (e.g. a tuple) and returns it as an enumerate object. The enumerate() function adds a counter as the key of the enumerate object."
      ],
      "metadata": {
        "id": "7eoIlLSnK83R"
      }
    },
    {
      "cell_type": "code",
      "source": [
        "# just a little function for pretty printing a matrix\n",
        "def matprint(mat, fmt=\"g\"):\n",
        "    col_maxes = [max([len((\"{:\"+fmt+\"}\").format(x)) for x in col]) for col in mat.T]\n",
        "    for x in mat:\n",
        "        for i, y in enumerate(x):\n",
        "            print((\"{:\"+str(col_maxes[i])+fmt+\"}\").format(y), end=\"  \")\n",
        "        print(\"\")\n",
        "# now print!        \n",
        "matprint(X_train[num])"
      ],
      "metadata": {
        "colab": {
          "base_uri": "https://localhost:8080/"
        },
        "id": "k7_SatL6Lq1y",
        "outputId": "76a92d21-def7-4805-b53a-a28d81016c57"
      },
      "execution_count": 4,
      "outputs": [
        {
          "output_type": "stream",
          "name": "stdout",
          "text": [
            "0  0  0  0  0   0    0    0    0    0    0    0    0    0    0    0    0    0    0    0    0    0    0    0  0  0  0  0  \n",
            "0  0  0  0  0   0    0    0    0    0    0    0    0    0    0    0    0    0    0    0    0    0    0    0  0  0  0  0  \n",
            "0  0  0  0  0   0    0    0    0    0    0    0    0    0    0    0    0    0    0    0    0    0    0    0  0  0  0  0  \n",
            "0  0  0  0  0   0    0    0    0    0    0    0    0    0    0    0    0    0    0    0    0    0    0    0  0  0  0  0  \n",
            "0  0  0  0  0   0    0    0    0    0    0    7  211  221   96   34   11    0    0    0    0    0    0    0  0  0  0  0  \n",
            "0  0  0  0  0   0    0    0    0    0   24  171  253  253  253  254  200  177  167   23    0    0    0    0  0  0  0  0  \n",
            "0  0  0  0  0   0    0    0    0   22  202  253  253  253  253  254  253  253  253  225  124    9    0    0  0  0  0  0  \n",
            "0  0  0  0  0   0    0    0    0  114  253  253  240  231  231  235  253  253  253  253  253  185    0    0  0  0  0  0  \n",
            "0  0  0  0  0   0    0    0   88  223  253  222   35    0    0   12   88  131  227  253  253  250   65    0  0  0  0  0  \n",
            "0  0  0  0  0   0    0    0  133  253  253   45    0    0    0    0    0    0   39  223  253  253  201   23  0  0  0  0  \n",
            "0  0  0  0  0   0    0   53  239  253  206   11    0    0    0    0    0    0    0   39  227  253  253  119  0  0  0  0  \n",
            "0  0  0  0  0   0    0  210  253  244   45    0    0    0    0    0    0    0    0    0  199  253  253  156  0  0  0  0  \n",
            "0  0  0  0  0   0   50  242  253  198    0    0    0    0    0    0    0    0    0    0  199  253  253   66  0  0  0  0  \n",
            "0  0  0  0  0   0  163  253  253  102    0    0    0    0    0    0    0    0    0   25  223  253  253   66  0  0  0  0  \n",
            "0  0  0  0  0   0   82  254  252   77    0    0    0    0    0    0    0    0    0   56  254  254  210    0  0  0  0  0  \n",
            "0  0  0  0  0  24  230  253  231    0    0    0    0    0    0    0    0    0    6  155  253  253  209    0  0  0  0  0  \n",
            "0  0  0  0  0  34  253  253  188    0    0    0    0    0    0    0    0    0   23  253  253  253  209    0  0  0  0  0  \n",
            "0  0  0  0  0  34  253  253  229    8    0    0    0    0    0    0    0   62  240  253  253  238   52    0  0  0  0  0  \n",
            "0  0  0  0  0  26  237  253  253   88    0    0    0    0    0    0   68  238  253  253  253  108    0    0  0  0  0  0  \n",
            "0  0  0  0  0   0  177  253  253  194   19    0    0    0    0  104  237  253  253  253  145    5    0    0  0  0  0  0  \n",
            "0  0  0  0  0   0   44  228  253  253  198  122  122  155  232  254  253  253  252  170   29    0    0    0  0  0  0  0  \n",
            "0  0  0  0  0   0    0   39  228  253  253  253  253  253  253  255  253  236  142    0    0    0    0    0  0  0  0  0  \n",
            "0  0  0  0  0   0    0    0  100  253  253  253  253  253  253  254  199  108    0    0    0    0    0    0  0  0  0  0  \n",
            "0  0  0  0  0   0    0    0    3   33  120  143  210  253  157   33   10    0    0    0    0    0    0    0  0  0  0  0  \n",
            "0  0  0  0  0   0    0    0    0    0    0    0    0    0    0    0    0    0    0    0    0    0    0    0  0  0  0  0  \n",
            "0  0  0  0  0   0    0    0    0    0    0    0    0    0    0    0    0    0    0    0    0    0    0    0  0  0  0  0  \n",
            "0  0  0  0  0   0    0    0    0    0    0    0    0    0    0    0    0    0    0    0    0    0    0    0  0  0  0  0  \n",
            "0  0  0  0  0   0    0    0    0    0    0    0    0    0    0    0    0    0    0    0    0    0    0    0  0  0  0  0  \n"
          ]
        }
      ]
    },
    {
      "cell_type": "markdown",
      "source": [
        "###  Reshaping Images and Normalizing is by dividing it by maximum Pixel limit value."
      ],
      "metadata": {
        "id": "FXjpB0SFwQwS"
      }
    },
    {
      "cell_type": "code",
      "source": [
        "X_train = X_train.reshape(60000, 784)   # reshape 60,000 28*28 matrices into\n",
        "X_test = X_test.reshape(10000, 784)     # reshape 10,000 28*28 matrices into\n",
        "\n",
        "X_train = X_train.astype('float32')\n",
        "X_test = X_test.astype('float32')\n",
        "\n",
        "X_train /= 255\n",
        "X_test /= 255   # normalize each value for each pixel \n"
      ],
      "metadata": {
        "id": "Q-X-DEaSLsat"
      },
      "execution_count": 5,
      "outputs": []
    },
    {
      "cell_type": "markdown",
      "source": [
        "Printing the shape of X_train and X_test data Images"
      ],
      "metadata": {
        "id": "VurVf7XtwhJN"
      }
    },
    {
      "cell_type": "code",
      "source": [
        "print(\"Training matrix shape\", X_train.shape)\n",
        "print(\"Testing matrix shape\", X_test.shape)      "
      ],
      "metadata": {
        "colab": {
          "base_uri": "https://localhost:8080/"
        },
        "id": "zaW9wcaFM7fx",
        "outputId": "43b7ab11-4be8-4f72-d645-af6f7e5c6c9b"
      },
      "execution_count": 6,
      "outputs": [
        {
          "output_type": "stream",
          "name": "stdout",
          "text": [
            "Training matrix shape (60000, 784)\n",
            "Testing matrix shape (10000, 784)\n"
          ]
        }
      ]
    },
    {
      "cell_type": "markdown",
      "source": [
        "One - hot encoding for the categorical labels."
      ],
      "metadata": {
        "id": "5BAX4rH7wqVD"
      }
    },
    {
      "cell_type": "code",
      "source": [
        "nb_classes = 10 # number of unique digits\n",
        "\n",
        "Y_train = np_utils.to_categorical(y_train, nb_classes)\n",
        "Y_test = np_utils.to_categorical(y_test, nb_classes)"
      ],
      "metadata": {
        "id": "TRCHiUieOsOu"
      },
      "execution_count": 7,
      "outputs": []
    },
    {
      "cell_type": "markdown",
      "source": [
        "* The Sequential model is a linear stack of layers. The common architecture of ConvNets is a sequential architecture. However, some architectures are not linear stacks. For example, siamese networks are two parallel neural networks with some shared layers"
      ],
      "metadata": {
        "id": "XRCSfvdNwyfH"
      }
    },
    {
      "cell_type": "code",
      "source": [
        "# The Sequential model is a linear stack of layers\n",
        "model = Sequential()"
      ],
      "metadata": {
        "id": "1a5wK3csJ5lW"
      },
      "execution_count": 8,
      "outputs": []
    },
    {
      "cell_type": "markdown",
      "source": [
        "* In a Keras layer, the input shape is generally the shape of the input data provided to the Keras model while training. The model cannot know the shape of the training data. The shape of other tensors(layers) is computed automatically"
      ],
      "metadata": {
        "id": "3X8y9Fa5w58w"
      }
    },
    {
      "cell_type": "code",
      "source": [
        "# The first hidden layer is a set of 512 nodes (artifical neurons)\n",
        "# Each \n",
        "model.add(Dense(512, input_shape = (784,)))"
      ],
      "metadata": {
        "id": "R63W6AWoIpXw"
      },
      "execution_count": 9,
      "outputs": []
    },
    {
      "cell_type": "markdown",
      "source": [
        "* Activation function is a simple mathematical function that transforms the given input to the required output that has a certain range.\n",
        "\n",
        "* The rectified linear activation function or ReLU is a non-linear function or piecewise linear function that will output the input directly if it is positive, otherwise, it will output zero.\n",
        "It is the most commonly used activation function in neural networks, especially in Convolutional Neural Networks (CNNs) & Multilayer perceptrons.\n",
        "\n",
        "It is simple yet it is more effective than it's predecessors like sigmoid or tanh."
      ],
      "metadata": {
        "id": "uvWdd_6QxaAz"
      }
    },
    {
      "cell_type": "code",
      "source": [
        "model.add(Activation('relu'))"
      ],
      "metadata": {
        "id": "ylJWyTULRRjO"
      },
      "execution_count": 10,
      "outputs": []
    },
    {
      "cell_type": "markdown",
      "source": [
        "* Dropout is a technique where randomly selected neurons are ignored during training. They are “dropped out” randomly. This means that their contribution to the activation of downstream neurons is temporally removed on the forward pass, and any weight updates are not applied to the neuron on the backward pass"
      ],
      "metadata": {
        "id": "HvHqRJywyLTD"
      }
    },
    {
      "cell_type": "code",
      "source": [
        "model.add(Dropout(0.2))"
      ],
      "metadata": {
        "id": "LWmsid3GIBBc"
      },
      "execution_count": 11,
      "outputs": []
    },
    {
      "cell_type": "code",
      "source": [
        "# Adding Second layer\n",
        "model.add(Dense(512))\n",
        "model.add(Activation('relu'))\n",
        "model.add(Dropout(0.2))"
      ],
      "metadata": {
        "id": "5RfIWQrEG3Aw"
      },
      "execution_count": 12,
      "outputs": []
    },
    {
      "cell_type": "markdown",
      "source": [
        "# The Final Output Layer"
      ],
      "metadata": {
        "id": "FYi0XkhDUNuv"
      }
    },
    {
      "cell_type": "code",
      "source": [
        "model.add(Dense(10))"
      ],
      "metadata": {
        "id": "z7IAlKupURQi"
      },
      "execution_count": 13,
      "outputs": []
    },
    {
      "cell_type": "code",
      "source": [
        "model.add(Activation('softmax'))"
      ],
      "metadata": {
        "id": "YpZW6espUmvO"
      },
      "execution_count": 14,
      "outputs": []
    },
    {
      "cell_type": "markdown",
      "source": [
        "Keras provides a way to summarize a model.\n",
        "\n",
        "The summary is textual and includes information about:\n",
        "\n",
        "* The layers and their order in the model.\n",
        "* The output shape of each layer.\n",
        "* The number of parameters (weights) in each layer.\n",
        "* The total number of parameters (weights) in the model."
      ],
      "metadata": {
        "id": "ngm-6EE5yxfL"
      }
    },
    {
      "cell_type": "code",
      "source": [
        "# Summary of the model\n",
        "\n",
        "model.summary()"
      ],
      "metadata": {
        "colab": {
          "base_uri": "https://localhost:8080/"
        },
        "id": "gm5GUOIgUvCJ",
        "outputId": "fdc03c61-c368-491e-f565-777c2aec7e37"
      },
      "execution_count": 15,
      "outputs": [
        {
          "output_type": "stream",
          "name": "stdout",
          "text": [
            "Model: \"sequential\"\n",
            "_________________________________________________________________\n",
            " Layer (type)                Output Shape              Param #   \n",
            "=================================================================\n",
            " dense (Dense)               (None, 512)               401920    \n",
            "                                                                 \n",
            " activation (Activation)     (None, 512)               0         \n",
            "                                                                 \n",
            " dropout (Dropout)           (None, 512)               0         \n",
            "                                                                 \n",
            " dense_1 (Dense)             (None, 512)               262656    \n",
            "                                                                 \n",
            " activation_1 (Activation)   (None, 512)               0         \n",
            "                                                                 \n",
            " dropout_1 (Dropout)         (None, 512)               0         \n",
            "                                                                 \n",
            " dense_2 (Dense)             (None, 10)                5130      \n",
            "                                                                 \n",
            " activation_2 (Activation)   (None, 10)                0         \n",
            "                                                                 \n",
            "=================================================================\n",
            "Total params: 669,706\n",
            "Trainable params: 669,706\n",
            "Non-trainable params: 0\n",
            "_________________________________________________________________\n"
          ]
        }
      ]
    },
    {
      "cell_type": "markdown",
      "source": [
        "# To sum-up: \n",
        "* 'trainable parameters' are those which value is modified according to their gradient (the derivative of the error/loss/cost relative to the parameter), whereas 'non-trainable parameters' are those which value is not optimized according to their gradient."
      ],
      "metadata": {
        "id": "KMk93nsQVrJu"
      }
    },
    {
      "cell_type": "markdown",
      "source": [
        "In keras, non-trainable parameters (as shown in model.summary()) means the number of weights that are not updated during training with backpropagation.\n",
        "\n",
        "There are mainly two types of non-trainable weights:\n",
        "\n",
        "The ones that you have chosen to keep constant when training. This means that keras won't update these weights during training at all.\n",
        "The ones that work like statistics in BatchNormalization layers. They're updated with mean and variance, but they're not \"trained with backpropagation\".\n",
        "Weights are the values inside the network that perform the operations and can be adjusted to result in what we want. The backpropagation algorithm changes the weights towards a lower error at the end.\n",
        "\n",
        "By default, all weights in a keras model are trainable.\n",
        "\n",
        "When you create layers, internally it creates its own weights and they're trainable. (The backpropagation algorithm will update these weights)\n",
        "\n",
        "When you make them untrainable, the algorithm will not update these weights anymore. This is useful, for instance, when you want a convolutional layer with a specific filter, like a Sobel filter, for instance. You don't want the training to change this operation, so these weights/filters should be kept constant.\n",
        "\n",
        "There is a lot of other reasons why you might want to make weights untrainable."
      ],
      "metadata": {
        "id": "cFrbCMVzzhiS"
      }
    },
    {
      "cell_type": "markdown",
      "source": [
        "## Compiling the model"
      ],
      "metadata": {
        "id": "Zql6izGwWUhx"
      }
    },
    {
      "cell_type": "markdown",
      "source": [
        "### Model compile - \n",
        "Compile defines the loss function, the optimizer and the metrics. That's all. It has nothing to do with the weights and you can compile a model as many times as you want without causing any problem to pretrained weights. You need a compiled model to train (because training uses the loss function and the optimizer).\n",
        "\n",
        "### Loss function\n",
        "A loss function is a function that compares the target and predicted output values; measures how well the neural network models the training data. When training, we aim to minimize this loss between the predicted and target outputs.\n",
        "\n",
        "### Optimizer\n",
        "In deep learning, optimizers are used to adjust the parameters for a model. The purpose of an optimizer is to adjust model weights to maximize a loss function. The loss function is used as a way to measure how well the model is performing.\n",
        "\n",
        "### Adam\n",
        "The name is derived from adaptive moment estimation. The optimizer is called Adam because uses estimations of the first and second moments of the gradient to adapt the learning rate for each weight of the neural network. The name of the optimizer is Adam; it is not an acronym.\n"
      ],
      "metadata": {
        "id": "s16Af07vznKA"
      }
    },
    {
      "cell_type": "code",
      "source": [
        "model.compile(loss = 'categorical_crossentropy', optimizer='adam',\n",
        "              metrics = ['accuracy'])\n"
      ],
      "metadata": {
        "id": "x1BWxPMxWYf4"
      },
      "execution_count": 16,
      "outputs": []
    },
    {
      "cell_type": "markdown",
      "source": [
        "## Fitting the model"
      ],
      "metadata": {
        "id": "S2Z2mpIx0Ydf"
      }
    },
    {
      "cell_type": "markdown",
      "source": [
        "### Batch size\n",
        "refers to the number of training examples utilized in one iteration. The batch size can be one of three options: batch mode: where the batch size is equal to the total dataset thus making the iteration and epoch values equivalent.\n",
        "\n",
        "### Epoch\n",
        "Epoch is once all images are processed one time individually of forward and backward to the network, then that is one epoch. I like to make sure my definition of epoch is correct. One epoch is counted when (Number of iterations * batch size) / total number of images in training.\n",
        "\n",
        "### verbose \n",
        "verbose is the choice that how you want to see the output of your Nural Network while it's training. If you set verbose = 0, It will show nothing."
      ],
      "metadata": {
        "id": "bmiM4GXV0azf"
      }
    },
    {
      "cell_type": "code",
      "source": [
        "model.fit(X_train, Y_train,\n",
        "          batch_size=128, epochs = 10,\n",
        "          verbose=1)"
      ],
      "metadata": {
        "colab": {
          "base_uri": "https://localhost:8080/"
        },
        "id": "2X4YqRWrYxIw",
        "outputId": "95476155-32c1-4d69-c1a9-553bd1af273b"
      },
      "execution_count": 17,
      "outputs": [
        {
          "output_type": "stream",
          "name": "stdout",
          "text": [
            "Epoch 1/10\n",
            "469/469 [==============================] - 9s 17ms/step - loss: 0.2477 - accuracy: 0.9257\n",
            "Epoch 2/10\n",
            "469/469 [==============================] - 15s 31ms/step - loss: 0.1008 - accuracy: 0.9689\n",
            "Epoch 3/10\n",
            "469/469 [==============================] - 12s 25ms/step - loss: 0.0713 - accuracy: 0.9774\n",
            "Epoch 4/10\n",
            "469/469 [==============================] - 8s 17ms/step - loss: 0.0555 - accuracy: 0.9824\n",
            "Epoch 5/10\n",
            "469/469 [==============================] - 8s 17ms/step - loss: 0.0476 - accuracy: 0.9847\n",
            "Epoch 6/10\n",
            "469/469 [==============================] - 8s 17ms/step - loss: 0.0387 - accuracy: 0.9875\n",
            "Epoch 7/10\n",
            "469/469 [==============================] - 8s 16ms/step - loss: 0.0339 - accuracy: 0.9890\n",
            "Epoch 8/10\n",
            "469/469 [==============================] - 8s 17ms/step - loss: 0.0317 - accuracy: 0.9897\n",
            "Epoch 9/10\n",
            "469/469 [==============================] - 8s 16ms/step - loss: 0.0270 - accuracy: 0.9909\n",
            "Epoch 10/10\n",
            "469/469 [==============================] - 8s 16ms/step - loss: 0.0252 - accuracy: 0.9915\n"
          ]
        },
        {
          "output_type": "execute_result",
          "data": {
            "text/plain": [
              "<keras.callbacks.History at 0x7fe90c37e690>"
            ]
          },
          "metadata": {},
          "execution_count": 17
        }
      ]
    },
    {
      "cell_type": "markdown",
      "source": [
        "## Evaluating the model"
      ],
      "metadata": {
        "id": "eov6owkF1blH"
      }
    },
    {
      "cell_type": "code",
      "source": [
        "score = model.evaluate(X_test, Y_test)\n",
        "print('Test score:', score[0])\n",
        "print('Test accuracy:', score[1])"
      ],
      "metadata": {
        "id": "WHS3cUVCVxq0",
        "outputId": "3e397755-b85f-4972-dfa8-d917d4f07415",
        "colab": {
          "base_uri": "https://localhost:8080/"
        }
      },
      "execution_count": 18,
      "outputs": [
        {
          "output_type": "stream",
          "name": "stdout",
          "text": [
            "313/313 [==============================] - 2s 4ms/step - loss: 0.0659 - accuracy: 0.9812\n",
            "Test score: 0.06585884094238281\n",
            "Test accuracy: 0.9811999797821045\n"
          ]
        }
      ]
    },
    {
      "cell_type": "markdown",
      "source": [
        "### Argmax \n",
        "It is an operation that finds the argument that gives the maximum value from a target function. Argmax is most commonly used in machine learning for finding the class with the largest predicted probability. Argmax can be implemented manually, although the argmax() NumPy function is preferred in practice"
      ],
      "metadata": {
        "id": "V4PvdJPp1hUb"
      }
    },
    {
      "cell_type": "code",
      "source": [
        "predicted_x = model.predict(X_test)\n",
        "predicted_classes = np.argmax(predicted_x, axis = 1)\n",
        "correct_indices = np.nonzero(predicted_classes == y_test)[0]\n",
        "incorrect_indices = np.nonzero(predicted_classes != y_test)[0]"
      ],
      "metadata": {
        "id": "YqhXnOT26bZF",
        "outputId": "480dfd4d-a37e-43a0-8991-2660ee9059f6",
        "colab": {
          "base_uri": "https://localhost:8080/"
        }
      },
      "execution_count": 19,
      "outputs": [
        {
          "output_type": "stream",
          "name": "stdout",
          "text": [
            "313/313 [==============================] - 1s 4ms/step\n"
          ]
        }
      ]
    },
    {
      "cell_type": "markdown",
      "source": [
        "## Plotting the Figure"
      ],
      "metadata": {
        "id": "BMzfjO4-1wAc"
      }
    },
    {
      "cell_type": "code",
      "source": [
        "plt.figure()\n",
        "for i, correct in enumerate(correct_indices[:9]):\n",
        "    plt.subplot(3,3,i+1)\n",
        "    plt.imshow(X_test[correct].reshape(28,28), cmap='gray', interpolation='none')\n",
        "    plt.title(\"Predicted {}, Class {}\".format(predicted_classes[correct], y_test[correct]))\n",
        "    \n",
        "plt.tight_layout()\n",
        "    \n",
        "plt.figure()\n",
        "for i, incorrect in enumerate(incorrect_indices[:9]):\n",
        "    plt.subplot(3,3,i+1)\n",
        "    plt.imshow(X_test[incorrect].reshape(28,28), cmap='gray', interpolation='none')\n",
        "    plt.title(\"Predicted {}, Class {}\".format(predicted_classes[incorrect], y_test[incorrect]))\n",
        "    \n",
        "plt.tight_layout()"
      ],
      "metadata": {
        "id": "OeWGdXSeZXLr",
        "outputId": "4f70d8bb-9db5-48d2-f0b2-dd98c149565b",
        "colab": {
          "base_uri": "https://localhost:8080/",
          "height": 1000
        }
      },
      "execution_count": 20,
      "outputs": [
        {
          "output_type": "display_data",
          "data": {
            "text/plain": [
              "<Figure size 648x648 with 9 Axes>"
            ],
            "image/png": "[encoded data removed]"
          },
          "metadata": {
            "needs_background": "light"
          }
        },
        {
          "output_type": "display_data",
          "data": {
            "text/plain": [
              "<Figure size 648x648 with 9 Axes>"
            ],
            "image/png": "[encoded data removed]"
          },
          "metadata": {
            "needs_background": "light"
          }
        }
      ]
    },
    {
      "cell_type": "markdown",
      "source": [
        "# Building a \"Deep\" Convolutional Neural Network"
      ],
      "metadata": {
        "id": "TxeIA3KM_Uw_"
      }
    },
    {
      "cell_type": "markdown",
      "source": [
        "## Image Data Generator\n",
        "Introduction to Keras ImageDataGenerator. Keras ImageDataGenerator is used for getting the input of the original data and further, it makes the transformation of this data on a random basis and gives the output resultant containing only the data that is newly transformed. It does not add the data.\n",
        "\n",
        "## Conv2D\n",
        "Keras Conv2D is a 2D Convolution Layer, this layer creates a convolution kernel that is wind with layers input which helps produce a tensor of outputs.\n",
        "\n",
        "## MaxPooling\n",
        "Max pooling is a pooling operation that selects the maximum element from the region of the feature map covered by the filter. Thus, the output after max-pooling layer would be a feature map containing the most prominent features of the previous feature map.\n",
        "Max pooling is done to in part to help over-fitting by providing an abstracted form of the representation. As well, it reduces the computational cost by reducing the number of parameters to learn and provides basic translation invariance to the internal representation.\n",
        "\n",
        "## Zero padding\n",
        "Zero padding is a technique typically employed to make the size of the input sequence equal to a power of two. In zero padding, you add zeros to the end of the input sequence so that the total number of samples is equal to the next higher power of two.\n",
        "\n",
        "## Flatten\n",
        "Flattening is used to convert all the resultant 2-Dimensional arrays from pooled feature maps into a single long continuous linear vector. The flattened matrix is fed as input to the fully connected layer to classify the image\n",
        "\n",
        "## Batch Normalization\n",
        "Batch normalization is a technique for training very deep neural networks that normalizes the contributions to a layer for every mini-batch. This has the impact of settling the learning process and drastically decreasing the number of training epochs required to train deep neural networks.\n",
        "\n",
        "## Global Average Pooling\n",
        "globalAveragePooling2d() function is used for applying global average pooling operation for spatial data"
      ],
      "metadata": {
        "id": "-SuCnNiC131X"
      }
    },
    {
      "cell_type": "code",
      "source": [
        "from keras.preprocessing.image import ImageDataGenerator\n",
        "from keras.layers import Conv2D, MaxPooling2D, ZeroPadding2D, GlobalAveragePooling2D,Flatten\n",
        "from keras.layers.normalization.batch_normalization import BatchNormalization"
      ],
      "metadata": {
        "id": "5-LJh3qA_Z8R"
      },
      "execution_count": 21,
      "outputs": []
    },
    {
      "cell_type": "markdown",
      "source": [
        "Loading MNIST Data set"
      ],
      "metadata": {
        "id": "gLUPmoKq3pdO"
      }
    },
    {
      "cell_type": "code",
      "source": [
        "(X_train, y_train), (X_test, y_test) = mnist.load_data()"
      ],
      "metadata": {
        "id": "kU-6_9L68SK2"
      },
      "execution_count": 22,
      "outputs": []
    },
    {
      "cell_type": "markdown",
      "source": [
        "Again reshaping the data accordingly to the convoluted layer."
      ],
      "metadata": {
        "id": "2sKXqYYT3ghK"
      }
    },
    {
      "cell_type": "code",
      "source": [
        "X_train = X_train.reshape(60000, 28,28,1)   # reshape 60,000 28*28 matrices into\n",
        "X_test = X_test.reshape(10000, 28,28,1)     # reshape 10,000 28*28 matrices into\n",
        "\n",
        "X_train = X_train.astype('float32')\n",
        "X_test = X_test.astype('float32')\n",
        "\n",
        "X_train /= 255\n",
        "X_test /= 255   # normalize each value for each pixel "
      ],
      "metadata": {
        "id": "N7YHoYKVVR7L"
      },
      "execution_count": 23,
      "outputs": []
    },
    {
      "cell_type": "code",
      "source": [
        "print(\"Training matrix shape\", X_train.shape)\n",
        "print(\"Testing matrix shape\", X_test.shape)"
      ],
      "metadata": {
        "id": "C5y1wGfvCLwf",
        "outputId": "11d1a1f0-6f2e-4b45-8afb-df1514e50efd",
        "colab": {
          "base_uri": "https://localhost:8080/"
        }
      },
      "execution_count": 24,
      "outputs": [
        {
          "output_type": "stream",
          "name": "stdout",
          "text": [
            "Training matrix shape (60000, 28, 28, 1)\n",
            "Testing matrix shape (10000, 28, 28, 1)\n"
          ]
        }
      ]
    },
    {
      "cell_type": "code",
      "source": [
        "nb_classes = 10 # number of unique digits\n",
        "\n",
        "Y_train = np_utils.to_categorical(y_train, nb_classes)\n",
        "Y_test = np_utils.to_categorical(y_test, nb_classes)"
      ],
      "metadata": {
        "id": "NJCZtyFeVSw8"
      },
      "execution_count": 25,
      "outputs": []
    },
    {
      "cell_type": "code",
      "source": [
        "model = Sequential()"
      ],
      "metadata": {
        "id": "OcE99fqGDloE"
      },
      "execution_count": 26,
      "outputs": []
    },
    {
      "cell_type": "code",
      "source": [
        "#Convolution Layer 1\n",
        "model.add(Conv2D(32,(3,3), input_shape=(28,28,1)))\n"
      ],
      "metadata": {
        "id": "FreLw2TvDqJm"
      },
      "execution_count": 27,
      "outputs": []
    },
    {
      "cell_type": "code",
      "source": [
        "model.add(BatchNormalization(axis=-1))"
      ],
      "metadata": {
        "id": "tCqpjZQaSlIp"
      },
      "execution_count": 28,
      "outputs": []
    },
    {
      "cell_type": "code",
      "source": [
        "convLayer01 = Activation('relu')"
      ],
      "metadata": {
        "id": "zSxB-aH7So1h"
      },
      "execution_count": 29,
      "outputs": []
    },
    {
      "cell_type": "code",
      "source": [
        "model.add(convLayer01)"
      ],
      "metadata": {
        "id": "sCECSDHpTF7D"
      },
      "execution_count": 30,
      "outputs": []
    },
    {
      "cell_type": "code",
      "source": [
        "# Convultional Layer 2\n",
        "model.add(Conv2D(32,(3,3)))\n",
        "\n"
      ],
      "metadata": {
        "id": "uy2YaNm3TRyl"
      },
      "execution_count": 31,
      "outputs": []
    },
    {
      "cell_type": "code",
      "source": [
        "model.add(BatchNormalization(axis = -1))"
      ],
      "metadata": {
        "id": "ukQoQ6SgUAr2"
      },
      "execution_count": 32,
      "outputs": []
    },
    {
      "cell_type": "code",
      "source": [
        "model.add(Activation('relu'))"
      ],
      "metadata": {
        "id": "DlN5Di4TUFlP"
      },
      "execution_count": 33,
      "outputs": []
    },
    {
      "cell_type": "code",
      "source": [
        "convLayer02 = MaxPooling2D(pool_size=(2,2))"
      ],
      "metadata": {
        "id": "mwmUE0dMUJRA"
      },
      "execution_count": 34,
      "outputs": []
    },
    {
      "cell_type": "code",
      "source": [
        "model.add(convLayer02)"
      ],
      "metadata": {
        "id": "2IeO3sXCUWFz"
      },
      "execution_count": 35,
      "outputs": []
    },
    {
      "cell_type": "markdown",
      "source": [
        "* Axis: the axis of your data which you like Batch Normalization to be applied on. Usually, this is not of importance, but if you have a channels-first Conv layer, it must be set to 1. Momentum: the momentum that is to be used on the moving mean and the moving variance."
      ],
      "metadata": {
        "id": "eKZ7UJQz4Sbo"
      }
    },
    {
      "cell_type": "markdown",
      "source": [
        "* BatchNormalization computes statistics only with respect to a single axis (usually the channels axis, =-1 (last) by default); every other axis is collapsed, i.e. summed over for averaging; "
      ],
      "metadata": {
        "id": "BUydM6ZW4uZ_"
      }
    },
    {
      "cell_type": "code",
      "source": [
        "from keras.backend import conv2d\n",
        "# Convolution Layer 3\n",
        "model.add(Conv2D(64,(3,3)))\n",
        "model.add(BatchNormalization(axis = -1))\n",
        "convLayer03 = Activation('relu')\n",
        "model.add(convLayer03)\n"
      ],
      "metadata": {
        "id": "DebKhHFyUaGN"
      },
      "execution_count": 36,
      "outputs": []
    },
    {
      "cell_type": "code",
      "source": [
        "# Convolution Layer 4\n",
        "\n",
        "model.add(Conv2D(64,(3,3)))\n",
        "model.add(BatchNormalization(axis = -1))\n",
        "convLayer03 = Activation('relu')\n",
        "convLayer04 = MaxPooling2D(pool_size=(2,2))\n",
        "model.add(convLayer04)\n",
        "model.add(Flatten())"
      ],
      "metadata": {
        "id": "SW6MvBAuUyj0"
      },
      "execution_count": 37,
      "outputs": []
    },
    {
      "cell_type": "code",
      "source": [
        "# Fully connected Layer 5\n",
        "model.add(Dense(512))\n",
        "model.add(BatchNormalization())\n",
        "model.add(Activation('relu'))"
      ],
      "metadata": {
        "id": "l2brmvyBVHAG"
      },
      "execution_count": 38,
      "outputs": []
    },
    {
      "cell_type": "code",
      "source": [
        "# Fully Connected Layer 6\n",
        "model.add(Dropout(0.2))\n",
        "model.add(Dense(10))\n",
        "model.add(Activation('softmax'))"
      ],
      "metadata": {
        "id": "XFC6j6f4WFPC"
      },
      "execution_count": 39,
      "outputs": []
    },
    {
      "cell_type": "code",
      "source": [
        "model.summary()"
      ],
      "metadata": {
        "id": "QmfTLRr8WlnG",
        "outputId": "9e203470-f4fa-4ec1-f76f-25c9925c4e23",
        "colab": {
          "base_uri": "https://localhost:8080/"
        }
      },
      "execution_count": 40,
      "outputs": [
        {
          "output_type": "stream",
          "name": "stdout",
          "text": [
            "Model: \"sequential_1\"\n",
            "_________________________________________________________________\n",
            " Layer (type)                Output Shape              Param #   \n",
            "=================================================================\n",
            " conv2d (Conv2D)             (None, 26, 26, 32)        320       \n",
            "                                                                 \n",
            " batch_normalization (BatchN  (None, 26, 26, 32)       128       \n",
            " ormalization)                                                   \n",
            "                                                                 \n",
            " activation_3 (Activation)   (None, 26, 26, 32)        0         \n",
            "                                                                 \n",
            " conv2d_1 (Conv2D)           (None, 24, 24, 32)        9248      \n",
            "                                                                 \n",
            " batch_normalization_1 (Batc  (None, 24, 24, 32)       128       \n",
            " hNormalization)                                                 \n",
            "                                                                 \n",
            " activation_4 (Activation)   (None, 24, 24, 32)        0         \n",
            "                                                                 \n",
            " max_pooling2d (MaxPooling2D  (None, 12, 12, 32)       0         \n",
            " )                                                               \n",
            "                                                                 \n",
            " conv2d_2 (Conv2D)           (None, 10, 10, 64)        18496     \n",
            "                                                                 \n",
            " batch_normalization_2 (Batc  (None, 10, 10, 64)       256       \n",
            " hNormalization)                                                 \n",
            "                                                                 \n",
            " activation_5 (Activation)   (None, 10, 10, 64)        0         \n",
            "                                                                 \n",
            " conv2d_3 (Conv2D)           (None, 8, 8, 64)          36928     \n",
            "                                                                 \n",
            " batch_normalization_3 (Batc  (None, 8, 8, 64)         256       \n",
            " hNormalization)                                                 \n",
            "                                                                 \n",
            " max_pooling2d_1 (MaxPooling  (None, 4, 4, 64)         0         \n",
            " 2D)                                                             \n",
            "                                                                 \n",
            " flatten (Flatten)           (None, 1024)              0         \n",
            "                                                                 \n",
            " dense_3 (Dense)             (None, 512)               524800    \n",
            "                                                                 \n",
            " batch_normalization_4 (Batc  (None, 512)              2048      \n",
            " hNormalization)                                                 \n",
            "                                                                 \n",
            " activation_7 (Activation)   (None, 512)               0         \n",
            "                                                                 \n",
            " dropout_2 (Dropout)         (None, 512)               0         \n",
            "                                                                 \n",
            " dense_4 (Dense)             (None, 10)                5130      \n",
            "                                                                 \n",
            " activation_8 (Activation)   (None, 10)                0         \n",
            "                                                                 \n",
            "=================================================================\n",
            "Total params: 597,738\n",
            "Trainable params: 596,330\n",
            "Non-trainable params: 1,408\n",
            "_________________________________________________________________\n"
          ]
        }
      ]
    },
    {
      "cell_type": "code",
      "source": [
        "model.compile(loss='categorical_crossentropy', \n",
        "              optimizer = 'adam', metrics = ['accuracy'])"
      ],
      "metadata": {
        "id": "xYtGORv8W0SH"
      },
      "execution_count": 41,
      "outputs": []
    },
    {
      "cell_type": "code",
      "source": [
        "# data augmentation prevents overfitting by slightly changing the data randomly\n",
        "# Keras has a great built-in feature to do automatic augmentation\n",
        "gen = ImageDataGenerator(rotation_range=8, width_shift_range=0.08,\n",
        "                         shear_range=0.3,\n",
        "                         height_shift_range=0.08, zoom_range=0.08)\n",
        "test_gen = ImageDataGenerator()"
      ],
      "metadata": {
        "id": "X1UXx3U0W1OC"
      },
      "execution_count": 42,
      "outputs": []
    },
    {
      "cell_type": "code",
      "source": [
        "train_generator = gen.flow(X_train,Y_train,batch_size = 128)\n",
        "test_generator = test_gen.flow(X_test, Y_test, batch_size = 128)"
      ],
      "metadata": {
        "id": "cB6SRCKOYHYD"
      },
      "execution_count": 43,
      "outputs": []
    },
    {
      "cell_type": "code",
      "source": [
        "model.fit_generator(train_generator, steps_per_epoch=60000//128,epochs=5, verbose = 1,\n",
        "                    validation_data = test_generator, validation_steps = 10000//128)"
      ],
      "metadata": {
        "id": "D-qJj804Yw8M",
        "outputId": "3c2bef50-3e43-4c35-e4e1-1207a0ce3953",
        "colab": {
          "base_uri": "https://localhost:8080/"
        }
      },
      "execution_count": 44,
      "outputs": [
        {
          "output_type": "stream",
          "name": "stderr",
          "text": [
            "/usr/local/lib/python3.7/dist-packages/ipykernel_launcher.py:2: UserWarning: `Model.fit_generator` is deprecated and will be removed in a future version. Please use `Model.fit`, which supports generators.\n",
            "  \n"
          ]
        },
        {
          "output_type": "stream",
          "name": "stdout",
          "text": [
            "Epoch 1/5\n",
            "468/468 [==============================] - 205s 435ms/step - loss: 0.1405 - accuracy: 0.9570 - val_loss: 0.1403 - val_accuracy: 0.9583\n",
            "Epoch 2/5\n",
            "468/468 [==============================] - 207s 442ms/step - loss: 0.0520 - accuracy: 0.9849 - val_loss: 0.0471 - val_accuracy: 0.9845\n",
            "Epoch 3/5\n",
            "468/468 [==============================] - 203s 435ms/step - loss: 0.0418 - accuracy: 0.9871 - val_loss: 0.0262 - val_accuracy: 0.9906\n",
            "Epoch 4/5\n",
            "468/468 [==============================] - 201s 430ms/step - loss: 0.0357 - accuracy: 0.9888 - val_loss: 0.0395 - val_accuracy: 0.9874\n",
            "Epoch 5/5\n",
            "468/468 [==============================] - 201s 429ms/step - loss: 0.0318 - accuracy: 0.9901 - val_loss: 0.0196 - val_accuracy: 0.9936\n"
          ]
        },
        {
          "output_type": "execute_result",
          "data": {
            "text/plain": [
              "<keras.callbacks.History at 0x7fe90bd71190>"
            ]
          },
          "metadata": {},
          "execution_count": 44
        }
      ]
    },
    {
      "cell_type": "markdown",
      "source": [
        "### Evaluating the model"
      ],
      "metadata": {
        "id": "twOepvYC5SJr"
      }
    },
    {
      "cell_type": "code",
      "source": [
        "score = model.evaluate(X_test, Y_test)\n",
        "print('Test score:', score[0])\n",
        "print('Test accuracy:', score[1])"
      ],
      "metadata": {
        "id": "frys3V4XcY6L",
        "outputId": "1086d2fc-fbd9-4e74-94e4-1f3458d205e7",
        "colab": {
          "base_uri": "https://localhost:8080/"
        }
      },
      "execution_count": 45,
      "outputs": [
        {
          "output_type": "stream",
          "name": "stdout",
          "text": [
            "313/313 [==============================] - 9s 27ms/step - loss: 0.0196 - accuracy: 0.9936\n",
            "Test score: 0.01961304247379303\n",
            "Test accuracy: 0.9936000108718872\n"
          ]
        }
      ]
    },
    {
      "cell_type": "markdown",
      "source": [
        "# Test accuracy is - 0.99\n",
        "\n",
        "\n",
        "\n",
        "\n"
      ],
      "metadata": {
        "id": "HSOTfiXB5avA"
      }
    }
  ]
}