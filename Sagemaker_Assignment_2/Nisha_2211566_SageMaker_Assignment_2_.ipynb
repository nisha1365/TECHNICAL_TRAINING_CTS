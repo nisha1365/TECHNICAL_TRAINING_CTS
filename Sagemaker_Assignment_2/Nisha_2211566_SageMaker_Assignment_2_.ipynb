{
  "cells": [
    {
      "cell_type": "markdown",
      "metadata": {
        "id": "VTKNcsJgJ8v-"
      },
      "source": [
        "# Used Car price Prediction\n",
        "\n",
        "**Goal: To build, train, test and deploy a machine learning regression model to predict used car prices using the features.**\n",
        "\n",
        "**We use an XGBoost algorithm to predict the used car prices using the used_car_prices dataset.**\n",
        "\n",
        "**Data:**\n",
        "\n",
        "*Dataset: used_car_prices.csv*\n",
        "\n",
        "*Features: Make, Model, Type, Origin, Drivetrain, Invoice, EngineSize, Cylinders, Horsepower, MPG_City, MPG_Highway, Weight, Wheelbase, Length*\n",
        "\n",
        "*Target class: MSRP(price)*"
      ]
    },
    {
      "cell_type": "markdown",
      "metadata": {
        "id": "-JfcbSumJ8wA"
      },
      "source": [
        "### Necessary imports"
      ]
    },
    {
      "cell_type": "code",
      "execution_count": null,
      "metadata": {
        "id": "OmUO6mI1J8wB"
      },
      "outputs": [],
      "source": [
        "import pandas as pd\n",
        "import numpy as np\n",
        "import seaborn as sns\n",
        "import matplotlib.pyplot as plt\n",
        "import zipfile\n",
        "%matplotlib inline"
      ]
    },
    {
      "cell_type": "markdown",
      "metadata": {
        "id": "tmZNLRy5J8wC"
      },
      "source": [
        "### Reading the used_car_price dataset using pandas dataframe"
      ]
    },
    {
      "cell_type": "code",
      "execution_count": null,
      "metadata": {
        "id": "15ywJ2kyJ8wC"
      },
      "outputs": [],
      "source": [
        "# Importing the csv files using pandas\n",
        "car_df=pd.read_csv('used_car_price.csv')"
      ]
    },
    {
      "cell_type": "markdown",
      "metadata": {
        "id": "RHQM0rfmJ8wC"
      },
      "source": [
        "#### Checking the head of the dataset"
      ]
    },
    {
      "cell_type": "code",
      "execution_count": null,
      "metadata": {
        "id": "lKXJB-yiJ8wC",
        "outputId": "a768517d-fb1f-4089-8134-2b8cef98f40f"
      },
      "outputs": [
        {
          "data": {
            "text/html": [
              "<div>\n",
              "<style scoped>\n",
              "    .dataframe tbody tr th:only-of-type {\n",
              "        vertical-align: middle;\n",
              "    }\n",
              "\n",
              "    .dataframe tbody tr th {\n",
              "        vertical-align: top;\n",
              "    }\n",
              "\n",
              "    .dataframe thead th {\n",
              "        text-align: right;\n",
              "    }\n",
              "</style>\n",
              "<table border=\"1\" class=\"dataframe\">\n",
              "  <thead>\n",
              "    <tr style=\"text-align: right;\">\n",
              "      <th></th>\n",
              "      <th>Make</th>\n",
              "      <th>Model</th>\n",
              "      <th>Type</th>\n",
              "      <th>Origin</th>\n",
              "      <th>DriveTrain</th>\n",
              "      <th>MSRP</th>\n",
              "      <th>EngineSize</th>\n",
              "      <th>Cylinders</th>\n",
              "      <th>Horsepower</th>\n",
              "      <th>MPG_City</th>\n",
              "      <th>MPG_Highway</th>\n",
              "      <th>Weight</th>\n",
              "      <th>Wheelbase</th>\n",
              "      <th>Length</th>\n",
              "    </tr>\n",
              "  </thead>\n",
              "  <tbody>\n",
              "    <tr>\n",
              "      <th>0</th>\n",
              "      <td>Acura</td>\n",
              "      <td>MDX</td>\n",
              "      <td>SUV</td>\n",
              "      <td>Asia</td>\n",
              "      <td>All</td>\n",
              "      <td>36945</td>\n",
              "      <td>3.5</td>\n",
              "      <td>6</td>\n",
              "      <td>265</td>\n",
              "      <td>17</td>\n",
              "      <td>23</td>\n",
              "      <td>4451</td>\n",
              "      <td>106</td>\n",
              "      <td>189</td>\n",
              "    </tr>\n",
              "    <tr>\n",
              "      <th>1</th>\n",
              "      <td>Acura</td>\n",
              "      <td>RSX Type S 2dr</td>\n",
              "      <td>Sedan</td>\n",
              "      <td>Asia</td>\n",
              "      <td>Front</td>\n",
              "      <td>23820</td>\n",
              "      <td>2.0</td>\n",
              "      <td>4</td>\n",
              "      <td>200</td>\n",
              "      <td>24</td>\n",
              "      <td>31</td>\n",
              "      <td>2778</td>\n",
              "      <td>101</td>\n",
              "      <td>172</td>\n",
              "    </tr>\n",
              "    <tr>\n",
              "      <th>2</th>\n",
              "      <td>Acura</td>\n",
              "      <td>TSX 4dr</td>\n",
              "      <td>Sedan</td>\n",
              "      <td>Asia</td>\n",
              "      <td>Front</td>\n",
              "      <td>26990</td>\n",
              "      <td>2.4</td>\n",
              "      <td>4</td>\n",
              "      <td>200</td>\n",
              "      <td>22</td>\n",
              "      <td>29</td>\n",
              "      <td>3230</td>\n",
              "      <td>105</td>\n",
              "      <td>183</td>\n",
              "    </tr>\n",
              "    <tr>\n",
              "      <th>3</th>\n",
              "      <td>Acura</td>\n",
              "      <td>TL 4dr</td>\n",
              "      <td>Sedan</td>\n",
              "      <td>Asia</td>\n",
              "      <td>Front</td>\n",
              "      <td>33195</td>\n",
              "      <td>3.2</td>\n",
              "      <td>6</td>\n",
              "      <td>270</td>\n",
              "      <td>20</td>\n",
              "      <td>28</td>\n",
              "      <td>3575</td>\n",
              "      <td>108</td>\n",
              "      <td>186</td>\n",
              "    </tr>\n",
              "    <tr>\n",
              "      <th>4</th>\n",
              "      <td>Acura</td>\n",
              "      <td>3.5 RL 4dr</td>\n",
              "      <td>Sedan</td>\n",
              "      <td>Asia</td>\n",
              "      <td>Front</td>\n",
              "      <td>43755</td>\n",
              "      <td>3.5</td>\n",
              "      <td>6</td>\n",
              "      <td>225</td>\n",
              "      <td>18</td>\n",
              "      <td>24</td>\n",
              "      <td>3880</td>\n",
              "      <td>115</td>\n",
              "      <td>197</td>\n",
              "    </tr>\n",
              "  </tbody>\n",
              "</table>\n",
              "</div>"
            ],
            "text/plain": [
              "    Make           Model   Type Origin DriveTrain   MSRP  EngineSize  \\\n",
              "0  Acura             MDX    SUV   Asia        All  36945         3.5   \n",
              "1  Acura  RSX Type S 2dr  Sedan   Asia      Front  23820         2.0   \n",
              "2  Acura         TSX 4dr  Sedan   Asia      Front  26990         2.4   \n",
              "3  Acura          TL 4dr  Sedan   Asia      Front  33195         3.2   \n",
              "4  Acura      3.5 RL 4dr  Sedan   Asia      Front  43755         3.5   \n",
              "\n",
              "   Cylinders  Horsepower  MPG_City  MPG_Highway  Weight  Wheelbase  Length  \n",
              "0          6         265        17           23    4451        106     189  \n",
              "1          4         200        24           31    2778        101     172  \n",
              "2          4         200        22           29    3230        105     183  \n",
              "3          6         270        20           28    3575        108     186  \n",
              "4          6         225        18           24    3880        115     197  "
            ]
          },
          "execution_count": 73,
          "metadata": {},
          "output_type": "execute_result"
        }
      ],
      "source": [
        "car_df.head()"
      ]
    },
    {
      "cell_type": "markdown",
      "metadata": {
        "id": "7x_5t-F2J8wD"
      },
      "source": [
        "## Checking for null values"
      ]
    },
    {
      "cell_type": "code",
      "execution_count": null,
      "metadata": {
        "id": "DstdD6XLJ8wD",
        "outputId": "5623a95e-c12b-46f2-fe25-c36bc55f1996"
      },
      "outputs": [
        {
          "data": {
            "text/plain": [
              "Make           0\n",
              "Model          0\n",
              "Type           0\n",
              "Origin         0\n",
              "DriveTrain     0\n",
              "MSRP           0\n",
              "EngineSize     0\n",
              "Cylinders      0\n",
              "Horsepower     0\n",
              "MPG_City       0\n",
              "MPG_Highway    0\n",
              "Weight         0\n",
              "Wheelbase      0\n",
              "Length         0\n",
              "dtype: int64"
            ]
          },
          "execution_count": 74,
          "metadata": {},
          "output_type": "execute_result"
        }
      ],
      "source": [
        "car_df.isnull().sum()"
      ]
    },
    {
      "cell_type": "markdown",
      "metadata": {
        "id": "sOHt0vQYJ8wD"
      },
      "source": [
        "There are no null values in the dataset."
      ]
    },
    {
      "cell_type": "markdown",
      "metadata": {
        "id": "zK7LRiZGJ8wD"
      },
      "source": [
        "#### Checking the info of the dataset"
      ]
    },
    {
      "cell_type": "code",
      "execution_count": null,
      "metadata": {
        "id": "AOO3A3VwJ8wD",
        "outputId": "2be6b56b-562a-4523-9614-538ace4fb253"
      },
      "outputs": [
        {
          "name": "stdout",
          "output_type": "stream",
          "text": [
            "<class 'pandas.core.frame.DataFrame'>\n",
            "RangeIndex: 428 entries, 0 to 427\n",
            "Data columns (total 14 columns):\n",
            " #   Column       Non-Null Count  Dtype  \n",
            "---  ------       --------------  -----  \n",
            " 0   Make         428 non-null    object \n",
            " 1   Model        428 non-null    object \n",
            " 2   Type         428 non-null    object \n",
            " 3   Origin       428 non-null    object \n",
            " 4   DriveTrain   428 non-null    object \n",
            " 5   MSRP         428 non-null    int64  \n",
            " 6   EngineSize   428 non-null    float64\n",
            " 7   Cylinders    428 non-null    int64  \n",
            " 8   Horsepower   428 non-null    int64  \n",
            " 9   MPG_City     428 non-null    int64  \n",
            " 10  MPG_Highway  428 non-null    int64  \n",
            " 11  Weight       428 non-null    int64  \n",
            " 12  Wheelbase    428 non-null    int64  \n",
            " 13  Length       428 non-null    int64  \n",
            "dtypes: float64(1), int64(8), object(5)\n",
            "memory usage: 46.9+ KB\n"
          ]
        }
      ],
      "source": [
        "car_df.info()"
      ]
    },
    {
      "cell_type": "markdown",
      "metadata": {
        "id": "yrCIqo2PJ8wE"
      },
      "source": [
        "## Data Visualization"
      ]
    },
    {
      "cell_type": "markdown",
      "metadata": {
        "id": "XhO6K1cIJ8wE"
      },
      "source": [
        "#### Different types of cars and correspondingly their prices"
      ]
    },
    {
      "cell_type": "code",
      "execution_count": null,
      "metadata": {
        "id": "QcojInhkJ8wE",
        "outputId": "1813fbcb-30dd-4617-80b7-9ce896b83e24"
      },
      "outputs": [
        {
          "data": {
            "text/plain": [
              "<matplotlib.axes._subplots.AxesSubplot at 0x2000132d190>"
            ]
          },
          "execution_count": 76,
          "metadata": {},
          "output_type": "execute_result"
        },
        {
          "data": {
            "image/png": "[encoded data removed]",
            "text/plain": [
              "<Figure size 432x288 with 1 Axes>"
            ]
          },
          "metadata": {
            "needs_background": "light"
          },
          "output_type": "display_data"
        }
      ],
      "source": [
        "sns.countplot(x='Type',data=car_df)"
      ]
    },
    {
      "cell_type": "code",
      "execution_count": null,
      "metadata": {
        "id": "znlzkcxbJ8wE",
        "outputId": "521837a5-2508-44e7-cc8a-581f2f97d1af"
      },
      "outputs": [
        {
          "data": {
            "text/plain": [
              "<matplotlib.axes._subplots.AxesSubplot at 0x20000cc5550>"
            ]
          },
          "execution_count": 77,
          "metadata": {},
          "output_type": "execute_result"
        },
        {
          "data": {
            "image/png": "[encoded data removed]",
            "text/plain": [
              "<Figure size 432x288 with 1 Axes>"
            ]
          },
          "metadata": {
            "needs_background": "light"
          },
          "output_type": "display_data"
        }
      ],
      "source": [
        "sns.barplot(x='Type',y='MSRP',data=car_df)"
      ]
    },
    {
      "cell_type": "markdown",
      "metadata": {
        "id": "6C94GBOOJ8wE"
      },
      "source": [
        "Most used cars are Sedan while the highest price for used cars are for Sports cars. Type is an important feature for car price and hence we would need to do a one-hot encoding for this column."
      ]
    },
    {
      "cell_type": "markdown",
      "metadata": {
        "id": "VuwWgzGFJ8wE"
      },
      "source": [
        "#### Different origins of cars and their respective prices"
      ]
    },
    {
      "cell_type": "code",
      "execution_count": null,
      "metadata": {
        "id": "6SGYvFg4J8wE",
        "outputId": "2485e6e8-c078-42ba-9cb7-4f4e73fe270f"
      },
      "outputs": [
        {
          "data": {
            "text/plain": [
              "<matplotlib.axes._subplots.AxesSubplot at 0x200005f73a0>"
            ]
          },
          "execution_count": 78,
          "metadata": {},
          "output_type": "execute_result"
        },
        {
          "data": {
            "image/png": "[encoded data removed]",
            "text/plain": [
              "<Figure size 432x288 with 1 Axes>"
            ]
          },
          "metadata": {
            "needs_background": "light"
          },
          "output_type": "display_data"
        }
      ],
      "source": [
        "sns.countplot(x='Origin',data=car_df)"
      ]
    },
    {
      "cell_type": "code",
      "execution_count": null,
      "metadata": {
        "id": "EspsNjqjJ8wE",
        "outputId": "6ca07d7d-8377-45b2-9208-435641c0dffb"
      },
      "outputs": [
        {
          "data": {
            "text/plain": [
              "<matplotlib.axes._subplots.AxesSubplot at 0x200010e0df0>"
            ]
          },
          "execution_count": 79,
          "metadata": {},
          "output_type": "execute_result"
        },
        {
          "data": {
            "image/png": "[encoded data removed]",
            "text/plain": [
              "<Figure size 432x288 with 1 Axes>"
            ]
          },
          "metadata": {
            "needs_background": "light"
          },
          "output_type": "display_data"
        }
      ],
      "source": [
        "sns.barplot(x='Origin',y='MSRP',data=car_df)"
      ]
    },
    {
      "cell_type": "markdown",
      "metadata": {
        "id": "O6o_kUSyJ8wF"
      },
      "source": [
        "Most used cars are from Asian origin, and least are European origin; while the highest price for used cars are cars from European origin.Thus, Origin is an important feature for car price and hence we would need to do a one-hot encoding for this column as well."
      ]
    },
    {
      "cell_type": "markdown",
      "metadata": {
        "id": "6tk-Nkq8J8wF"
      },
      "source": [
        "#### Different Drivetrain of cars and their respective prices"
      ]
    },
    {
      "cell_type": "code",
      "execution_count": null,
      "metadata": {
        "id": "9IqkrQKBJ8wF",
        "outputId": "d5d8f0b3-069e-4fdc-8f6a-3f8b61a4676d"
      },
      "outputs": [
        {
          "data": {
            "text/plain": [
              "<matplotlib.axes._subplots.AxesSubplot at 0x200013b29a0>"
            ]
          },
          "execution_count": 80,
          "metadata": {},
          "output_type": "execute_result"
        },
        {
          "data": {
            "image/png": "[encoded data removed]",
            "text/plain": [
              "<Figure size 432x288 with 1 Axes>"
            ]
          },
          "metadata": {
            "needs_background": "light"
          },
          "output_type": "display_data"
        }
      ],
      "source": [
        "sns.countplot(x='DriveTrain',data=car_df)"
      ]
    },
    {
      "cell_type": "code",
      "execution_count": null,
      "metadata": {
        "id": "LjGw5fmEJ8wF",
        "outputId": "ce1a42c3-b048-4573-c8c2-7b8eb1f0e184"
      },
      "outputs": [
        {
          "data": {
            "text/plain": [
              "<matplotlib.axes._subplots.AxesSubplot at 0x20000dd1640>"
            ]
          },
          "execution_count": 81,
          "metadata": {},
          "output_type": "execute_result"
        },
        {
          "data": {
            "image/png": "[encoded data removed]",
            "text/plain": [
              "<Figure size 432x288 with 1 Axes>"
            ]
          },
          "metadata": {
            "needs_background": "light"
          },
          "output_type": "display_data"
        }
      ],
      "source": [
        "sns.barplot(x='DriveTrain',y='MSRP',data=car_df)"
      ]
    },
    {
      "cell_type": "markdown",
      "metadata": {
        "id": "eoorNNHeJ8wF"
      },
      "source": [
        "Most of the cars in the dataset have Front drive train, while price is least for the same category. We also one-hot encode DriveTrain. "
      ]
    },
    {
      "cell_type": "markdown",
      "metadata": {
        "id": "5fzluulgJ8wG"
      },
      "source": [
        "## Data Preparation"
      ]
    },
    {
      "cell_type": "markdown",
      "metadata": {
        "id": "l4oawAyLJ8wG"
      },
      "source": [
        "Breaking the entire dataset into smaller dataframes which can easily be processed. The 'todummy_df' will be used for one-hot encoding, 'cat_df' will be used for dealing with integer encoding and 'remaining_df' will remain the same since it is integer type."
      ]
    },
    {
      "cell_type": "code",
      "execution_count": null,
      "metadata": {
        "id": "PImcazuLJ8wG"
      },
      "outputs": [],
      "source": [
        "todummy_df = car_df[['Type','Origin','DriveTrain']]"
      ]
    },
    {
      "cell_type": "code",
      "execution_count": null,
      "metadata": {
        "id": "cjiybaEJJ8wH",
        "outputId": "734f1ec4-1578-47b1-d330-151e28507906"
      },
      "outputs": [
        {
          "data": {
            "text/html": [
              "<div>\n",
              "<style scoped>\n",
              "    .dataframe tbody tr th:only-of-type {\n",
              "        vertical-align: middle;\n",
              "    }\n",
              "\n",
              "    .dataframe tbody tr th {\n",
              "        vertical-align: top;\n",
              "    }\n",
              "\n",
              "    .dataframe thead th {\n",
              "        text-align: right;\n",
              "    }\n",
              "</style>\n",
              "<table border=\"1\" class=\"dataframe\">\n",
              "  <thead>\n",
              "    <tr style=\"text-align: right;\">\n",
              "      <th></th>\n",
              "      <th>Make</th>\n",
              "      <th>Model</th>\n",
              "    </tr>\n",
              "  </thead>\n",
              "  <tbody>\n",
              "    <tr>\n",
              "      <th>0</th>\n",
              "      <td>Acura</td>\n",
              "      <td>MDX</td>\n",
              "    </tr>\n",
              "    <tr>\n",
              "      <th>1</th>\n",
              "      <td>Acura</td>\n",
              "      <td>RSX Type S 2dr</td>\n",
              "    </tr>\n",
              "    <tr>\n",
              "      <th>2</th>\n",
              "      <td>Acura</td>\n",
              "      <td>TSX 4dr</td>\n",
              "    </tr>\n",
              "    <tr>\n",
              "      <th>3</th>\n",
              "      <td>Acura</td>\n",
              "      <td>TL 4dr</td>\n",
              "    </tr>\n",
              "    <tr>\n",
              "      <th>4</th>\n",
              "      <td>Acura</td>\n",
              "      <td>3.5 RL 4dr</td>\n",
              "    </tr>\n",
              "  </tbody>\n",
              "</table>\n",
              "</div>"
            ],
            "text/plain": [
              "    Make           Model\n",
              "0  Acura             MDX\n",
              "1  Acura  RSX Type S 2dr\n",
              "2  Acura         TSX 4dr\n",
              "3  Acura          TL 4dr\n",
              "4  Acura      3.5 RL 4dr"
            ]
          },
          "execution_count": 84,
          "metadata": {},
          "output_type": "execute_result"
        }
      ],
      "source": [
        "cat_df = car_df[['Make','Model']]\n",
        "cat_df.head()"
      ]
    },
    {
      "cell_type": "code",
      "execution_count": null,
      "metadata": {
        "id": "6AOjIWMeJ8wH"
      },
      "outputs": [],
      "source": [
        "remaining_df = car_df[['EngineSize','Cylinders','Horsepower','MPG_City','MPG_Highway','Weight','Wheelbase','Length','MSRP']]"
      ]
    },
    {
      "cell_type": "code",
      "execution_count": null,
      "metadata": {
        "id": "eDgdnZfuJ8wH",
        "outputId": "dfacc4ae-220e-4d6b-dc57-ab3ae03a7f10"
      },
      "outputs": [
        {
          "data": {
            "text/html": [
              "<div>\n",
              "<style scoped>\n",
              "    .dataframe tbody tr th:only-of-type {\n",
              "        vertical-align: middle;\n",
              "    }\n",
              "\n",
              "    .dataframe tbody tr th {\n",
              "        vertical-align: top;\n",
              "    }\n",
              "\n",
              "    .dataframe thead th {\n",
              "        text-align: right;\n",
              "    }\n",
              "</style>\n",
              "<table border=\"1\" class=\"dataframe\">\n",
              "  <thead>\n",
              "    <tr style=\"text-align: right;\">\n",
              "      <th></th>\n",
              "      <th>EngineSize</th>\n",
              "      <th>Cylinders</th>\n",
              "      <th>Horsepower</th>\n",
              "      <th>MPG_City</th>\n",
              "      <th>MPG_Highway</th>\n",
              "      <th>Weight</th>\n",
              "      <th>Wheelbase</th>\n",
              "      <th>Length</th>\n",
              "      <th>MSRP</th>\n",
              "    </tr>\n",
              "  </thead>\n",
              "  <tbody>\n",
              "    <tr>\n",
              "      <th>0</th>\n",
              "      <td>3.5</td>\n",
              "      <td>6</td>\n",
              "      <td>265</td>\n",
              "      <td>17</td>\n",
              "      <td>23</td>\n",
              "      <td>4451</td>\n",
              "      <td>106</td>\n",
              "      <td>189</td>\n",
              "      <td>36945</td>\n",
              "    </tr>\n",
              "    <tr>\n",
              "      <th>1</th>\n",
              "      <td>2.0</td>\n",
              "      <td>4</td>\n",
              "      <td>200</td>\n",
              "      <td>24</td>\n",
              "      <td>31</td>\n",
              "      <td>2778</td>\n",
              "      <td>101</td>\n",
              "      <td>172</td>\n",
              "      <td>23820</td>\n",
              "    </tr>\n",
              "    <tr>\n",
              "      <th>2</th>\n",
              "      <td>2.4</td>\n",
              "      <td>4</td>\n",
              "      <td>200</td>\n",
              "      <td>22</td>\n",
              "      <td>29</td>\n",
              "      <td>3230</td>\n",
              "      <td>105</td>\n",
              "      <td>183</td>\n",
              "      <td>26990</td>\n",
              "    </tr>\n",
              "    <tr>\n",
              "      <th>3</th>\n",
              "      <td>3.2</td>\n",
              "      <td>6</td>\n",
              "      <td>270</td>\n",
              "      <td>20</td>\n",
              "      <td>28</td>\n",
              "      <td>3575</td>\n",
              "      <td>108</td>\n",
              "      <td>186</td>\n",
              "      <td>33195</td>\n",
              "    </tr>\n",
              "    <tr>\n",
              "      <th>4</th>\n",
              "      <td>3.5</td>\n",
              "      <td>6</td>\n",
              "      <td>225</td>\n",
              "      <td>18</td>\n",
              "      <td>24</td>\n",
              "      <td>3880</td>\n",
              "      <td>115</td>\n",
              "      <td>197</td>\n",
              "      <td>43755</td>\n",
              "    </tr>\n",
              "    <tr>\n",
              "      <th>...</th>\n",
              "      <td>...</td>\n",
              "      <td>...</td>\n",
              "      <td>...</td>\n",
              "      <td>...</td>\n",
              "      <td>...</td>\n",
              "      <td>...</td>\n",
              "      <td>...</td>\n",
              "      <td>...</td>\n",
              "      <td>...</td>\n",
              "    </tr>\n",
              "    <tr>\n",
              "      <th>423</th>\n",
              "      <td>2.4</td>\n",
              "      <td>5</td>\n",
              "      <td>197</td>\n",
              "      <td>21</td>\n",
              "      <td>28</td>\n",
              "      <td>3450</td>\n",
              "      <td>105</td>\n",
              "      <td>186</td>\n",
              "      <td>40565</td>\n",
              "    </tr>\n",
              "    <tr>\n",
              "      <th>424</th>\n",
              "      <td>2.3</td>\n",
              "      <td>5</td>\n",
              "      <td>242</td>\n",
              "      <td>20</td>\n",
              "      <td>26</td>\n",
              "      <td>3450</td>\n",
              "      <td>105</td>\n",
              "      <td>186</td>\n",
              "      <td>42565</td>\n",
              "    </tr>\n",
              "    <tr>\n",
              "      <th>425</th>\n",
              "      <td>2.9</td>\n",
              "      <td>6</td>\n",
              "      <td>268</td>\n",
              "      <td>19</td>\n",
              "      <td>26</td>\n",
              "      <td>3653</td>\n",
              "      <td>110</td>\n",
              "      <td>190</td>\n",
              "      <td>45210</td>\n",
              "    </tr>\n",
              "    <tr>\n",
              "      <th>426</th>\n",
              "      <td>1.9</td>\n",
              "      <td>4</td>\n",
              "      <td>170</td>\n",
              "      <td>22</td>\n",
              "      <td>29</td>\n",
              "      <td>2822</td>\n",
              "      <td>101</td>\n",
              "      <td>180</td>\n",
              "      <td>26135</td>\n",
              "    </tr>\n",
              "    <tr>\n",
              "      <th>427</th>\n",
              "      <td>2.5</td>\n",
              "      <td>5</td>\n",
              "      <td>208</td>\n",
              "      <td>20</td>\n",
              "      <td>27</td>\n",
              "      <td>3823</td>\n",
              "      <td>109</td>\n",
              "      <td>186</td>\n",
              "      <td>35145</td>\n",
              "    </tr>\n",
              "  </tbody>\n",
              "</table>\n",
              "<p>428 rows × 9 columns</p>\n",
              "</div>"
            ],
            "text/plain": [
              "     EngineSize  Cylinders  Horsepower  MPG_City  MPG_Highway  Weight  \\\n",
              "0           3.5          6         265        17           23    4451   \n",
              "1           2.0          4         200        24           31    2778   \n",
              "2           2.4          4         200        22           29    3230   \n",
              "3           3.2          6         270        20           28    3575   \n",
              "4           3.5          6         225        18           24    3880   \n",
              "..          ...        ...         ...       ...          ...     ...   \n",
              "423         2.4          5         197        21           28    3450   \n",
              "424         2.3          5         242        20           26    3450   \n",
              "425         2.9          6         268        19           26    3653   \n",
              "426         1.9          4         170        22           29    2822   \n",
              "427         2.5          5         208        20           27    3823   \n",
              "\n",
              "     Wheelbase  Length   MSRP  \n",
              "0          106     189  36945  \n",
              "1          101     172  23820  \n",
              "2          105     183  26990  \n",
              "3          108     186  33195  \n",
              "4          115     197  43755  \n",
              "..         ...     ...    ...  \n",
              "423        105     186  40565  \n",
              "424        105     186  42565  \n",
              "425        110     190  45210  \n",
              "426        101     180  26135  \n",
              "427        109     186  35145  \n",
              "\n",
              "[428 rows x 9 columns]"
            ]
          },
          "execution_count": 88,
          "metadata": {},
          "output_type": "execute_result"
        }
      ],
      "source": [
        "remaining_df"
      ]
    },
    {
      "cell_type": "markdown",
      "metadata": {
        "id": "IRCAF-UBJ8wI"
      },
      "source": [
        "### One-hot encoding Type, Origin and DriveTrain columns"
      ]
    },
    {
      "cell_type": "code",
      "execution_count": null,
      "metadata": {
        "id": "nJrO13B6J8wI"
      },
      "outputs": [],
      "source": [
        "dummy_df = pd.get_dummies(todummy_df, drop_first=True)"
      ]
    },
    {
      "cell_type": "code",
      "execution_count": null,
      "metadata": {
        "id": "DzLbtAtyJ8wI",
        "outputId": "357aef97-d615-45de-912a-b4a850ea4d83"
      },
      "outputs": [
        {
          "data": {
            "text/html": [
              "<div>\n",
              "<style scoped>\n",
              "    .dataframe tbody tr th:only-of-type {\n",
              "        vertical-align: middle;\n",
              "    }\n",
              "\n",
              "    .dataframe tbody tr th {\n",
              "        vertical-align: top;\n",
              "    }\n",
              "\n",
              "    .dataframe thead th {\n",
              "        text-align: right;\n",
              "    }\n",
              "</style>\n",
              "<table border=\"1\" class=\"dataframe\">\n",
              "  <thead>\n",
              "    <tr style=\"text-align: right;\">\n",
              "      <th></th>\n",
              "      <th>Type_SUV</th>\n",
              "      <th>Type_Sedan</th>\n",
              "      <th>Type_Sports</th>\n",
              "      <th>Type_Truck</th>\n",
              "      <th>Type_Wagon</th>\n",
              "      <th>Origin_Europe</th>\n",
              "      <th>Origin_USA</th>\n",
              "      <th>DriveTrain_Front</th>\n",
              "      <th>DriveTrain_Rear</th>\n",
              "    </tr>\n",
              "  </thead>\n",
              "  <tbody>\n",
              "    <tr>\n",
              "      <th>0</th>\n",
              "      <td>1</td>\n",
              "      <td>0</td>\n",
              "      <td>0</td>\n",
              "      <td>0</td>\n",
              "      <td>0</td>\n",
              "      <td>0</td>\n",
              "      <td>0</td>\n",
              "      <td>0</td>\n",
              "      <td>0</td>\n",
              "    </tr>\n",
              "    <tr>\n",
              "      <th>1</th>\n",
              "      <td>0</td>\n",
              "      <td>1</td>\n",
              "      <td>0</td>\n",
              "      <td>0</td>\n",
              "      <td>0</td>\n",
              "      <td>0</td>\n",
              "      <td>0</td>\n",
              "      <td>1</td>\n",
              "      <td>0</td>\n",
              "    </tr>\n",
              "    <tr>\n",
              "      <th>2</th>\n",
              "      <td>0</td>\n",
              "      <td>1</td>\n",
              "      <td>0</td>\n",
              "      <td>0</td>\n",
              "      <td>0</td>\n",
              "      <td>0</td>\n",
              "      <td>0</td>\n",
              "      <td>1</td>\n",
              "      <td>0</td>\n",
              "    </tr>\n",
              "    <tr>\n",
              "      <th>3</th>\n",
              "      <td>0</td>\n",
              "      <td>1</td>\n",
              "      <td>0</td>\n",
              "      <td>0</td>\n",
              "      <td>0</td>\n",
              "      <td>0</td>\n",
              "      <td>0</td>\n",
              "      <td>1</td>\n",
              "      <td>0</td>\n",
              "    </tr>\n",
              "    <tr>\n",
              "      <th>4</th>\n",
              "      <td>0</td>\n",
              "      <td>1</td>\n",
              "      <td>0</td>\n",
              "      <td>0</td>\n",
              "      <td>0</td>\n",
              "      <td>0</td>\n",
              "      <td>0</td>\n",
              "      <td>1</td>\n",
              "      <td>0</td>\n",
              "    </tr>\n",
              "  </tbody>\n",
              "</table>\n",
              "</div>"
            ],
            "text/plain": [
              "   Type_SUV  Type_Sedan  Type_Sports  Type_Truck  Type_Wagon  Origin_Europe  \\\n",
              "0         1           0            0           0           0              0   \n",
              "1         0           1            0           0           0              0   \n",
              "2         0           1            0           0           0              0   \n",
              "3         0           1            0           0           0              0   \n",
              "4         0           1            0           0           0              0   \n",
              "\n",
              "   Origin_USA  DriveTrain_Front  DriveTrain_Rear  \n",
              "0           0                 0                0  \n",
              "1           0                 1                0  \n",
              "2           0                 1                0  \n",
              "3           0                 1                0  \n",
              "4           0                 1                0  "
            ]
          },
          "execution_count": 90,
          "metadata": {},
          "output_type": "execute_result"
        }
      ],
      "source": [
        "dummy_df.head()"
      ]
    },
    {
      "cell_type": "markdown",
      "metadata": {
        "id": "uFTm7c2LJ8wJ"
      },
      "source": [
        "### Label encoding Make and Model column"
      ]
    },
    {
      "cell_type": "code",
      "execution_count": null,
      "metadata": {
        "id": "amdSkCLwJ8wJ"
      },
      "outputs": [],
      "source": [
        "from sklearn.preprocessing import LabelEncoder\n",
        "label_encoder = LabelEncoder()"
      ]
    },
    {
      "cell_type": "code",
      "execution_count": null,
      "metadata": {
        "id": "kRPKFireJ8wJ",
        "outputId": "11811b45-6921-44fa-f486-ad2cf9b9e22e"
      },
      "outputs": [
        {
          "name": "stderr",
          "output_type": "stream",
          "text": [
            "<ipython-input-92-29c7a01a0afc>:1: SettingWithCopyWarning: \n",
            "A value is trying to be set on a copy of a slice from a DataFrame.\n",
            "Try using .loc[row_indexer,col_indexer] = value instead\n",
            "\n",
            "See the caveats in the documentation: https://pandas.pydata.org/pandas-docs/stable/user_guide/indexing.html#returning-a-view-versus-a-copy\n",
            "  cat_df['Make'] = label_encoder.fit_transform(cat_df['Make'])\n"
          ]
        }
      ],
      "source": [
        "cat_df['Make'] = label_encoder.fit_transform(cat_df['Make'])"
      ]
    },
    {
      "cell_type": "code",
      "execution_count": null,
      "metadata": {
        "id": "s69-dWeBJ8wK",
        "outputId": "ccb3dcd6-27c5-4705-8453-6fbb7c22f30b"
      },
      "outputs": [
        {
          "name": "stderr",
          "output_type": "stream",
          "text": [
            "<ipython-input-93-7d53c32b51e4>:1: SettingWithCopyWarning: \n",
            "A value is trying to be set on a copy of a slice from a DataFrame.\n",
            "Try using .loc[row_indexer,col_indexer] = value instead\n",
            "\n",
            "See the caveats in the documentation: https://pandas.pydata.org/pandas-docs/stable/user_guide/indexing.html#returning-a-view-versus-a-copy\n",
            "  cat_df['Model'] = label_encoder.fit_transform(cat_df['Model'])\n"
          ]
        }
      ],
      "source": [
        "cat_df['Model'] = label_encoder.fit_transform(cat_df['Model'])"
      ]
    },
    {
      "cell_type": "code",
      "execution_count": null,
      "metadata": {
        "id": "M6_8b4ePJ8wK",
        "outputId": "793f8bbf-0e95-41f3-dbb5-b6b91a7375b5"
      },
      "outputs": [
        {
          "data": {
            "text/html": [
              "<div>\n",
              "<style scoped>\n",
              "    .dataframe tbody tr th:only-of-type {\n",
              "        vertical-align: middle;\n",
              "    }\n",
              "\n",
              "    .dataframe tbody tr th {\n",
              "        vertical-align: top;\n",
              "    }\n",
              "\n",
              "    .dataframe thead th {\n",
              "        text-align: right;\n",
              "    }\n",
              "</style>\n",
              "<table border=\"1\" class=\"dataframe\">\n",
              "  <thead>\n",
              "    <tr style=\"text-align: right;\">\n",
              "      <th></th>\n",
              "      <th>Make</th>\n",
              "      <th>Model</th>\n",
              "    </tr>\n",
              "  </thead>\n",
              "  <tbody>\n",
              "    <tr>\n",
              "      <th>0</th>\n",
              "      <td>0</td>\n",
              "      <td>229</td>\n",
              "    </tr>\n",
              "    <tr>\n",
              "      <th>1</th>\n",
              "      <td>0</td>\n",
              "      <td>293</td>\n",
              "    </tr>\n",
              "    <tr>\n",
              "      <th>2</th>\n",
              "      <td>0</td>\n",
              "      <td>366</td>\n",
              "    </tr>\n",
              "    <tr>\n",
              "      <th>3</th>\n",
              "      <td>0</td>\n",
              "      <td>365</td>\n",
              "    </tr>\n",
              "    <tr>\n",
              "      <th>4</th>\n",
              "      <td>0</td>\n",
              "      <td>0</td>\n",
              "    </tr>\n",
              "  </tbody>\n",
              "</table>\n",
              "</div>"
            ],
            "text/plain": [
              "   Make  Model\n",
              "0     0    229\n",
              "1     0    293\n",
              "2     0    366\n",
              "3     0    365\n",
              "4     0      0"
            ]
          },
          "execution_count": 94,
          "metadata": {},
          "output_type": "execute_result"
        }
      ],
      "source": [
        "cat_df.head()"
      ]
    },
    {
      "cell_type": "markdown",
      "metadata": {
        "id": "kHVUdgOjJ8wK"
      },
      "source": [
        "#### Final prepared dataset"
      ]
    },
    {
      "cell_type": "code",
      "execution_count": null,
      "metadata": {
        "id": "aiOrebWmJ8wK"
      },
      "outputs": [],
      "source": [
        "df = pd.concat([cat_df,dummy_df,remaining_df],axis=1)"
      ]
    },
    {
      "cell_type": "code",
      "execution_count": null,
      "metadata": {
        "id": "yh4r2kf2J8wK",
        "outputId": "a5fc3c98-ac09-4e45-8faa-90f1eb65cd27"
      },
      "outputs": [
        {
          "data": {
            "text/html": [
              "<div>\n",
              "<style scoped>\n",
              "    .dataframe tbody tr th:only-of-type {\n",
              "        vertical-align: middle;\n",
              "    }\n",
              "\n",
              "    .dataframe tbody tr th {\n",
              "        vertical-align: top;\n",
              "    }\n",
              "\n",
              "    .dataframe thead th {\n",
              "        text-align: right;\n",
              "    }\n",
              "</style>\n",
              "<table border=\"1\" class=\"dataframe\">\n",
              "  <thead>\n",
              "    <tr style=\"text-align: right;\">\n",
              "      <th></th>\n",
              "      <th>Make</th>\n",
              "      <th>Model</th>\n",
              "      <th>Type_SUV</th>\n",
              "      <th>Type_Sedan</th>\n",
              "      <th>Type_Sports</th>\n",
              "      <th>Type_Truck</th>\n",
              "      <th>Type_Wagon</th>\n",
              "      <th>Origin_Europe</th>\n",
              "      <th>Origin_USA</th>\n",
              "      <th>DriveTrain_Front</th>\n",
              "      <th>DriveTrain_Rear</th>\n",
              "      <th>EngineSize</th>\n",
              "      <th>Cylinders</th>\n",
              "      <th>Horsepower</th>\n",
              "      <th>MPG_City</th>\n",
              "      <th>MPG_Highway</th>\n",
              "      <th>Weight</th>\n",
              "      <th>Wheelbase</th>\n",
              "      <th>Length</th>\n",
              "      <th>MSRP</th>\n",
              "    </tr>\n",
              "  </thead>\n",
              "  <tbody>\n",
              "    <tr>\n",
              "      <th>0</th>\n",
              "      <td>0</td>\n",
              "      <td>229</td>\n",
              "      <td>1</td>\n",
              "      <td>0</td>\n",
              "      <td>0</td>\n",
              "      <td>0</td>\n",
              "      <td>0</td>\n",
              "      <td>0</td>\n",
              "      <td>0</td>\n",
              "      <td>0</td>\n",
              "      <td>0</td>\n",
              "      <td>3.5</td>\n",
              "      <td>6</td>\n",
              "      <td>265</td>\n",
              "      <td>17</td>\n",
              "      <td>23</td>\n",
              "      <td>4451</td>\n",
              "      <td>106</td>\n",
              "      <td>189</td>\n",
              "      <td>36945</td>\n",
              "    </tr>\n",
              "    <tr>\n",
              "      <th>1</th>\n",
              "      <td>0</td>\n",
              "      <td>293</td>\n",
              "      <td>0</td>\n",
              "      <td>1</td>\n",
              "      <td>0</td>\n",
              "      <td>0</td>\n",
              "      <td>0</td>\n",
              "      <td>0</td>\n",
              "      <td>0</td>\n",
              "      <td>1</td>\n",
              "      <td>0</td>\n",
              "      <td>2.0</td>\n",
              "      <td>4</td>\n",
              "      <td>200</td>\n",
              "      <td>24</td>\n",
              "      <td>31</td>\n",
              "      <td>2778</td>\n",
              "      <td>101</td>\n",
              "      <td>172</td>\n",
              "      <td>23820</td>\n",
              "    </tr>\n",
              "    <tr>\n",
              "      <th>2</th>\n",
              "      <td>0</td>\n",
              "      <td>366</td>\n",
              "      <td>0</td>\n",
              "      <td>1</td>\n",
              "      <td>0</td>\n",
              "      <td>0</td>\n",
              "      <td>0</td>\n",
              "      <td>0</td>\n",
              "      <td>0</td>\n",
              "      <td>1</td>\n",
              "      <td>0</td>\n",
              "      <td>2.4</td>\n",
              "      <td>4</td>\n",
              "      <td>200</td>\n",
              "      <td>22</td>\n",
              "      <td>29</td>\n",
              "      <td>3230</td>\n",
              "      <td>105</td>\n",
              "      <td>183</td>\n",
              "      <td>26990</td>\n",
              "    </tr>\n",
              "    <tr>\n",
              "      <th>3</th>\n",
              "      <td>0</td>\n",
              "      <td>365</td>\n",
              "      <td>0</td>\n",
              "      <td>1</td>\n",
              "      <td>0</td>\n",
              "      <td>0</td>\n",
              "      <td>0</td>\n",
              "      <td>0</td>\n",
              "      <td>0</td>\n",
              "      <td>1</td>\n",
              "      <td>0</td>\n",
              "      <td>3.2</td>\n",
              "      <td>6</td>\n",
              "      <td>270</td>\n",
              "      <td>20</td>\n",
              "      <td>28</td>\n",
              "      <td>3575</td>\n",
              "      <td>108</td>\n",
              "      <td>186</td>\n",
              "      <td>33195</td>\n",
              "    </tr>\n",
              "    <tr>\n",
              "      <th>4</th>\n",
              "      <td>0</td>\n",
              "      <td>0</td>\n",
              "      <td>0</td>\n",
              "      <td>1</td>\n",
              "      <td>0</td>\n",
              "      <td>0</td>\n",
              "      <td>0</td>\n",
              "      <td>0</td>\n",
              "      <td>0</td>\n",
              "      <td>1</td>\n",
              "      <td>0</td>\n",
              "      <td>3.5</td>\n",
              "      <td>6</td>\n",
              "      <td>225</td>\n",
              "      <td>18</td>\n",
              "      <td>24</td>\n",
              "      <td>3880</td>\n",
              "      <td>115</td>\n",
              "      <td>197</td>\n",
              "      <td>43755</td>\n",
              "    </tr>\n",
              "  </tbody>\n",
              "</table>\n",
              "</div>"
            ],
            "text/plain": [
              "   Make  Model  Type_SUV  Type_Sedan  Type_Sports  Type_Truck  Type_Wagon  \\\n",
              "0     0    229         1           0            0           0           0   \n",
              "1     0    293         0           1            0           0           0   \n",
              "2     0    366         0           1            0           0           0   \n",
              "3     0    365         0           1            0           0           0   \n",
              "4     0      0         0           1            0           0           0   \n",
              "\n",
              "   Origin_Europe  Origin_USA  DriveTrain_Front  DriveTrain_Rear  EngineSize  \\\n",
              "0              0           0                 0                0         3.5   \n",
              "1              0           0                 1                0         2.0   \n",
              "2              0           0                 1                0         2.4   \n",
              "3              0           0                 1                0         3.2   \n",
              "4              0           0                 1                0         3.5   \n",
              "\n",
              "   Cylinders  Horsepower  MPG_City  MPG_Highway  Weight  Wheelbase  Length  \\\n",
              "0          6         265        17           23    4451        106     189   \n",
              "1          4         200        24           31    2778        101     172   \n",
              "2          4         200        22           29    3230        105     183   \n",
              "3          6         270        20           28    3575        108     186   \n",
              "4          6         225        18           24    3880        115     197   \n",
              "\n",
              "    MSRP  \n",
              "0  36945  \n",
              "1  23820  \n",
              "2  26990  \n",
              "3  33195  \n",
              "4  43755  "
            ]
          },
          "execution_count": 98,
          "metadata": {},
          "output_type": "execute_result"
        }
      ],
      "source": [
        "df.head()"
      ]
    },
    {
      "cell_type": "markdown",
      "metadata": {
        "id": "cB2t_MJGJ8wK"
      },
      "source": [
        "Now, all the columns are numeric and hence can be used for the ML algorithm."
      ]
    },
    {
      "cell_type": "markdown",
      "metadata": {
        "id": "jtYj0MeYJ8wL"
      },
      "source": [
        "# XGBoost Model"
      ]
    },
    {
      "cell_type": "markdown",
      "metadata": {
        "id": "fUTVYsWgJ8wL"
      },
      "source": [
        "### Preparing the data for XGBoost model\n",
        "\n",
        "Splitting the feature and target data in the dataset."
      ]
    },
    {
      "cell_type": "code",
      "execution_count": null,
      "metadata": {
        "id": "SiHPGOOcJ8wL"
      },
      "outputs": [],
      "source": [
        "X=df.iloc[:,:-1].values\n",
        "y=df.iloc[:,-1:].values"
      ]
    },
    {
      "cell_type": "code",
      "execution_count": null,
      "metadata": {
        "id": "i5lkSnQBJ8wL",
        "outputId": "e392ad82-8e34-4dc7-c8e5-8eacacaf5679"
      },
      "outputs": [
        {
          "data": {
            "text/plain": [
              "(428, 19)"
            ]
          },
          "execution_count": 100,
          "metadata": {},
          "output_type": "execute_result"
        }
      ],
      "source": [
        "X.shape"
      ]
    },
    {
      "cell_type": "code",
      "execution_count": null,
      "metadata": {
        "id": "_a4y4_4ZJ8wL",
        "outputId": "ca5e5739-6c0a-4b2b-d10e-ee2533c3539b"
      },
      "outputs": [
        {
          "data": {
            "text/plain": [
              "(428, 1)"
            ]
          },
          "execution_count": 101,
          "metadata": {},
          "output_type": "execute_result"
        }
      ],
      "source": [
        "y.shape"
      ]
    },
    {
      "cell_type": "markdown",
      "metadata": {
        "id": "gVFQyT6RJ8wM"
      },
      "source": [
        "Splitting the data into training, validation and testing dataset."
      ]
    },
    {
      "cell_type": "code",
      "execution_count": null,
      "metadata": {
        "id": "DQWuXtxqJ8wM"
      },
      "outputs": [],
      "source": [
        "from sklearn.model_selection import train_test_split\n",
        "\n",
        "X_train,X_test,y_train,y_test=train_test_split(X,y,test_size=0.20)\n",
        "X_test,X_val,y_test,y_val=train_test_split(X_test,y_test,test_size=0.5)"
      ]
    },
    {
      "cell_type": "code",
      "execution_count": null,
      "metadata": {
        "id": "58XH4bFBJ8wM",
        "outputId": "9ef5efff-215c-4862-db74-6ca932fde1cc"
      },
      "outputs": [
        {
          "data": {
            "text/plain": [
              "(342, 19)"
            ]
          },
          "execution_count": 104,
          "metadata": {},
          "output_type": "execute_result"
        }
      ],
      "source": [
        "X_train.shape"
      ]
    },
    {
      "cell_type": "code",
      "execution_count": null,
      "metadata": {
        "id": "6fe1Qac9J8wM",
        "outputId": "04bb2abc-1fb5-40e9-9b22-b50e393bffd8"
      },
      "outputs": [
        {
          "data": {
            "text/plain": [
              "(342, 1)"
            ]
          },
          "execution_count": 105,
          "metadata": {},
          "output_type": "execute_result"
        }
      ],
      "source": [
        "y_train.shape"
      ]
    },
    {
      "cell_type": "markdown",
      "metadata": {
        "id": "pgFOijpCJ8wM"
      },
      "source": [
        "Here we convert the array into a dataframe in a way such that the target variable is set as the first column and followed by feature columns.\n",
        "This is becuase sagemaker built-in algorithm expects the data in this format."
      ]
    },
    {
      "cell_type": "code",
      "execution_count": null,
      "metadata": {
        "id": "cDwGmZSEJ8wM"
      },
      "outputs": [],
      "source": [
        "train_data=pd.DataFrame({'Target':y_train[:,0]})\n",
        "for i in range(X_train.shape[1]):\n",
        "    train_data[i]=X_train[:,i]\n"
      ]
    },
    {
      "cell_type": "code",
      "execution_count": null,
      "metadata": {
        "id": "ZY--fXjaJ8wN",
        "outputId": "ab48f255-b0e6-4cd3-ca0f-08ead7c6822d"
      },
      "outputs": [
        {
          "data": {
            "text/html": [
              "<div>\n",
              "<style scoped>\n",
              "    .dataframe tbody tr th:only-of-type {\n",
              "        vertical-align: middle;\n",
              "    }\n",
              "\n",
              "    .dataframe tbody tr th {\n",
              "        vertical-align: top;\n",
              "    }\n",
              "\n",
              "    .dataframe thead th {\n",
              "        text-align: right;\n",
              "    }\n",
              "</style>\n",
              "<table border=\"1\" class=\"dataframe\">\n",
              "  <thead>\n",
              "    <tr style=\"text-align: right;\">\n",
              "      <th></th>\n",
              "      <th>Target</th>\n",
              "      <th>0</th>\n",
              "      <th>1</th>\n",
              "      <th>2</th>\n",
              "      <th>3</th>\n",
              "      <th>4</th>\n",
              "      <th>5</th>\n",
              "      <th>6</th>\n",
              "      <th>7</th>\n",
              "      <th>8</th>\n",
              "      <th>9</th>\n",
              "      <th>10</th>\n",
              "      <th>11</th>\n",
              "      <th>12</th>\n",
              "      <th>13</th>\n",
              "      <th>14</th>\n",
              "      <th>15</th>\n",
              "      <th>16</th>\n",
              "      <th>17</th>\n",
              "      <th>18</th>\n",
              "    </tr>\n",
              "  </thead>\n",
              "  <tbody>\n",
              "    <tr>\n",
              "      <th>0</th>\n",
              "      <td>33360</td>\n",
              "      <td>30.0</td>\n",
              "      <td>21.0</td>\n",
              "      <td>0.0</td>\n",
              "      <td>1.0</td>\n",
              "      <td>0.0</td>\n",
              "      <td>0.0</td>\n",
              "      <td>0.0</td>\n",
              "      <td>1.0</td>\n",
              "      <td>0.0</td>\n",
              "      <td>1.0</td>\n",
              "      <td>0.0</td>\n",
              "      <td>2.0</td>\n",
              "      <td>4.0</td>\n",
              "      <td>210.0</td>\n",
              "      <td>20.0</td>\n",
              "      <td>28.0</td>\n",
              "      <td>3175.0</td>\n",
              "      <td>105.0</td>\n",
              "      <td>183.0</td>\n",
              "    </tr>\n",
              "    <tr>\n",
              "      <th>1</th>\n",
              "      <td>26930</td>\n",
              "      <td>8.0</td>\n",
              "      <td>167.0</td>\n",
              "      <td>0.0</td>\n",
              "      <td>1.0</td>\n",
              "      <td>0.0</td>\n",
              "      <td>0.0</td>\n",
              "      <td>0.0</td>\n",
              "      <td>0.0</td>\n",
              "      <td>1.0</td>\n",
              "      <td>1.0</td>\n",
              "      <td>0.0</td>\n",
              "      <td>3.9</td>\n",
              "      <td>6.0</td>\n",
              "      <td>193.0</td>\n",
              "      <td>17.0</td>\n",
              "      <td>23.0</td>\n",
              "      <td>4275.0</td>\n",
              "      <td>121.0</td>\n",
              "      <td>201.0</td>\n",
              "    </tr>\n",
              "    <tr>\n",
              "      <th>2</th>\n",
              "      <td>30860</td>\n",
              "      <td>30.0</td>\n",
              "      <td>23.0</td>\n",
              "      <td>0.0</td>\n",
              "      <td>1.0</td>\n",
              "      <td>0.0</td>\n",
              "      <td>0.0</td>\n",
              "      <td>0.0</td>\n",
              "      <td>1.0</td>\n",
              "      <td>0.0</td>\n",
              "      <td>1.0</td>\n",
              "      <td>0.0</td>\n",
              "      <td>2.0</td>\n",
              "      <td>4.0</td>\n",
              "      <td>210.0</td>\n",
              "      <td>20.0</td>\n",
              "      <td>28.0</td>\n",
              "      <td>3175.0</td>\n",
              "      <td>105.0</td>\n",
              "      <td>183.0</td>\n",
              "    </tr>\n",
              "    <tr>\n",
              "      <th>3</th>\n",
              "      <td>22388</td>\n",
              "      <td>22.0</td>\n",
              "      <td>234.0</td>\n",
              "      <td>0.0</td>\n",
              "      <td>0.0</td>\n",
              "      <td>1.0</td>\n",
              "      <td>0.0</td>\n",
              "      <td>0.0</td>\n",
              "      <td>0.0</td>\n",
              "      <td>0.0</td>\n",
              "      <td>0.0</td>\n",
              "      <td>1.0</td>\n",
              "      <td>1.8</td>\n",
              "      <td>4.0</td>\n",
              "      <td>142.0</td>\n",
              "      <td>23.0</td>\n",
              "      <td>28.0</td>\n",
              "      <td>2387.0</td>\n",
              "      <td>89.0</td>\n",
              "      <td>156.0</td>\n",
              "    </tr>\n",
              "    <tr>\n",
              "      <th>4</th>\n",
              "      <td>27995</td>\n",
              "      <td>5.0</td>\n",
              "      <td>196.0</td>\n",
              "      <td>0.0</td>\n",
              "      <td>1.0</td>\n",
              "      <td>0.0</td>\n",
              "      <td>0.0</td>\n",
              "      <td>0.0</td>\n",
              "      <td>0.0</td>\n",
              "      <td>1.0</td>\n",
              "      <td>1.0</td>\n",
              "      <td>0.0</td>\n",
              "      <td>3.8</td>\n",
              "      <td>6.0</td>\n",
              "      <td>240.0</td>\n",
              "      <td>18.0</td>\n",
              "      <td>28.0</td>\n",
              "      <td>3606.0</td>\n",
              "      <td>111.0</td>\n",
              "      <td>200.0</td>\n",
              "    </tr>\n",
              "  </tbody>\n",
              "</table>\n",
              "</div>"
            ],
            "text/plain": [
              "   Target     0      1    2    3    4    5    6    7    8    9   10   11   12  \\\n",
              "0   33360  30.0   21.0  0.0  1.0  0.0  0.0  0.0  1.0  0.0  1.0  0.0  2.0  4.0   \n",
              "1   26930   8.0  167.0  0.0  1.0  0.0  0.0  0.0  0.0  1.0  1.0  0.0  3.9  6.0   \n",
              "2   30860  30.0   23.0  0.0  1.0  0.0  0.0  0.0  1.0  0.0  1.0  0.0  2.0  4.0   \n",
              "3   22388  22.0  234.0  0.0  0.0  1.0  0.0  0.0  0.0  0.0  0.0  1.0  1.8  4.0   \n",
              "4   27995   5.0  196.0  0.0  1.0  0.0  0.0  0.0  0.0  1.0  1.0  0.0  3.8  6.0   \n",
              "\n",
              "      13    14    15      16     17     18  \n",
              "0  210.0  20.0  28.0  3175.0  105.0  183.0  \n",
              "1  193.0  17.0  23.0  4275.0  121.0  201.0  \n",
              "2  210.0  20.0  28.0  3175.0  105.0  183.0  \n",
              "3  142.0  23.0  28.0  2387.0   89.0  156.0  \n",
              "4  240.0  18.0  28.0  3606.0  111.0  200.0  "
            ]
          },
          "execution_count": 107,
          "metadata": {},
          "output_type": "execute_result"
        }
      ],
      "source": [
        "train_data.head()"
      ]
    },
    {
      "cell_type": "markdown",
      "metadata": {
        "id": "45B5uQR0J8wN"
      },
      "source": [
        "Doing the same with the validation data."
      ]
    },
    {
      "cell_type": "code",
      "execution_count": null,
      "metadata": {
        "id": "tgweFvBYJ8wN"
      },
      "outputs": [],
      "source": [
        "val_data=pd.DataFrame({'Target':y_val[:,0]})\n",
        "for i in range(X_val.shape[1]):\n",
        "    val_data[i]=X_val[:,i]"
      ]
    },
    {
      "cell_type": "code",
      "execution_count": null,
      "metadata": {
        "id": "w4B6IU8aJ8wN",
        "outputId": "e99424b2-20c2-4c78-9a0e-5e9d2021c75c"
      },
      "outputs": [
        {
          "data": {
            "text/plain": [
              "(43, 20)"
            ]
          },
          "execution_count": 109,
          "metadata": {},
          "output_type": "execute_result"
        }
      ],
      "source": [
        "val_data.shape"
      ]
    },
    {
      "cell_type": "markdown",
      "metadata": {
        "id": "XDaZfKPFJ8wN"
      },
      "source": [
        "Saving the training data and validation data as csv files"
      ]
    },
    {
      "cell_type": "code",
      "execution_count": null,
      "metadata": {
        "id": "Qw_PLCXUJ8wN"
      },
      "outputs": [],
      "source": [
        "train_data.to_csv('train.csv',header=False,index=False)\n",
        "val_data.to_csv('validation.csv',header=False,index=False)"
      ]
    },
    {
      "cell_type": "markdown",
      "metadata": {
        "id": "_6UGWznYJ8wO"
      },
      "source": [
        "Necessary imports for AWS Sagemaker"
      ]
    },
    {
      "cell_type": "code",
      "execution_count": null,
      "metadata": {
        "id": "vEjkGFaKJ8wO"
      },
      "outputs": [],
      "source": [
        "#import sagemaker\n",
        "#import boto3\n",
        "#from sagemaker import Session"
      ]
    },
    {
      "cell_type": "markdown",
      "metadata": {
        "id": "pYtEzEZjJ8wO"
      },
      "source": [
        "Creating a sagemaker session"
      ]
    },
    {
      "cell_type": "code",
      "execution_count": null,
      "metadata": {
        "id": "b9CdNDgZJ8wS"
      },
      "outputs": [],
      "source": [
        "#sagemaker_session=sagemaker.Session()\n",
        "#bucket=Session().default_bucket()\n",
        "#prefix='XGBoost-Regressor'\n",
        "#key='XGBoost-Regressor'"
      ]
    },
    {
      "cell_type": "markdown",
      "metadata": {
        "id": "ujk268kYJ8wT"
      },
      "source": [
        "Roles give learning and hosting access to the data\n",
        "This is specified while opening the sagemaker instance in \"Create an IAM role\"\n"
      ]
    },
    {
      "cell_type": "code",
      "execution_count": null,
      "metadata": {
        "id": "W1p_D7t_J8wT"
      },
      "outputs": [],
      "source": [
        "#role=sagemaker.get_execution_role()"
      ]
    },
    {
      "cell_type": "code",
      "execution_count": null,
      "metadata": {
        "id": "awJPXd-xJ8wT"
      },
      "outputs": [],
      "source": [
        "#print(role)"
      ]
    },
    {
      "cell_type": "markdown",
      "metadata": {
        "id": "56iZfnT6J8wT"
      },
      "source": [
        "Here, we read the data from the csv file and then upload the data to the s3 bucket. We first upload the data into s3 bucket to be accesed later for training. Then we print the training data location."
      ]
    },
    {
      "cell_type": "code",
      "execution_count": null,
      "metadata": {
        "id": "a33LCT0HJ8wT"
      },
      "outputs": [],
      "source": [
        "#import os\n",
        "#with open('train.csv','rb') as f:\n",
        "#    boto3.Session().resource('s3').Bucket(bucket).Object(os.path.join(prefix,'train',key)).uploadfileobj(f)\n",
        "    \n",
        "\n",
        "#s3_train_data='s3://{}/{}/train/{}'.format(bucket,prefix,key)\n",
        "#print('uploaded training data location:{}'.format(s3_train_data))"
      ]
    },
    {
      "cell_type": "markdown",
      "metadata": {
        "id": "E15h5e5JJ8wU"
      },
      "source": [
        "Doing the same with the validation data."
      ]
    },
    {
      "cell_type": "code",
      "execution_count": null,
      "metadata": {
        "id": "kE5b-8oiJ8wU"
      },
      "outputs": [],
      "source": [
        "#with open('validation.csv','rb') as f:\n",
        "#    boto3.Session().resource('s3').Bucket(bucket).Object(os.path.join(prefix,'validation',key)).uploadfileobj(f)\n",
        "    \n",
        "\n",
        "#s3_train_data='s3://{}/{}/train/{}'.format(bucket,prefix,key)\n",
        "#print('uploaded training data location:{}'.format(s3_train_data))"
      ]
    },
    {
      "cell_type": "markdown",
      "metadata": {
        "id": "ntbJgdJQJ8wU"
      },
      "source": [
        "Setting and printing the Output location"
      ]
    },
    {
      "cell_type": "code",
      "execution_count": null,
      "metadata": {
        "id": "d51f38uyJ8wU"
      },
      "outputs": [],
      "source": [
        "#output_location=\"s3://{}/{}/output\".format(bucket,prefix)\n",
        "#print('training artifacts will be uploaded to: {}'.format(output_location))"
      ]
    },
    {
      "cell_type": "markdown",
      "metadata": {
        "id": "FiRr6bVxJ8wU"
      },
      "source": [
        "This code is used to get the training container of sagemaker built-in algorithms.\n",
        "\n",
        "Note that all regression models are named estimators"
      ]
    },
    {
      "cell_type": "code",
      "execution_count": null,
      "metadata": {
        "id": "NZS4n5KfJ8wU"
      },
      "outputs": [],
      "source": [
        "# container=sagemaker.image_uris.retrieve(\"xgboost\",boto3.Session().region_name,version='1.0-1')"
      ]
    },
    {
      "cell_type": "markdown",
      "metadata": {
        "id": "qM24i1I7J8wU"
      },
      "source": [
        "We Specify the type of instance that we would like to use for training, output path and sagemaker session into the estimator.\n",
        "We can also specify how many instances we would like to use for training.\n",
        "\n",
        "Recall that XGboost works by combining an ensemble of weak models to generate accurate/robust results.The weak models are randomized to avid overfitting.\n",
        "\n",
        "num_round: the number of rounds to run the training\n",
        "eta: step size shrinkage used in updates to prevent overfitting.\n",
        "After each boosting step, eta parameter shrinks the feature weights to make the boosting process more conservative."
      ]
    },
    {
      "cell_type": "code",
      "execution_count": null,
      "metadata": {
        "id": "PxZhS4BAJ8wV"
      },
      "outputs": [],
      "source": [
        "use_spot_instances=True\n",
        "max_run=3600\n",
        "max_wait=7200 if use_spot_instances else None\n",
        "\n",
        "\n",
        "\n",
        "#car_Xgboost_regressor=sagemaker.estimator.Estimator(container,role,\n",
        "#                                                    instance_count=1,\n",
        "#                                                    instance_type='ml.m5.xlarge',\n",
        "#                                                    output_path=output_location,\n",
        "#                                                    sagemaker_session=sagemaker_session,\n",
        "#                                                    use_spot_instances=use-spot_instances,\n",
        "#                                                    max_run=max_run,\n",
        "#                                                    max_wait=max_wait)\n"
      ]
    },
    {
      "cell_type": "markdown",
      "metadata": {
        "id": "FqtcqxgJJ8wV"
      },
      "source": [
        "Now we tune the hyperparameters to improve the performance of the model."
      ]
    },
    {
      "cell_type": "code",
      "execution_count": null,
      "metadata": {
        "id": "rjPawAtMJ8wV"
      },
      "outputs": [],
      "source": [
        "#car_Xgboost_regressor.set_hyperparameters(max_depth=3,\n",
        "#                                          obkjective='reg:squarederror',\n",
        "#                                          colsample_bytree=0.3,\n",
        "#                                           alpha=0.1,\n",
        "#                                           eta=0.4,\n",
        "#                                           num_round=100)"
      ]
    },
    {
      "cell_type": "markdown",
      "metadata": {
        "id": "aJJR9rXUJ8wV"
      },
      "source": [
        "Reading the training and validation input and creating a data channel to fit the model."
      ]
    },
    {
      "cell_type": "code",
      "execution_count": null,
      "metadata": {
        "id": "UkjQVG8GJ8wW"
      },
      "outputs": [],
      "source": [
        "#train_input = sagemaker.session.TrainingInput(s3_data = s3_train_data, content_type = 'csv',s3_data_type = 'S3Prefix')\n",
        "#valid_input = sagemaker.session.TrainingInput(s3_data = s3_validation_data, content_type = 'csv',s3_data_type = 'S3Prefix')\n",
        "\n",
        "#data_channels = {'train': train_input,'validation': valid_input}"
      ]
    },
    {
      "cell_type": "markdown",
      "metadata": {
        "id": "Hb7aryGeJ8wW"
      },
      "source": [
        "Fitting the model on the training data."
      ]
    },
    {
      "cell_type": "code",
      "execution_count": null,
      "metadata": {
        "id": "NYXJKJ7qJ8wW"
      },
      "outputs": [],
      "source": [
        "#car_Xgboost_regressor.fit(data_channels)"
      ]
    },
    {
      "cell_type": "markdown",
      "metadata": {
        "id": "H63E4pn6J8wW"
      },
      "source": [
        "### Deploying the model to make predictions"
      ]
    },
    {
      "cell_type": "code",
      "execution_count": null,
      "metadata": {
        "id": "0MhdBugWJ8wW"
      },
      "outputs": [],
      "source": [
        "#predictor=car_Xgboost_regressor.deploy(initial_instance_count=1,instance_type='ml.m5.xlarge')"
      ]
    },
    {
      "cell_type": "markdown",
      "metadata": {
        "id": "RqeAFhCbJ8wW"
      },
      "source": [
        "Creating an endpoint to do predictions and model evaluation."
      ]
    },
    {
      "cell_type": "code",
      "execution_count": null,
      "metadata": {
        "id": "n-e8J0JqJ8wX"
      },
      "outputs": [],
      "source": [
        "#predictor.endpoint_name"
      ]
    },
    {
      "cell_type": "markdown",
      "metadata": {
        "id": "2bEiXwMpJ8wX"
      },
      "source": [
        "Serializing:"
      ]
    },
    {
      "cell_type": "code",
      "execution_count": null,
      "metadata": {
        "id": "H62kKmm5J8wX"
      },
      "outputs": [],
      "source": [
        "#from sagemaker.predictor import csv_serializer,json_deserializer\n",
        "#predictor.serializer=csv.serializer"
      ]
    },
    {
      "cell_type": "markdown",
      "metadata": {
        "id": "47aUz5UiJ8wX"
      },
      "source": [
        "Make the predictions."
      ]
    },
    {
      "cell_type": "code",
      "execution_count": null,
      "metadata": {
        "id": "O65_nh7CJ8wY"
      },
      "outputs": [],
      "source": [
        "#predictions=predictor.predict(X_test)\n",
        "#predictions"
      ]
    },
    {
      "cell_type": "code",
      "execution_count": null,
      "metadata": {
        "id": "66dEedfdJ8wZ"
      },
      "outputs": [],
      "source": [
        "#custom code to convert the values in bytes\n",
        "\n",
        "def bytes_2_array(x):\n",
        "    \n",
        "    #makes entire prediction as string and splits based on ','\n",
        "    l=str(x).split(',')\n",
        "    \n",
        "    #since the first element contains unwanted characters like(b,',') we remove them\n",
        "    \n",
        "    l[0]=l[0][2:]\n",
        "    for i in range(len(l)):\n",
        "        l[i]=float(l[i])\n",
        "        \n",
        "    #converting the list into array\n",
        "    l=np.array(l).astype('float32')\n",
        "    \n",
        "    #reshape one-dimensional array to two dimensional array\n",
        "    return l.reshape(-1,1)"
      ]
    },
    {
      "cell_type": "markdown",
      "metadata": {
        "id": "-XCGCmS5J8wZ"
      },
      "source": [
        "Predicted values."
      ]
    },
    {
      "cell_type": "code",
      "execution_count": null,
      "metadata": {
        "id": "NrcuXXRWJ8wZ"
      },
      "outputs": [],
      "source": [
        "# predicted_values=bytes_2_array(predictions)"
      ]
    },
    {
      "cell_type": "markdown",
      "metadata": {
        "id": "iR2vBS_6J8wZ"
      },
      "source": [
        "Model evaluation:\n",
        "\n",
        "Here we find the metrics root mean squared error, mean absolute error, mean squared error, R-squared score and adjusted R-squared score."
      ]
    },
    {
      "cell_type": "code",
      "execution_count": null,
      "metadata": {
        "id": "sA9HZNkbJ8wZ"
      },
      "outputs": [],
      "source": [
        "#from sklearn.metrics import r2_score, mean_squared_error, mean_absolute_error\n",
        "#from math import sqrt\n",
        "#k = X_test.shape[1]\n",
        "#n = len(X_test)\n",
        "#RMSE = float(format(np.sqrt(mean_squared_error(y_test, predicted_values)),'.3f'))\n",
        "#MSE = mean_squared_error(y_test, predicted_values)\n",
        "#MAE = mean_absolute_error(y_test, predicted_values)\n",
        "#r2 = r2_score(y_test, predicted_values)\n",
        "#adj_r2 = 1-(1-r2)*(n-1)/(n-k-1)\n",
        "\n",
        "\n",
        "\n",
        "#print('RMSE =',RMSE, '\\nMSE =',MSE, '\\nMAE =',MAE, '\\nR2 =', r2, '\\nAdjusted R2 =', adj_r2)"
      ]
    },
    {
      "cell_type": "markdown",
      "metadata": {
        "id": "InZhoeyGJ8wa"
      },
      "source": [
        "Plotting the model predictions with respect to the true values of y."
      ]
    },
    {
      "cell_type": "code",
      "execution_count": null,
      "metadata": {
        "id": "T5jtBauLJ8wa"
      },
      "outputs": [],
      "source": [
        "#plt.plot(y_test,predicted_values,'^',color='r')\n",
        "#plt.xlabel('Model Predictions')\n",
        "#plt.ylabel('True values')\n",
        "#plt.show()"
      ]
    },
    {
      "cell_type": "markdown",
      "metadata": {
        "id": "zpD65yE4J8wa"
      },
      "source": [
        "Deleting the endpoint"
      ]
    },
    {
      "cell_type": "code",
      "execution_count": null,
      "metadata": {
        "id": "bAvZUCgUJ8wa"
      },
      "outputs": [],
      "source": [
        "# predictor.delete_endpoint()"
      ]
    },
    {
      "cell_type": "markdown",
      "metadata": {
        "id": "293V9JNUJ8wa"
      },
      "source": [
        "## Hyperparameter Tuning"
      ]
    },
    {
      "cell_type": "markdown",
      "metadata": {
        "id": "otAXDRKhJ8wa"
      },
      "source": [
        "Creating a container."
      ]
    },
    {
      "cell_type": "code",
      "execution_count": null,
      "metadata": {
        "id": "NH0OQcHEJ8wa"
      },
      "outputs": [],
      "source": [
        "# container = sagemaker.image_uris.retrieve(\"xgboost\", boto3.Session().region_name, version='1.0-1')"
      ]
    },
    {
      "cell_type": "markdown",
      "metadata": {
        "id": "dGMr3_QgJ8wa"
      },
      "source": [
        "max_run: Timeout in seconds for training (default: 24 * 60 * 60). After this amount of time Amazon SageMaker terminates the job regardless of its current status.\n",
        "max_wait: Timeout in seconds waiting for spot training job (default: None). After this amount of time Amazon SageMaker will stop waiting for managed spot training job to complete (default: None)."
      ]
    },
    {
      "cell_type": "code",
      "execution_count": null,
      "metadata": {
        "id": "uWIksOcmJ8wb"
      },
      "outputs": [],
      "source": [
        "#Xgboost_regressor = sagemaker.estimator.Estimator(container,\n",
        "#                                       role, \n",
        "#                                       instance_count = 1, \n",
        "#                                       instance_type = 'ml.m4.xlarge',\n",
        "#                                       input_mode = 'File',\n",
        "#                                       use_spot_instances = True, \n",
        "#                                       max_run = 300, \n",
        "#                                       max_wait = 600, \n",
        "#                                       output_path = output_location,\n",
        "#                                       sagemaker_session = sagemaker_session)"
      ]
    },
    {
      "cell_type": "markdown",
      "metadata": {
        "id": "3PCJb9SZJ8wh"
      },
      "source": [
        "Hyperparameter setting"
      ]
    },
    {
      "cell_type": "code",
      "execution_count": null,
      "metadata": {
        "id": "EYPFTII_J8wh"
      },
      "outputs": [],
      "source": [
        "#Xgboost_regressor.set_hyperparameters(objective = 'reg:squarederror',\n",
        "#                                      early_stopping_rounds = 10,\n",
        "#                                      num_round = 150)"
      ]
    },
    {
      "cell_type": "markdown",
      "metadata": {
        "id": "AoTXuKT7J8wi"
      },
      "source": [
        "Creating hyperparameter ranges within which model can be tuned"
      ]
    },
    {
      "cell_type": "code",
      "execution_count": null,
      "metadata": {
        "id": "txt2qMsPJ8wi"
      },
      "outputs": [],
      "source": [
        "#from sagemaker.tuner import IntegerParameter, CategoricalParameter, ContinuousParameter, HyperparameterTuner \n",
        "#hyperparameter_ranges = {'eta': ContinuousParameter(0.1, 0.9), \n",
        "#                        'min_child_weight': ContinuousParameter(5, 10),\n",
        "#                        'alpha': ContinuousParameter(0.1, 0.4),\n",
        "#                        'max_depth': IntegerParameter(8, 15)}"
      ]
    },
    {
      "cell_type": "markdown",
      "metadata": {
        "id": "QAMnsIdUJ8wi"
      },
      "source": [
        "Creating a hyperparameter tuning job"
      ]
    },
    {
      "cell_type": "code",
      "execution_count": null,
      "metadata": {
        "id": "zsuERVX4J8wi"
      },
      "outputs": [],
      "source": [
        "#tuner=HyperparameterTuner(Xgboost_regressor,\n",
        "#                         objective_metric_name='validation:rmse',\n",
        "#                         hyperparametr_ranges=hyperparameter_ranges,\n",
        "#                         objective_type='Minimize',\n",
        "#                         max_jobs=5,\n",
        "#                         max_parallel_jobs=1)"
      ]
    },
    {
      "cell_type": "markdown",
      "metadata": {
        "id": "vpc-l6mhJ8wi"
      },
      "source": [
        "This process will take some time to naviagte to Hyperparameters tuning jobs in the AWS Sagemaker."
      ]
    },
    {
      "cell_type": "code",
      "execution_count": null,
      "metadata": {
        "id": "WAPHT2WGJ8wi"
      },
      "outputs": [],
      "source": [
        "# tuner.fit(data_channels)"
      ]
    },
    {
      "cell_type": "markdown",
      "metadata": {
        "id": "tj5Xe7iSJ8wi"
      },
      "source": [
        "Once the tuning job is complete, we can now view the analytics on the tuning job."
      ]
    },
    {
      "cell_type": "code",
      "execution_count": null,
      "metadata": {
        "id": "4II8CefaJ8wi"
      },
      "outputs": [],
      "source": [
        "#from sagemaker.analytics import HyperparameterTuningJobAnalytics\n",
        "#summary = HyperparameterTuningJobAnalytics(sagemaker_session = sagemaker_session,\n",
        "#                                       hyperparameter_tuning_job_name = tuner.latest_tuning_job.name).dataframe()"
      ]
    },
    {
      "cell_type": "markdown",
      "metadata": {
        "id": "VRZj5YEYJ8wi"
      },
      "source": [
        "## Deploying the Tuned Model"
      ]
    },
    {
      "cell_type": "code",
      "execution_count": null,
      "metadata": {
        "id": "valSms4PJ8wi"
      },
      "outputs": [],
      "source": [
        "#xgb_endpoint=tuner.deploy(initial_instance_count=1,instance_type='ml.m4.xlarge')"
      ]
    },
    {
      "cell_type": "code",
      "execution_count": null,
      "metadata": {
        "id": "zzWucgTfJ8wj"
      },
      "outputs": [],
      "source": [
        "#from sagemaker.predictor import csv_serializer,json_deserializer\n",
        "#xgb_endpoint.serializer=csv_serializer"
      ]
    },
    {
      "cell_type": "code",
      "execution_count": null,
      "metadata": {
        "id": "E6KtkGz_J8wj"
      },
      "outputs": [],
      "source": [
        "#predictions=xgb_endpoint.predict(X_test)\n",
        "#predictions"
      ]
    },
    {
      "cell_type": "code",
      "execution_count": null,
      "metadata": {
        "id": "wMHv5v0yJ8wj"
      },
      "outputs": [],
      "source": [
        "#predicted_values=bytes_2_array(predict)"
      ]
    },
    {
      "cell_type": "markdown",
      "metadata": {
        "id": "uDdgWV3VJ8wj"
      },
      "source": [
        "Model evaluation"
      ]
    },
    {
      "cell_type": "code",
      "execution_count": null,
      "metadata": {
        "id": "eZvQKlTXJ8wj"
      },
      "outputs": [],
      "source": [
        "#from sklearn.metrics import r2_score, mean_squared_error, mean_absolute_error\n",
        "#from math import sqrt\n",
        "#k = X_test.shape[1]\n",
        "#n = len(X_test)\n",
        "#RMSE = float(format(np.sqrt(mean_squared_error(y_test, predicted_values)),'.3f'))\n",
        "#MSE = mean_squared_error(y_test, predicted_values)\n",
        "#MAE = mean_absolute_error(y_test, predicted_values)\n",
        "#r2 = r2_score(y_test, predicted_values)\n",
        "#adj_r2 = 1-(1-r2)*(n-1)/(n-k-1)\n",
        "\n",
        "\n",
        "\n",
        "#print('RMSE =',RMSE, '\\nMSE =',MSE, '\\nMAE =',MAE, '\\nR2 =', r2, '\\nAdjusted R2 =', adj_r2)"
      ]
    },
    {
      "cell_type": "code",
      "execution_count": null,
      "metadata": {
        "id": "GvdMfpWyJ8wj"
      },
      "outputs": [],
      "source": [
        "#plt.plot(y_test,predicted_values,'^',color='r')\n",
        "#plt.xlabel('Model Predictions')\n",
        "#plt.ylabel('True values')\n",
        "#plt.show()"
      ]
    },
    {
      "cell_type": "markdown",
      "metadata": {
        "id": "zVb6nWUtJ8wj"
      },
      "source": [
        "Deleting the endpoint"
      ]
    },
    {
      "cell_type": "code",
      "execution_count": null,
      "metadata": {
        "id": "I5IOYWwMJ8wj"
      },
      "outputs": [],
      "source": [
        "#predictor.delete_endpoint()"
      ]
    }
  ],
  "metadata": {
    "kernelspec": {
      "display_name": "Python 3",
      "language": "python",
      "name": "python3"
    },
    "language_info": {
      "codemirror_mode": {
        "name": "ipython",
        "version": 3
      },
      "file_extension": ".py",
      "mimetype": "text/x-python",
      "name": "python",
      "nbconvert_exporter": "python",
      "pygments_lexer": "ipython3",
      "version": "3.8.3"
    },
    "colab": {
      "provenance": []
    }
  },
  "nbformat": 4,
  "nbformat_minor": 0
}