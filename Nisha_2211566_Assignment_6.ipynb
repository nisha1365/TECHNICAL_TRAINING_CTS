{
  "nbformat": 4,
  "nbformat_minor": 0,
  "metadata": {
    "colab": {
      "provenance": [],
      "authorship_tag": "ABX9TyMsQkHBmPRG79q4aO6jr57Y",
      "include_colab_link": true
    },
    "kernelspec": {
      "name": "python3",
      "display_name": "Python 3"
    },
    "language_info": {
      "name": "python"
    }
  },
  "cells": [
    {
      "cell_type": "markdown",
      "metadata": {
        "id": "view-in-github",
        "colab_type": "text"
      },
      "source": [
        "<a href=\"https://colab.research.google.com/github/nisha1365/TECHNICAL_TRAINING_CTS/blob/main/Nisha_2211566_Assignment_6.ipynb\" target=\"_parent\"><img src=\"https://colab.research.google.com/assets/colab-badge.svg\" alt=\"Open In Colab\"/></a>"
      ]
    },
    {
      "cell_type": "markdown",
      "source": [
        "Code to Plot Losses inline in this notebook"
      ],
      "metadata": {
        "id": "J5kLzeFoD0fz"
      }
    },
    {
      "cell_type": "code",
      "source": [
        "%matplotlib inline"
      ],
      "metadata": {
        "id": "i288JftSD5Rg"
      },
      "execution_count": 2,
      "outputs": []
    },
    {
      "cell_type": "markdown",
      "source": [],
      "metadata": {
        "id": "ysoX9EBnECHw"
      }
    },
    {
      "cell_type": "markdown",
      "source": [
        "## The Task for the AI\n",
        "\n"
      ],
      "metadata": {
        "id": "S3G_CPwpEM68"
      }
    },
    {
      "cell_type": "markdown",
      "source": [
        "## Prerequisite "
      ],
      "metadata": {
        "id": "tbHV0_obE8KR"
      }
    },
    {
      "cell_type": "code",
      "source": [
        "import numpy as np                 # advanced math library\n",
        "import matplotlib.pyplot as plt    # MATLAB like plotting routines\n",
        "import random                      # For generating random number\n",
        "%matplotlib inline\n",
        "\n",
        "\n",
        "from keras.datasets import mnist      # MNIST dataset is included in keras\n",
        "from keras.models import Sequential   # Model type to be used\n",
        "\n",
        "from keras.layers.core import Dense, Dropout, Activation\n",
        "from keras.utils import np_utils"
      ],
      "metadata": {
        "id": "E6QXpDGzD7-a"
      },
      "execution_count": 7,
      "outputs": []
    },
    {
      "cell_type": "markdown",
      "source": [
        "# Loading Training Data"
      ],
      "metadata": {
        "id": "E2_7ZEgLH8rU"
      }
    },
    {
      "cell_type": "code",
      "source": [
        "(X_train, y_train), (X_test, y_test) = mnist.load_data()\n",
        "\n",
        "print(\"X_train shape\", X_train.shape)\n",
        "print(\"y_train shape\", y_train.shape)\n",
        "print(\"X_test shape\",X_test.shape)\n",
        "print(\"y_test shape\", y_test.shape)"
      ],
      "metadata": {
        "colab": {
          "base_uri": "https://localhost:8080/"
        },
        "id": "2mTRqtT9IC3s",
        "outputId": "b4b4e438-e9e2-41a6-f30c-222646e84192"
      },
      "execution_count": 8,
      "outputs": [
        {
          "output_type": "stream",
          "name": "stdout",
          "text": [
            "Downloading data from https://storage.googleapis.com/tensorflow/tf-keras-datasets/mnist.npz\n",
            "11490434/11490434 [==============================] - 0s 0us/step\n",
            "X_train shape (60000, 28, 28)\n",
            "y_train shape (60000,)\n",
            "X_test shape (10000, 28, 28)\n",
            "y_test shape (10000,)\n"
          ]
        }
      ]
    },
    {
      "cell_type": "markdown",
      "source": [],
      "metadata": {
        "id": "ABLkg1rDI2dL"
      }
    },
    {
      "cell_type": "code",
      "source": [
        "plt.rcParams['figure.figsize'] = (9,9)\n",
        "\n",
        "for i in range(9):\n",
        "  plt.subplot(3,3,i+1)\n",
        "  num = random.randint(0,len(X_train))\n",
        "  plt.imshow(X_train[num], cmap = 'gray', interpolation = 'none')\n",
        "  plt.title(\"Class {}\".format(y_train[num]))\n",
        "\n",
        "plt.tight_layout()\n",
        "\n",
        "\n"
      ],
      "metadata": {
        "colab": {
          "base_uri": "https://localhost:8080/",
          "height": 657
        },
        "id": "4ZbX0254I3Go",
        "outputId": "de7ddb5c-8919-400a-cdba-10ae87b2391f"
      },
      "execution_count": 9,
      "outputs": [
        {
          "output_type": "display_data",
          "data": {
            "text/plain": [
              "<Figure size 648x648 with 9 Axes>"
            ],
            "image/png": "[encoded data removed]"
          },
          "metadata": {
            "needs_background": "light"
          }
        }
      ]
    },
    {
      "cell_type": "markdown",
      "source": [],
      "metadata": {
        "id": "7eoIlLSnK83R"
      }
    },
    {
      "cell_type": "code",
      "source": [
        "# just a little function for pretty printing a matrix\n",
        "def matprint(mat, fmt=\"g\"):\n",
        "    col_maxes = [max([len((\"{:\"+fmt+\"}\").format(x)) for x in col]) for col in mat.T]\n",
        "    for x in mat:\n",
        "        for i, y in enumerate(x):\n",
        "            print((\"{:\"+str(col_maxes[i])+fmt+\"}\").format(y), end=\"  \")\n",
        "        print(\"\")\n",
        "# now print!        \n",
        "matprint(X_train[num])"
      ],
      "metadata": {
        "colab": {
          "base_uri": "https://localhost:8080/"
        },
        "id": "k7_SatL6Lq1y",
        "outputId": "e167c117-dbdb-487b-e4e4-402638b3ed99"
      },
      "execution_count": 10,
      "outputs": [
        {
          "output_type": "stream",
          "name": "stdout",
          "text": [
            "0  0  0  0  0  0    0    0    0    0    0    0    0    0    0    0    0    0    0    0  0  0  0  0  0  0  0  0  \n",
            "0  0  0  0  0  0    0    0    0    0    0    0    0    0    0    0    0    0    0    0  0  0  0  0  0  0  0  0  \n",
            "0  0  0  0  0  0    0    0    0    0    0    0    0    0    0    0    0    0    0    0  0  0  0  0  0  0  0  0  \n",
            "0  0  0  0  0  0    0    0    0    0    0    0    0    0    0    0    0    0    0    0  0  0  0  0  0  0  0  0  \n",
            "0  0  0  0  0  0    0    0    0    0    0    0    0    0    0    0    0    0    0    0  0  0  0  0  0  0  0  0  \n",
            "0  0  0  0  0  0    0    0    0    0    0    0    0    0    0    0    0    0    0    0  0  0  0  0  0  0  0  0  \n",
            "0  0  0  0  0  0    0    0    0    0    0    0    0    0    0    0    0    0    0    0  0  0  0  0  0  0  0  0  \n",
            "0  0  0  0  0  0    0    0    0    0  141  255  170   86    0    0    0    0   86   57  0  0  0  0  0  0  0  0  \n",
            "0  0  0  0  0  0    0   57  114  114  255  255  255  255  255  255  198  255  255  255  0  0  0  0  0  0  0  0  \n",
            "0  0  0  0  0  0    0  226  255  255  170    0   29   86   86  170  226  226  255  255  0  0  0  0  0  0  0  0  \n",
            "0  0  0  0  0  0    0  255  255  226    0    0    0    0    0    0    0    0  255  255  0  0  0  0  0  0  0  0  \n",
            "0  0  0  0  0  0   86  255  255   57    0    0    0    0    0    0    0    0  255  255  0  0  0  0  0  0  0  0  \n",
            "0  0  0  0  0  0  198  255  226    0    0    0    0    0    0    0    0    0  255  255  0  0  0  0  0  0  0  0  \n",
            "0  0  0  0  0  0  255  255  141    0    0    0    0    0    0    0    0    0  255  255  0  0  0  0  0  0  0  0  \n",
            "0  0  0  0  0  0  170  226   29    0    0    0    0    0    0    0    0    0  255  255  0  0  0  0  0  0  0  0  \n",
            "0  0  0  0  0  0    0    0    0    0    0    0    0    0    0    0    0    0  255  255  0  0  0  0  0  0  0  0  \n",
            "0  0  0  0  0  0    0    0    0    0    0    0    0    0    0    0    0   29  255  255  0  0  0  0  0  0  0  0  \n",
            "0  0  0  0  0  0    0    0    0    0    0    0    0    0    0    0    0   86  255  198  0  0  0  0  0  0  0  0  \n",
            "0  0  0  0  0  0    0    0    0    0    0    0    0    0    0    0    0  170  255  170  0  0  0  0  0  0  0  0  \n",
            "0  0  0  0  0  0    0    0    0    0    0    0    0    0    0    0    0  255  255   86  0  0  0  0  0  0  0  0  \n",
            "0  0  0  0  0  0    0    0    0    0    0    0    0    0    0    0   29  255  255    0  0  0  0  0  0  0  0  0  \n",
            "0  0  0  0  0  0    0    0    0    0    0    0    0    0    0    0  170  255  198    0  0  0  0  0  0  0  0  0  \n",
            "0  0  0  0  0  0    0    0    0    0    0    0    0    0    0    0  255  255  141    0  0  0  0  0  0  0  0  0  \n",
            "0  0  0  0  0  0    0    0    0    0    0    0    0    0    0   29  255  255    0    0  0  0  0  0  0  0  0  0  \n",
            "0  0  0  0  0  0    0    0    0    0    0    0    0    0    0  141  255  198    0    0  0  0  0  0  0  0  0  0  \n",
            "0  0  0  0  0  0    0    0    0    0    0    0    0    0    0  255  255   86    0    0  0  0  0  0  0  0  0  0  \n",
            "0  0  0  0  0  0    0    0    0    0    0    0    0    0    0  255  255    0    0    0  0  0  0  0  0  0  0  0  \n",
            "0  0  0  0  0  0    0    0    0    0    0    0    0    0    0    0    0    0    0    0  0  0  0  0  0  0  0  0  \n"
          ]
        }
      ]
    },
    {
      "cell_type": "code",
      "source": [
        "X_train = X_train.reshape(60000, 784)   # reshape 60,000 28*28 matrices into\n",
        "X_test = X_test.reshape(10000, 784)     # reshape 10,000 28*28 matrices into\n",
        "\n",
        "X_train = X_train.astype('float32')\n",
        "X_test = X_test.astype('float32')\n",
        "\n",
        "X_train /= 255\n",
        "X_test /= 255   # normalize each value for each pixel \n"
      ],
      "metadata": {
        "id": "Q-X-DEaSLsat"
      },
      "execution_count": 15,
      "outputs": []
    },
    {
      "cell_type": "code",
      "source": [
        "print(\"Training matrix shape\", X_train.shape)\n",
        "print(\"Testing matrix shape\", X_test.shape)      "
      ],
      "metadata": {
        "colab": {
          "base_uri": "https://localhost:8080/"
        },
        "id": "zaW9wcaFM7fx",
        "outputId": "9df8d0df-d843-4a8d-db15-3e167ef6a3cf"
      },
      "execution_count": 16,
      "outputs": [
        {
          "output_type": "stream",
          "name": "stdout",
          "text": [
            "Training matrix shape (60000, 784)\n",
            "Testing matrix shape (10000, 784)\n"
          ]
        }
      ]
    },
    {
      "cell_type": "code",
      "source": [
        "nb_classes = 10 # number of unique digits\n",
        "\n",
        "Y_train = np_utils.to_categorical(y_train, nb_classes)\n",
        "Y_test = np_utils.to_categorical(y_test, nb_classes)"
      ],
      "metadata": {
        "id": "TRCHiUieOsOu"
      },
      "execution_count": 18,
      "outputs": []
    },
    {
      "cell_type": "code",
      "source": [
        "# The Sequential model is a linear stack of layers\n",
        "model = Sequential()"
      ],
      "metadata": {
        "id": "1a5wK3csJ5lW"
      },
      "execution_count": 19,
      "outputs": []
    },
    {
      "cell_type": "code",
      "source": [
        "# The first hidden layer is a set of 512 nodes (artifical neurons)\n",
        "# Each \n",
        "model.add(Dense(512, input_shape = (784,)))"
      ],
      "metadata": {
        "id": "R63W6AWoIpXw"
      },
      "execution_count": 21,
      "outputs": []
    },
    {
      "cell_type": "code",
      "source": [
        "model.add(Activation('relu'))"
      ],
      "metadata": {
        "id": "ylJWyTULRRjO"
      },
      "execution_count": 22,
      "outputs": []
    },
    {
      "cell_type": "code",
      "source": [
        "model.add(Dropout(0.2))"
      ],
      "metadata": {
        "id": "LWmsid3GIBBc"
      },
      "execution_count": 23,
      "outputs": []
    },
    {
      "cell_type": "code",
      "source": [
        "# Adding Second layer\n",
        "model.add(Dense(512))\n",
        "model.add(Activation('relu'))\n",
        "model.add(Dropout(0.2))"
      ],
      "metadata": {
        "id": "5RfIWQrEG3Aw"
      },
      "execution_count": 24,
      "outputs": []
    },
    {
      "cell_type": "markdown",
      "source": [
        "# The Final Output Layer"
      ],
      "metadata": {
        "id": "FYi0XkhDUNuv"
      }
    },
    {
      "cell_type": "code",
      "source": [
        "model.add(Dense(10))"
      ],
      "metadata": {
        "id": "z7IAlKupURQi"
      },
      "execution_count": 25,
      "outputs": []
    },
    {
      "cell_type": "code",
      "source": [
        "model.add(Activation('softmax'))"
      ],
      "metadata": {
        "id": "YpZW6espUmvO"
      },
      "execution_count": 26,
      "outputs": []
    },
    {
      "cell_type": "code",
      "source": [
        "# Summary of the model\n",
        "\n",
        "model.summary()"
      ],
      "metadata": {
        "colab": {
          "base_uri": "https://localhost:8080/"
        },
        "id": "gm5GUOIgUvCJ",
        "outputId": "d0bc08e0-b3bc-4e55-e1fb-a1da361c0635"
      },
      "execution_count": 27,
      "outputs": [
        {
          "output_type": "stream",
          "name": "stdout",
          "text": [
            "Model: \"sequential\"\n",
            "_________________________________________________________________\n",
            " Layer (type)                Output Shape              Param #   \n",
            "=================================================================\n",
            " dense (Dense)               (None, 512)               401920    \n",
            "                                                                 \n",
            " activation (Activation)     (None, 512)               0         \n",
            "                                                                 \n",
            " dropout (Dropout)           (None, 512)               0         \n",
            "                                                                 \n",
            " dense_1 (Dense)             (None, 512)               262656    \n",
            "                                                                 \n",
            " activation_1 (Activation)   (None, 512)               0         \n",
            "                                                                 \n",
            " dropout_1 (Dropout)         (None, 512)               0         \n",
            "                                                                 \n",
            " dense_2 (Dense)             (None, 10)                5130      \n",
            "                                                                 \n",
            " activation_2 (Activation)   (None, 10)                0         \n",
            "                                                                 \n",
            "=================================================================\n",
            "Total params: 669,706\n",
            "Trainable params: 669,706\n",
            "Non-trainable params: 0\n",
            "_________________________________________________________________\n"
          ]
        }
      ]
    },
    {
      "cell_type": "markdown",
      "source": [
        "What are trainable and non- trininable parametersin the summary"
      ],
      "metadata": {
        "id": "KMk93nsQVrJu"
      }
    },
    {
      "cell_type": "markdown",
      "source": [
        "## Compiling the model"
      ],
      "metadata": {
        "id": "Zql6izGwWUhx"
      }
    },
    {
      "cell_type": "code",
      "source": [
        "model.compile(loss = 'categorical_crossentropy', optimizer='adam',\n",
        "              metrics = ['accuracy'])\n"
      ],
      "metadata": {
        "id": "x1BWxPMxWYf4"
      },
      "execution_count": 28,
      "outputs": []
    },
    {
      "cell_type": "code",
      "source": [
        "model.fit(X_train, Y_train,\n",
        "          batch_size=128, epochs = 10,\n",
        "          verbose=1)"
      ],
      "metadata": {
        "colab": {
          "base_uri": "https://localhost:8080/"
        },
        "id": "2X4YqRWrYxIw",
        "outputId": "7ee2e5ca-a0a1-4d30-95af-9652e0ffc264"
      },
      "execution_count": 30,
      "outputs": [
        {
          "output_type": "stream",
          "name": "stdout",
          "text": [
            "Epoch 1/10\n",
            "469/469 [==============================] - 5s 10ms/step - loss: 0.1637 - accuracy: 0.9509\n",
            "Epoch 2/10\n",
            "469/469 [==============================] - 5s 10ms/step - loss: 0.1428 - accuracy: 0.9571\n",
            "Epoch 3/10\n",
            "469/469 [==============================] - 5s 10ms/step - loss: 0.1263 - accuracy: 0.9618\n",
            "Epoch 4/10\n",
            "469/469 [==============================] - 5s 10ms/step - loss: 0.1127 - accuracy: 0.9662\n",
            "Epoch 5/10\n",
            "469/469 [==============================] - 5s 10ms/step - loss: 0.1037 - accuracy: 0.9681\n",
            "Epoch 6/10\n",
            "469/469 [==============================] - 5s 10ms/step - loss: 0.0931 - accuracy: 0.9718\n",
            "Epoch 7/10\n",
            "469/469 [==============================] - 5s 10ms/step - loss: 0.0854 - accuracy: 0.9737\n",
            "Epoch 8/10\n",
            "469/469 [==============================] - 5s 10ms/step - loss: 0.0802 - accuracy: 0.9751\n",
            "Epoch 9/10\n",
            "469/469 [==============================] - 5s 11ms/step - loss: 0.0733 - accuracy: 0.9779\n",
            "Epoch 10/10\n",
            "469/469 [==============================] - 5s 10ms/step - loss: 0.0682 - accuracy: 0.9784\n"
          ]
        },
        {
          "output_type": "execute_result",
          "data": {
            "text/plain": [
              "<keras.callbacks.History at 0x7f15ccb089d0>"
            ]
          },
          "metadata": {},
          "execution_count": 30
        }
      ]
    },
    {
      "cell_type": "code",
      "source": [],
      "metadata": {
        "id": "WHS3cUVCVxq0"
      },
      "execution_count": null,
      "outputs": []
    },
    {
      "cell_type": "code",
      "source": [],
      "metadata": {
        "id": "OeWGdXSeZXLr"
      },
      "execution_count": null,
      "outputs": []
    },
    {
      "cell_type": "code",
      "source": [],
      "metadata": {
        "id": "N7YHoYKVVR7L"
      },
      "execution_count": null,
      "outputs": []
    },
    {
      "cell_type": "code",
      "source": [],
      "metadata": {
        "id": "NJCZtyFeVSw8"
      },
      "execution_count": null,
      "outputs": []
    }
  ]
}